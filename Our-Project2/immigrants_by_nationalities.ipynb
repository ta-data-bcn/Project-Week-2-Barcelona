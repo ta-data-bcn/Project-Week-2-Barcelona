{
 "cells": [
  {
   "cell_type": "code",
   "execution_count": 1,
   "metadata": {},
   "outputs": [],
   "source": [
    "import pandas as pd\n",
    "import numpy as np\n",
    "import os\n",
    "import sqlalchemy"
   ]
  },
  {
   "cell_type": "code",
   "execution_count": 2,
   "metadata": {},
   "outputs": [
    {
     "data": {
      "text/html": [
       "<div>\n",
       "<style scoped>\n",
       "    .dataframe tbody tr th:only-of-type {\n",
       "        vertical-align: middle;\n",
       "    }\n",
       "\n",
       "    .dataframe tbody tr th {\n",
       "        vertical-align: top;\n",
       "    }\n",
       "\n",
       "    .dataframe thead th {\n",
       "        text-align: right;\n",
       "    }\n",
       "</style>\n",
       "<table border=\"1\" class=\"dataframe\">\n",
       "  <thead>\n",
       "    <tr style=\"text-align: right;\">\n",
       "      <th></th>\n",
       "      <th>Year</th>\n",
       "      <th>District Code</th>\n",
       "      <th>District Name</th>\n",
       "      <th>Neighborhood Code</th>\n",
       "      <th>Neighborhood Name</th>\n",
       "      <th>Nationality</th>\n",
       "      <th>Number</th>\n",
       "    </tr>\n",
       "  </thead>\n",
       "  <tbody>\n",
       "    <tr>\n",
       "      <th>0</th>\n",
       "      <td>2017</td>\n",
       "      <td>1</td>\n",
       "      <td>Ciutat Vella</td>\n",
       "      <td>1</td>\n",
       "      <td>el Raval</td>\n",
       "      <td>Spain</td>\n",
       "      <td>1109</td>\n",
       "    </tr>\n",
       "    <tr>\n",
       "      <th>1</th>\n",
       "      <td>2017</td>\n",
       "      <td>1</td>\n",
       "      <td>Ciutat Vella</td>\n",
       "      <td>2</td>\n",
       "      <td>el Barri Gòtic</td>\n",
       "      <td>Spain</td>\n",
       "      <td>482</td>\n",
       "    </tr>\n",
       "  </tbody>\n",
       "</table>\n",
       "</div>"
      ],
      "text/plain": [
       "   Year  District Code District Name  Neighborhood Code Neighborhood Name  \\\n",
       "0  2017              1  Ciutat Vella                  1          el Raval   \n",
       "1  2017              1  Ciutat Vella                  2    el Barri Gòtic   \n",
       "\n",
       "  Nationality  Number  \n",
       "0       Spain    1109  \n",
       "1       Spain     482  "
      ]
     },
     "execution_count": 2,
     "metadata": {},
     "output_type": "execute_result"
    }
   ],
   "source": [
    "im_nat = pd.read_csv('immigrants-by-nationality.csv')\n",
    "im_nat.head(2)"
   ]
  },
  {
   "cell_type": "code",
   "execution_count": 3,
   "metadata": {},
   "outputs": [
    {
     "data": {
      "text/html": [
       "<div>\n",
       "<style scoped>\n",
       "    .dataframe tbody tr th:only-of-type {\n",
       "        vertical-align: middle;\n",
       "    }\n",
       "\n",
       "    .dataframe tbody tr th {\n",
       "        vertical-align: top;\n",
       "    }\n",
       "\n",
       "    .dataframe thead th {\n",
       "        text-align: right;\n",
       "    }\n",
       "</style>\n",
       "<table border=\"1\" class=\"dataframe\">\n",
       "  <thead>\n",
       "    <tr style=\"text-align: right;\">\n",
       "      <th></th>\n",
       "      <th>Year</th>\n",
       "      <th>Nationality</th>\n",
       "      <th>Number</th>\n",
       "    </tr>\n",
       "  </thead>\n",
       "  <tbody>\n",
       "    <tr>\n",
       "      <th>0</th>\n",
       "      <td>2017</td>\n",
       "      <td>Spain</td>\n",
       "      <td>1109</td>\n",
       "    </tr>\n",
       "    <tr>\n",
       "      <th>1</th>\n",
       "      <td>2017</td>\n",
       "      <td>Spain</td>\n",
       "      <td>482</td>\n",
       "    </tr>\n",
       "  </tbody>\n",
       "</table>\n",
       "</div>"
      ],
      "text/plain": [
       "   Year Nationality  Number\n",
       "0  2017       Spain    1109\n",
       "1  2017       Spain     482"
      ]
     },
     "execution_count": 3,
     "metadata": {},
     "output_type": "execute_result"
    }
   ],
   "source": [
    "country = im_nat.iloc[:,[0,5,6]].copy()\n",
    "country.head(2)"
   ]
  },
  {
   "cell_type": "code",
   "execution_count": 4,
   "metadata": {},
   "outputs": [
    {
     "data": {
      "text/plain": [
       "177"
      ]
     },
     "execution_count": 4,
     "metadata": {},
     "output_type": "execute_result"
    }
   ],
   "source": [
    "countries = list(country.Nationality.unique())\n",
    "len(countries)"
   ]
  },
  {
   "cell_type": "code",
   "execution_count": 5,
   "metadata": {},
   "outputs": [],
   "source": [
    "#spain = country.loc[country.Nationality == 'Spain'].copy()"
   ]
  },
  {
   "cell_type": "code",
   "execution_count": 6,
   "metadata": {},
   "outputs": [
    {
     "data": {
      "text/html": [
       "<div>\n",
       "<style scoped>\n",
       "    .dataframe tbody tr th:only-of-type {\n",
       "        vertical-align: middle;\n",
       "    }\n",
       "\n",
       "    .dataframe tbody tr th {\n",
       "        vertical-align: top;\n",
       "    }\n",
       "\n",
       "    .dataframe thead th {\n",
       "        text-align: right;\n",
       "    }\n",
       "</style>\n",
       "<table border=\"1\" class=\"dataframe\">\n",
       "  <thead>\n",
       "    <tr style=\"text-align: right;\">\n",
       "      <th></th>\n",
       "      <th>Number</th>\n",
       "    </tr>\n",
       "    <tr>\n",
       "      <th>Nationality</th>\n",
       "      <th></th>\n",
       "    </tr>\n",
       "  </thead>\n",
       "  <tbody>\n",
       "    <tr>\n",
       "      <th>Afghanistan</th>\n",
       "      <td>61</td>\n",
       "    </tr>\n",
       "    <tr>\n",
       "      <th>Albania</th>\n",
       "      <td>234</td>\n",
       "    </tr>\n",
       "    <tr>\n",
       "      <th>Algeria</th>\n",
       "      <td>778</td>\n",
       "    </tr>\n",
       "    <tr>\n",
       "      <th>Andorra</th>\n",
       "      <td>191</td>\n",
       "    </tr>\n",
       "    <tr>\n",
       "      <th>Angola</th>\n",
       "      <td>36</td>\n",
       "    </tr>\n",
       "    <tr>\n",
       "      <th>Antigua and Barbuda</th>\n",
       "      <td>1</td>\n",
       "    </tr>\n",
       "    <tr>\n",
       "      <th>Argentina</th>\n",
       "      <td>4392</td>\n",
       "    </tr>\n",
       "    <tr>\n",
       "      <th>Armenia</th>\n",
       "      <td>742</td>\n",
       "    </tr>\n",
       "    <tr>\n",
       "      <th>Australia</th>\n",
       "      <td>283</td>\n",
       "    </tr>\n",
       "    <tr>\n",
       "      <th>Austria</th>\n",
       "      <td>356</td>\n",
       "    </tr>\n",
       "    <tr>\n",
       "      <th>Azerbaijan</th>\n",
       "      <td>121</td>\n",
       "    </tr>\n",
       "    <tr>\n",
       "      <th>Bahrain</th>\n",
       "      <td>16</td>\n",
       "    </tr>\n",
       "    <tr>\n",
       "      <th>Bangladesh</th>\n",
       "      <td>2031</td>\n",
       "    </tr>\n",
       "    <tr>\n",
       "      <th>Barbados</th>\n",
       "      <td>3</td>\n",
       "    </tr>\n",
       "    <tr>\n",
       "      <th>Belarus</th>\n",
       "      <td>275</td>\n",
       "    </tr>\n",
       "    <tr>\n",
       "      <th>Belgium</th>\n",
       "      <td>791</td>\n",
       "    </tr>\n",
       "    <tr>\n",
       "      <th>Benin</th>\n",
       "      <td>13</td>\n",
       "    </tr>\n",
       "    <tr>\n",
       "      <th>Bolivia</th>\n",
       "      <td>3205</td>\n",
       "    </tr>\n",
       "    <tr>\n",
       "      <th>Bosnia and Herzegovina</th>\n",
       "      <td>44</td>\n",
       "    </tr>\n",
       "    <tr>\n",
       "      <th>Botswana</th>\n",
       "      <td>2</td>\n",
       "    </tr>\n",
       "    <tr>\n",
       "      <th>Brasil</th>\n",
       "      <td>4679</td>\n",
       "    </tr>\n",
       "    <tr>\n",
       "      <th>Bulgaria</th>\n",
       "      <td>839</td>\n",
       "    </tr>\n",
       "    <tr>\n",
       "      <th>Burkina Faso</th>\n",
       "      <td>12</td>\n",
       "    </tr>\n",
       "    <tr>\n",
       "      <th>Burundi</th>\n",
       "      <td>5</td>\n",
       "    </tr>\n",
       "    <tr>\n",
       "      <th>Cambodja</th>\n",
       "      <td>5</td>\n",
       "    </tr>\n",
       "    <tr>\n",
       "      <th>Camerun</th>\n",
       "      <td>121</td>\n",
       "    </tr>\n",
       "    <tr>\n",
       "      <th>Canada</th>\n",
       "      <td>567</td>\n",
       "    </tr>\n",
       "    <tr>\n",
       "      <th>Cape Verde</th>\n",
       "      <td>7</td>\n",
       "    </tr>\n",
       "    <tr>\n",
       "      <th>Central African Republic</th>\n",
       "      <td>4</td>\n",
       "    </tr>\n",
       "    <tr>\n",
       "      <th>Chad</th>\n",
       "      <td>3</td>\n",
       "    </tr>\n",
       "    <tr>\n",
       "      <th>...</th>\n",
       "      <td>...</td>\n",
       "    </tr>\n",
       "    <tr>\n",
       "      <th>State of Palestine</th>\n",
       "      <td>55</td>\n",
       "    </tr>\n",
       "    <tr>\n",
       "      <th>Sudan</th>\n",
       "      <td>21</td>\n",
       "    </tr>\n",
       "    <tr>\n",
       "      <th>Suriname</th>\n",
       "      <td>1</td>\n",
       "    </tr>\n",
       "    <tr>\n",
       "      <th>Swaziland</th>\n",
       "      <td>1</td>\n",
       "    </tr>\n",
       "    <tr>\n",
       "      <th>Sweden</th>\n",
       "      <td>892</td>\n",
       "    </tr>\n",
       "    <tr>\n",
       "      <th>Switzerland</th>\n",
       "      <td>501</td>\n",
       "    </tr>\n",
       "    <tr>\n",
       "      <th>Syria</th>\n",
       "      <td>388</td>\n",
       "    </tr>\n",
       "    <tr>\n",
       "      <th>São Tomé and Príncipe</th>\n",
       "      <td>2</td>\n",
       "    </tr>\n",
       "    <tr>\n",
       "      <th>Taiwan</th>\n",
       "      <td>1</td>\n",
       "    </tr>\n",
       "    <tr>\n",
       "      <th>Tajikistan</th>\n",
       "      <td>1</td>\n",
       "    </tr>\n",
       "    <tr>\n",
       "      <th>Tanzania</th>\n",
       "      <td>26</td>\n",
       "    </tr>\n",
       "    <tr>\n",
       "      <th>Thailand</th>\n",
       "      <td>83</td>\n",
       "    </tr>\n",
       "    <tr>\n",
       "      <th>The Bahamas</th>\n",
       "      <td>3</td>\n",
       "    </tr>\n",
       "    <tr>\n",
       "      <th>Togo</th>\n",
       "      <td>8</td>\n",
       "    </tr>\n",
       "    <tr>\n",
       "      <th>Trinidad and Tobago</th>\n",
       "      <td>11</td>\n",
       "    </tr>\n",
       "    <tr>\n",
       "      <th>Tunisia</th>\n",
       "      <td>149</td>\n",
       "    </tr>\n",
       "    <tr>\n",
       "      <th>Turkey</th>\n",
       "      <td>1023</td>\n",
       "    </tr>\n",
       "    <tr>\n",
       "      <th>Turkmenistan</th>\n",
       "      <td>14</td>\n",
       "    </tr>\n",
       "    <tr>\n",
       "      <th>Uganda</th>\n",
       "      <td>14</td>\n",
       "    </tr>\n",
       "    <tr>\n",
       "      <th>Ukraine</th>\n",
       "      <td>2814</td>\n",
       "    </tr>\n",
       "    <tr>\n",
       "      <th>United Arab Emirates</th>\n",
       "      <td>8</td>\n",
       "    </tr>\n",
       "    <tr>\n",
       "      <th>United Kingdom</th>\n",
       "      <td>3737</td>\n",
       "    </tr>\n",
       "    <tr>\n",
       "      <th>United States</th>\n",
       "      <td>3909</td>\n",
       "    </tr>\n",
       "    <tr>\n",
       "      <th>Uruguay</th>\n",
       "      <td>770</td>\n",
       "    </tr>\n",
       "    <tr>\n",
       "      <th>Uzbekistan</th>\n",
       "      <td>64</td>\n",
       "    </tr>\n",
       "    <tr>\n",
       "      <th>Venezuela</th>\n",
       "      <td>6642</td>\n",
       "    </tr>\n",
       "    <tr>\n",
       "      <th>Vietnam</th>\n",
       "      <td>203</td>\n",
       "    </tr>\n",
       "    <tr>\n",
       "      <th>Yemen</th>\n",
       "      <td>6</td>\n",
       "    </tr>\n",
       "    <tr>\n",
       "      <th>Zambia</th>\n",
       "      <td>4</td>\n",
       "    </tr>\n",
       "    <tr>\n",
       "      <th>Zimbabwe</th>\n",
       "      <td>11</td>\n",
       "    </tr>\n",
       "  </tbody>\n",
       "</table>\n",
       "<p>177 rows × 1 columns</p>\n",
       "</div>"
      ],
      "text/plain": [
       "                          Number\n",
       "Nationality                     \n",
       "Afghanistan                   61\n",
       "Albania                      234\n",
       "Algeria                      778\n",
       "Andorra                      191\n",
       "Angola                        36\n",
       "Antigua and Barbuda            1\n",
       "Argentina                   4392\n",
       "Armenia                      742\n",
       "Australia                    283\n",
       "Austria                      356\n",
       "Azerbaijan                   121\n",
       "Bahrain                       16\n",
       "Bangladesh                  2031\n",
       "Barbados                       3\n",
       "Belarus                      275\n",
       "Belgium                      791\n",
       "Benin                         13\n",
       "Bolivia                     3205\n",
       "Bosnia and Herzegovina        44\n",
       "Botswana                       2\n",
       "Brasil                      4679\n",
       "Bulgaria                     839\n",
       "Burkina Faso                  12\n",
       "Burundi                        5\n",
       "Cambodja                       5\n",
       "Camerun                      121\n",
       "Canada                       567\n",
       "Cape Verde                     7\n",
       "Central African Republic       4\n",
       "Chad                           3\n",
       "...                          ...\n",
       "State of Palestine            55\n",
       "Sudan                         21\n",
       "Suriname                       1\n",
       "Swaziland                      1\n",
       "Sweden                       892\n",
       "Switzerland                  501\n",
       "Syria                        388\n",
       "São Tomé and Príncipe          2\n",
       "Taiwan                         1\n",
       "Tajikistan                     1\n",
       "Tanzania                      26\n",
       "Thailand                      83\n",
       "The Bahamas                    3\n",
       "Togo                           8\n",
       "Trinidad and Tobago           11\n",
       "Tunisia                      149\n",
       "Turkey                      1023\n",
       "Turkmenistan                  14\n",
       "Uganda                        14\n",
       "Ukraine                     2814\n",
       "United Arab Emirates           8\n",
       "United Kingdom              3737\n",
       "United States               3909\n",
       "Uruguay                      770\n",
       "Uzbekistan                    64\n",
       "Venezuela                   6642\n",
       "Vietnam                      203\n",
       "Yemen                          6\n",
       "Zambia                         4\n",
       "Zimbabwe                      11\n",
       "\n",
       "[177 rows x 1 columns]"
      ]
     },
     "execution_count": 6,
     "metadata": {},
     "output_type": "execute_result"
    }
   ],
   "source": [
    "country.groupby('Nationality').sum()[['Number']]"
   ]
  },
  {
   "cell_type": "code",
   "execution_count": 7,
   "metadata": {},
   "outputs": [
    {
     "data": {
      "text/plain": [
       "Number    271481\n",
       "dtype: object"
      ]
     },
     "execution_count": 7,
     "metadata": {},
     "output_type": "execute_result"
    }
   ],
   "source": [
    "country.sum()[['Number']]"
   ]
  },
  {
   "cell_type": "code",
   "execution_count": 8,
   "metadata": {},
   "outputs": [],
   "source": [
    "# y_15 = country.loc[(country.Year == 2015),].copy() # To create a separate table for all the data in 2015 (Not used)\n",
    "# y_15.sum()[['Number']]"
   ]
  },
  {
   "cell_type": "code",
   "execution_count": 9,
   "metadata": {},
   "outputs": [],
   "source": [
    "# y_16 = country.loc[(country.Year == 2016),].copy() # To create a separate table for all the data in 2016 (Not used)\n",
    "# y_16.sum()[['Number']]"
   ]
  },
  {
   "cell_type": "code",
   "execution_count": 10,
   "metadata": {},
   "outputs": [],
   "source": [
    "# y_17 = country.loc[(country.Year == 2017),].copy() # To create a separate table for all the data in 2017 (Not used)\n",
    "# y_17.sum()[['Number']]"
   ]
  },
  {
   "cell_type": "code",
   "execution_count": 11,
   "metadata": {},
   "outputs": [
    {
     "data": {
      "text/plain": [
       "Number    165051\n",
       "dtype: object"
      ]
     },
     "execution_count": 11,
     "metadata": {},
     "output_type": "execute_result"
    }
   ],
   "source": [
    "# To create a table for the immigrants for all years (2015, 2016, 2017) from all the countries except spain\n",
    "all_y_nospain = country.loc[(country.Nationality != 'Spain'),].copy()\n",
    "all_y_nonspain_sum = all_y_nospain.sum()[['Number']] #To get the sum of immigrantes in from all the countries except spain\n",
    "all_y_nonspain_sum"
   ]
  },
  {
   "cell_type": "code",
   "execution_count": 12,
   "metadata": {},
   "outputs": [
    {
     "data": {
      "text/plain": [
       "Number    9.75032\n",
       "dtype: object"
      ]
     },
     "execution_count": 12,
     "metadata": {},
     "output_type": "execute_result"
    }
   ],
   "source": [
    "italy_all_years = all_y_nospain.loc[(country.Nationality == 'Italy'),] #To create a separate table for Italy in the three years\n",
    "italy_all_sum = italy_all_years.sum()[['Number']] #To sum the Italy immigrants in the three years combined\n",
    "percentage_italy_all = (italy_all_sum / all_y_nonspain_sum) * 100 #To get the percentage of italy immegrants in the three years\n",
    "percentage_italy_all"
   ]
  },
  {
   "cell_type": "code",
   "execution_count": 13,
   "metadata": {},
   "outputs": [
    {
     "data": {
      "text/plain": [
       "Number    5.88121\n",
       "dtype: object"
      ]
     },
     "execution_count": 13,
     "metadata": {},
     "output_type": "execute_result"
    }
   ],
   "source": [
    "pakistan_all_years = all_y_nospain.loc[(country.Nationality == 'Pakistan'),] #To create a separate table for Pakistan in the three years\n",
    "pakistan_all_sum = pakistan_all_years.sum()[['Number']] #To sum the Pakistan immigrants in the three years combined\n",
    "percentage_pakistan_all = (pakistan_all_sum / all_y_nonspain_sum) * 100 #To get the percentage of Pakistan immegrants in the three years\n",
    "percentage_pakistan_all"
   ]
  },
  {
   "cell_type": "code",
   "execution_count": 14,
   "metadata": {},
   "outputs": [
    {
     "data": {
      "text/plain": [
       "Number    5.66431\n",
       "dtype: object"
      ]
     },
     "execution_count": 14,
     "metadata": {},
     "output_type": "execute_result"
    }
   ],
   "source": [
    "china_all_years = all_y_nospain.loc[(country.Nationality == 'China'),] #To create a separate table for China in the three years\n",
    "china_all_sum = china_all_years.sum()[['Number']] #To sum the China immigrants in the three years combined\n",
    "percentage_china_all = (china_all_sum / all_y_nonspain_sum) * 100 #To get the percentage of China immegrants in the three years\n",
    "percentage_china_all"
   ]
  },
  {
   "cell_type": "code",
   "execution_count": 15,
   "metadata": {},
   "outputs": [
    {
     "data": {
      "text/plain": [
       "Number    4.71188\n",
       "dtype: object"
      ]
     },
     "execution_count": 15,
     "metadata": {},
     "output_type": "execute_result"
    }
   ],
   "source": [
    "colombia_all_years = all_y_nospain.loc[(country.Nationality == 'Colombia'),] #To create a separate table for Colombia in the three years\n",
    "colombia_all_sum = colombia_all_years.sum()[['Number']] #To sum the Colombia immigrants in the three years combined\n",
    "percentage_colombia_all = (colombia_all_sum / all_y_nonspain_sum) * 100 #To get the percentage of Colombia immegrants in the three years\n",
    "percentage_colombia_all"
   ]
  },
  {
   "cell_type": "code",
   "execution_count": 16,
   "metadata": {},
   "outputs": [
    {
     "data": {
      "text/plain": [
       "Number    4.30715\n",
       "dtype: object"
      ]
     },
     "execution_count": 16,
     "metadata": {},
     "output_type": "execute_result"
    }
   ],
   "source": [
    "france_all_years = all_y_nospain.loc[(country.Nationality == 'France'),] #To create a separate table for France in the three years\n",
    "france_all_sum = france_all_years.sum()[['Number']] #To sum the France immigrants in the three years combined\n",
    "percentage_france_all = (france_all_sum / all_y_nonspain_sum) * 100 #To get the percentage of France immegrants in the three years\n",
    "percentage_france_all"
   ]
  },
  {
   "cell_type": "code",
   "execution_count": 17,
   "metadata": {},
   "outputs": [
    {
     "data": {
      "text/plain": [
       "Number    4.07995\n",
       "dtype: object"
      ]
     },
     "execution_count": 17,
     "metadata": {},
     "output_type": "execute_result"
    }
   ],
   "source": [
    "honduras_all_years = all_y_nospain.loc[(country.Nationality == 'Honduras'),] #To create a separate table for Honduras in the three years\n",
    "honduras_all_sum = honduras_all_years.sum()[['Number']] #To sum the Honduras immigrants in the three years combined\n",
    "percentage_honduras_all = (honduras_all_sum / all_y_nonspain_sum) * 100 #To get the percentage of Honduras immegrants in the three years\n",
    "percentage_honduras_all"
   ]
  },
  {
   "cell_type": "code",
   "execution_count": 18,
   "metadata": {},
   "outputs": [
    {
     "data": {
      "text/plain": [
       "Number    4.02421\n",
       "dtype: object"
      ]
     },
     "execution_count": 18,
     "metadata": {},
     "output_type": "execute_result"
    }
   ],
   "source": [
    "venezuela_all_years = all_y_nospain.loc[(country.Nationality == 'Venezuela'),] #To create a separate table for Venezuela in the three years\n",
    "venezuela_all_sum = venezuela_all_years.sum()[['Number']] #To sum the Venezuela immigrants in the three years combined\n",
    "percentage_venezuela_all = (venezuela_all_sum / all_y_nonspain_sum) * 100 #To get the percentage of Venezuela immegrants in the three years\n",
    "percentage_venezuela_all"
   ]
  },
  {
   "cell_type": "code",
   "execution_count": 19,
   "metadata": {},
   "outputs": [
    {
     "data": {
      "text/plain": [
       "Number    3.37714\n",
       "dtype: object"
      ]
     },
     "execution_count": 19,
     "metadata": {},
     "output_type": "execute_result"
    }
   ],
   "source": [
    "morocco_all_years = all_y_nospain.loc[(country.Nationality == 'Morocco'),] #To create a separate table for Morocco in the three years\n",
    "morocco_all_sum = morocco_all_years.sum()[['Number']] #To sum the Morocco immigrants in the three years combined\n",
    "percentage_morocco_all = (morocco_all_sum / all_y_nonspain_sum) * 100 #To get the percentage of Morocco immegrants in the three years\n",
    "percentage_morocco_all"
   ]
  },
  {
   "cell_type": "code",
   "execution_count": 20,
   "metadata": {},
   "outputs": [
    {
     "data": {
      "text/plain": [
       "Number    3.33109\n",
       "dtype: object"
      ]
     },
     "execution_count": 20,
     "metadata": {},
     "output_type": "execute_result"
    }
   ],
   "source": [
    "peru_all_years = all_y_nospain.loc[(country.Nationality == 'Peru'),] #To create a separate table for Peru in the three years\n",
    "peru_all_sum = peru_all_years.sum()[['Number']] #To sum the Peru immigrants in the three years combined\n",
    "percentage_peru_all = (peru_all_sum / all_y_nonspain_sum) * 100 #To get the percentage of Peru immegrants in the three years\n",
    "percentage_peru_all"
   ]
  },
  {
   "cell_type": "code",
   "execution_count": 21,
   "metadata": {},
   "outputs": [
    {
     "data": {
      "text/plain": [
       "Number    2.83488\n",
       "dtype: object"
      ]
     },
     "execution_count": 21,
     "metadata": {},
     "output_type": "execute_result"
    }
   ],
   "source": [
    "brasil_all_years = all_y_nospain.loc[(country.Nationality == 'Brasil'),] #To create a separate table for Brasil in the three years\n",
    "brasil_all_sum = brasil_all_years.sum()[['Number']] #To sum the Brasil immigrants in the three years combined\n",
    "percentage_brasil_all = (brasil_all_sum / all_y_nonspain_sum) * 100 #To get the percentage of Brasil immegrants in the three years\n",
    "percentage_brasil_all"
   ]
  },
  {
   "cell_type": "code",
   "execution_count": 22,
   "metadata": {},
   "outputs": [
    {
     "data": {
      "text/plain": [
       "Number    50956\n",
       "dtype: object"
      ]
     },
     "execution_count": 22,
     "metadata": {},
     "output_type": "execute_result"
    }
   ],
   "source": [
    "# To create a table for the immigrants from year 2015 from all the countries except spain\n",
    "y_15_nospain = country.loc[(country.Year == 2015) & (country.Nationality != 'Spain'),].copy()\n",
    "y_15_nospain_sum = y_15_nospain.sum()[['Number']]\n",
    "y_15_nospain_sum"
   ]
  },
  {
   "cell_type": "code",
   "execution_count": 23,
   "metadata": {},
   "outputs": [
    {
     "data": {
      "text/plain": [
       "Number    52122\n",
       "dtype: object"
      ]
     },
     "execution_count": 23,
     "metadata": {},
     "output_type": "execute_result"
    }
   ],
   "source": [
    "# To create a table for the immigrants from year 2016 from all the countries except spain\n",
    "y_16_nospain = country.loc[(country.Year == 2016) & (country.Nationality != 'Spain'),].copy()\n",
    "y_16_nospain_sum = y_16_nospain.sum()[['Number']]\n",
    "y_16_nospain_sum"
   ]
  },
  {
   "cell_type": "code",
   "execution_count": 24,
   "metadata": {},
   "outputs": [
    {
     "data": {
      "text/plain": [
       "Number    61973\n",
       "dtype: object"
      ]
     },
     "execution_count": 24,
     "metadata": {},
     "output_type": "execute_result"
    }
   ],
   "source": [
    "# To create a table for the immigrants from year 2017 from all the countries except spain\n",
    "y_17_nospain = country.loc[(country.Year == 2017) & (country.Nationality != 'Spain'),].copy()\n",
    "y_17_nospain_sum = y_17_nospain.sum()[['Number']]\n",
    "y_17_nospain_sum"
   ]
  },
  {
   "cell_type": "code",
   "execution_count": 25,
   "metadata": {},
   "outputs": [
    {
     "data": {
      "text/plain": [
       "Number    9.44148\n",
       "dtype: object"
      ]
     },
     "execution_count": 25,
     "metadata": {},
     "output_type": "execute_result"
    }
   ],
   "source": [
    "italy_15 = y_15_nospain.loc[(country.Nationality == 'Italy'),] #To create a separate list for Italy in 2015\n",
    "italy_15_sum = italy_15.sum()[['Number']] #To sum the Italy immigrants in 2015\n",
    "percentage_italy_2015 = (italy_15_sum / y_15_nospain_sum) * 100 # To get the percentage of italy immigrants in 2015\n",
    "percentage_italy_2015"
   ]
  },
  {
   "cell_type": "code",
   "execution_count": 26,
   "metadata": {},
   "outputs": [
    {
     "data": {
      "text/plain": [
       "Number    9.54108\n",
       "dtype: object"
      ]
     },
     "execution_count": 26,
     "metadata": {},
     "output_type": "execute_result"
    }
   ],
   "source": [
    "italy_16 = y_16_nospain.loc[(country.Nationality == 'Italy'),] #To create a separate list for Italy in 2016\n",
    "italy_16_sum = italy_16.sum()[['Number']] #To sum the Italy immigrants in 2016\n",
    "percentage_italy_2016 = (italy_16_sum / y_16_nospain_sum) * 100 # To get the percentage of italy immigrants in 2016\n",
    "percentage_italy_2016"
   ]
  },
  {
   "cell_type": "code",
   "execution_count": 27,
   "metadata": {},
   "outputs": [
    {
     "data": {
      "text/plain": [
       "Number    10.1802\n",
       "dtype: object"
      ]
     },
     "execution_count": 27,
     "metadata": {},
     "output_type": "execute_result"
    }
   ],
   "source": [
    "italy_17 = y_17_nospain.loc[(country.Nationality == 'Italy'),] #To create a separate list for Italy in 2017\n",
    "italy_17_sum = italy_17.sum()[['Number']] #To sum the Italy immigrants in 2017\n",
    "percentage_italy_2017 = (italy_17_sum / y_17_nospain_sum) * 100 # To get the percentage of italy immigrants in 2017\n",
    "percentage_italy_2017"
   ]
  },
  {
   "cell_type": "code",
   "execution_count": 28,
   "metadata": {},
   "outputs": [
    {
     "data": {
      "text/plain": [
       "Number    7.27687\n",
       "dtype: object"
      ]
     },
     "execution_count": 28,
     "metadata": {},
     "output_type": "execute_result"
    }
   ],
   "source": [
    "pakistan_15 = y_15_nospain.loc[(country.Nationality == 'Pakistan'),] #To create a separate list for Pakistan in 2015\n",
    "pakistan_15_sum = pakistan_15.sum()[['Number']] #To sum the Pakistan immigrants in 2015\n",
    "percentage_pakistan_2015 = (pakistan_15_sum / y_15_nospain_sum) * 100 # To get the percentage of Pakistan immigrants in 2015\n",
    "percentage_pakistan_2015"
   ]
  },
  {
   "cell_type": "code",
   "execution_count": 29,
   "metadata": {},
   "outputs": [
    {
     "data": {
      "text/plain": [
       "Number    5.81712\n",
       "dtype: object"
      ]
     },
     "execution_count": 29,
     "metadata": {},
     "output_type": "execute_result"
    }
   ],
   "source": [
    "pakistan_16 = y_16_nospain.loc[(country.Nationality == 'Pakistan'),] #To create a separate list for Pakistan in 2016\n",
    "pakistan_16_sum = pakistan_16.sum()[['Number']] #To sum the Pakistan immigrants in 2016\n",
    "percentage_pakistan_2016 = (pakistan_16_sum / y_16_nospain_sum) * 100 # To get the percentage of Pakistan immigrants in 2016\n",
    "percentage_pakistan_2016"
   ]
  },
  {
   "cell_type": "code",
   "execution_count": 30,
   "metadata": {},
   "outputs": [
    {
     "data": {
      "text/plain": [
       "Number    4.78757\n",
       "dtype: object"
      ]
     },
     "execution_count": 30,
     "metadata": {},
     "output_type": "execute_result"
    }
   ],
   "source": [
    "pakistan_17 = y_17_nospain.loc[(country.Nationality == 'Pakistan'),] #To create a separate list for Pakistan in 2017\n",
    "pakistan_17_sum = pakistan_17.sum()[['Number']] #To sum the Pakistan immigrants in 2017\n",
    "percentage_pakistan_2017 = (pakistan_17_sum / y_17_nospain_sum) * 100 # To get the percentage of Pakistan immigrants in 2017\n",
    "percentage_pakistan_2017"
   ]
  },
  {
   "cell_type": "code",
   "execution_count": 31,
   "metadata": {},
   "outputs": [
    {
     "data": {
      "text/plain": [
       "Number    6.06602\n",
       "dtype: object"
      ]
     },
     "execution_count": 31,
     "metadata": {},
     "output_type": "execute_result"
    }
   ],
   "source": [
    "china_15 = y_15_nospain.loc[(country.Nationality == 'China'),] #To create a separate list for China in 2015\n",
    "china_15_sum = china_15.sum()[['Number']] #To sum the China immigrants in 2015\n",
    "percentage_china_2015 = (china_15_sum / y_15_nospain_sum) * 100 # To get the percentage of China immigrants in 2015\n",
    "percentage_china_2015"
   ]
  },
  {
   "cell_type": "code",
   "execution_count": 32,
   "metadata": {},
   "outputs": [
    {
     "data": {
      "text/plain": [
       "Number    5.67707\n",
       "dtype: object"
      ]
     },
     "execution_count": 32,
     "metadata": {},
     "output_type": "execute_result"
    }
   ],
   "source": [
    "china_16 = y_16_nospain.loc[(country.Nationality == 'China'),] #To create a separate list for China in 2016\n",
    "china_16_sum = china_16.sum()[['Number']] #To sum the China immigrants in 2016\n",
    "percentage_china_2016 = (china_16_sum / y_16_nospain_sum) * 100 # To get the percentage of China immigrants in 2016\n",
    "percentage_china_2016"
   ]
  },
  {
   "cell_type": "code",
   "execution_count": 33,
   "metadata": {},
   "outputs": [
    {
     "data": {
      "text/plain": [
       "Number    5.32329\n",
       "dtype: object"
      ]
     },
     "execution_count": 33,
     "metadata": {},
     "output_type": "execute_result"
    }
   ],
   "source": [
    "china_17 = y_17_nospain.loc[(country.Nationality == 'China'),] #To create a separate list for China in 2017\n",
    "china_17_sum = china_17.sum()[['Number']] #To sum the China immigrants in 2017\n",
    "percentage_china_2017 = (china_17_sum / y_17_nospain_sum) * 100 # To get the percentage of China immigrants in 2017\n",
    "percentage_china_2017"
   ]
  },
  {
   "cell_type": "code",
   "execution_count": 34,
   "metadata": {},
   "outputs": [
    {
     "data": {
      "text/plain": [
       "Number    4.27035\n",
       "dtype: object"
      ]
     },
     "execution_count": 34,
     "metadata": {},
     "output_type": "execute_result"
    }
   ],
   "source": [
    "france_15 = y_15_nospain.loc[(country.Nationality == 'France'),] #To create a separate list for France in 2015\n",
    "france_15_sum = france_15.sum()[['Number']] #To sum the France immigrants in 2015\n",
    "percentage_france_2015 = (france_15_sum / y_15_nospain_sum) * 100 # To get the percentage of France immigrants in 2015\n",
    "percentage_france_2015"
   ]
  },
  {
   "cell_type": "code",
   "execution_count": 35,
   "metadata": {},
   "outputs": [
    {
     "data": {
      "text/plain": [
       "Number    4.34174\n",
       "dtype: object"
      ]
     },
     "execution_count": 35,
     "metadata": {},
     "output_type": "execute_result"
    }
   ],
   "source": [
    "france_16 = y_16_nospain.loc[(country.Nationality == 'France'),] #To create a separate list for France in 2016\n",
    "france_16_sum = france_16.sum()[['Number']] #To sum the France immigrants in 2016\n",
    "percentage_france_2016 = (france_16_sum / y_16_nospain_sum) * 100 # To get the percentage of France immigrants in 2016\n",
    "percentage_france_2016"
   ]
  },
  {
   "cell_type": "code",
   "execution_count": 36,
   "metadata": {},
   "outputs": [
    {
     "data": {
      "text/plain": [
       "Number    4.30833\n",
       "dtype: object"
      ]
     },
     "execution_count": 36,
     "metadata": {},
     "output_type": "execute_result"
    }
   ],
   "source": [
    "france_17 = y_17_nospain.loc[(country.Nationality == 'France'),] #To create a separate list for France in 2017\n",
    "france_17_sum = france_17.sum()[['Number']] #To sum the France immigrants in 2017\n",
    "percentage_france_2017 = (france_17_sum / y_17_nospain_sum) * 100 # To get the percentage of France immigrants in 2017\n",
    "percentage_france_2017"
   ]
  },
  {
   "cell_type": "code",
   "execution_count": 37,
   "metadata": {},
   "outputs": [
    {
     "data": {
      "text/plain": [
       "Number    3.86804\n",
       "dtype: object"
      ]
     },
     "execution_count": 37,
     "metadata": {},
     "output_type": "execute_result"
    }
   ],
   "source": [
    "colombia_15 = y_15_nospain.loc[(country.Nationality == 'Colombia'),] #To create a separate list for Colombia in 2015\n",
    "colombia_15_sum = colombia_15.sum()[['Number']] #To sum the Colombia immigrants in 2015\n",
    "percentage_colombia_2015 = (colombia_15_sum / y_15_nospain_sum) * 100 # To get the percentage of Colombia immigrants in 2015\n",
    "percentage_colombia_2015"
   ]
  },
  {
   "cell_type": "code",
   "execution_count": 38,
   "metadata": {},
   "outputs": [
    {
     "data": {
      "text/plain": [
       "Number    4.89429\n",
       "dtype: object"
      ]
     },
     "execution_count": 38,
     "metadata": {},
     "output_type": "execute_result"
    }
   ],
   "source": [
    "colombia_16 = y_16_nospain.loc[(country.Nationality == 'Colombia'),] #To create a separate list for Colombia in 2016\n",
    "colombia_16_sum = colombia_16.sum()[['Number']] #To sum the Colombia immigrants in 2016\n",
    "percentage_colombia_2016 = (colombia_16_sum / y_16_nospain_sum) * 100 # To get the percentage of Colombia immigrants in 2016\n",
    "percentage_colombia_2016"
   ]
  },
  {
   "cell_type": "code",
   "execution_count": 39,
   "metadata": {},
   "outputs": [
    {
     "data": {
      "text/plain": [
       "Number    5.25229\n",
       "dtype: object"
      ]
     },
     "execution_count": 39,
     "metadata": {},
     "output_type": "execute_result"
    }
   ],
   "source": [
    "colombia_17 = y_17_nospain.loc[(country.Nationality == 'Colombia'),] #To create a separate list for Colombia in 2017\n",
    "colombia_17_sum = colombia_17.sum()[['Number']] #To sum the Colombia immigrants in 2017\n",
    "percentage_colombia_2017 = (colombia_17_sum / y_17_nospain_sum) * 100 # To get the percentage of Colombia immigrants in 2017\n",
    "percentage_colombia_2017"
   ]
  },
  {
   "cell_type": "code",
   "execution_count": 40,
   "metadata": {},
   "outputs": [
    {
     "data": {
      "text/plain": [
       "Number    3.79543\n",
       "dtype: object"
      ]
     },
     "execution_count": 40,
     "metadata": {},
     "output_type": "execute_result"
    }
   ],
   "source": [
    "morocco_15 = y_15_nospain.loc[(country.Nationality == 'Morocco'),] #To create a separate list for Morocco in 2015\n",
    "morocco_15_sum = morocco_15.sum()[['Number']] #To sum the Morocco immigrants in 2015\n",
    "percentage_morocco_2015 = (morocco_15_sum / y_15_nospain_sum) * 100 # To get the percentage of Morocco immigrants in 2015\n",
    "percentage_morocco_2015"
   ]
  },
  {
   "cell_type": "code",
   "execution_count": 41,
   "metadata": {},
   "outputs": [
    {
     "data": {
      "text/plain": [
       "Number    3.27885\n",
       "dtype: object"
      ]
     },
     "execution_count": 41,
     "metadata": {},
     "output_type": "execute_result"
    }
   ],
   "source": [
    "morocco_16 = y_16_nospain.loc[(country.Nationality == 'Morocco'),] #To create a separate list for Morocco in 2016\n",
    "morocco_16_sum = morocco_16.sum()[['Number']] #To sum the Morocco immigrants in 2016\n",
    "percentage_morocco_2016 = (morocco_16_sum / y_16_nospain_sum) * 100 # To get the percentage of Morocco immigrants in 2016\n",
    "percentage_morocco_2016"
   ]
  },
  {
   "cell_type": "code",
   "execution_count": 42,
   "metadata": {},
   "outputs": [
    {
     "data": {
      "text/plain": [
       "Number    3.11587\n",
       "dtype: object"
      ]
     },
     "execution_count": 42,
     "metadata": {},
     "output_type": "execute_result"
    }
   ],
   "source": [
    "morocco_17 = y_17_nospain.loc[(country.Nationality == 'Morocco'),] #To create a separate list for Morocco in 2017\n",
    "morocco_17_sum = morocco_17.sum()[['Number']] #To sum the Morocco immigrants in 2017\n",
    "percentage_morocco_2017 = (morocco_17_sum / y_17_nospain_sum) * 100 # To get the percentage of Morocco immigrants in 2017\n",
    "percentage_morocco_2017"
   ]
  },
  {
   "cell_type": "code",
   "execution_count": 43,
   "metadata": {},
   "outputs": [
    {
     "data": {
      "text/plain": [
       "Number    3.68946\n",
       "dtype: object"
      ]
     },
     "execution_count": 43,
     "metadata": {},
     "output_type": "execute_result"
    }
   ],
   "source": [
    "honduras_15 = y_15_nospain.loc[(country.Nationality == 'Honduras'),] #To create a separate list for Honduras in 2015\n",
    "honduras_15_sum = honduras_15.sum()[['Number']] #To sum the Honduras immigrants in 2015\n",
    "percentage_honduras_2015 = (honduras_15_sum / y_15_nospain_sum) * 100 # To get the percentage of Honduras immigrants in 2015\n",
    "percentage_honduras_2015"
   ]
  },
  {
   "cell_type": "code",
   "execution_count": 44,
   "metadata": {},
   "outputs": [
    {
     "data": {
      "text/plain": [
       "Number    4.00407\n",
       "dtype: object"
      ]
     },
     "execution_count": 44,
     "metadata": {},
     "output_type": "execute_result"
    }
   ],
   "source": [
    "honduras_16 = y_16_nospain.loc[(country.Nationality == 'Honduras'),] #To create a separate list for Honduras in 2016\n",
    "honduras_16_sum = honduras_16.sum()[['Number']] #To sum the Honduras immigrants in 2016\n",
    "percentage_honduras_2016 = (honduras_16_sum / y_16_nospain_sum) * 100 # To get the percentage of Honduras immigrants in 2016\n",
    "percentage_honduras_2016"
   ]
  },
  {
   "cell_type": "code",
   "execution_count": 45,
   "metadata": {},
   "outputs": [
    {
     "data": {
      "text/plain": [
       "Number    4.46485\n",
       "dtype: object"
      ]
     },
     "execution_count": 45,
     "metadata": {},
     "output_type": "execute_result"
    }
   ],
   "source": [
    "honduras_17 = y_17_nospain.loc[(country.Nationality == 'Honduras'),] #To create a separate list for Honduras in 2017\n",
    "honduras_17_sum = honduras_17.sum()[['Number']] #To sum the Honduras immigrants in 2017\n",
    "percentage_honduras_2017 = (honduras_17_sum / y_17_nospain_sum) * 100 # To get the percentage of Honduras immigrants in 2017\n",
    "percentage_honduras_2017"
   ]
  },
  {
   "cell_type": "code",
   "execution_count": 46,
   "metadata": {},
   "outputs": [
    {
     "data": {
      "text/plain": [
       "Number    3.08305\n",
       "dtype: object"
      ]
     },
     "execution_count": 46,
     "metadata": {},
     "output_type": "execute_result"
    }
   ],
   "source": [
    "venezuela_15 = y_15_nospain.loc[(country.Nationality == 'Venezuela'),] #To create a separate list for Venezuela in 2015\n",
    "venezuela_15_sum = venezuela_15.sum()[['Number']] #To sum the Venezuela immigrants in 2015\n",
    "percentage_venezuela_2015 = (venezuela_15_sum / y_15_nospain_sum) * 100 # To get the percentage of Venezuela immigrants in 2015\n",
    "percentage_venezuela_2015"
   ]
  },
  {
   "cell_type": "code",
   "execution_count": 47,
   "metadata": {},
   "outputs": [
    {
     "data": {
      "text/plain": [
       "Number    3.93308\n",
       "dtype: object"
      ]
     },
     "execution_count": 47,
     "metadata": {},
     "output_type": "execute_result"
    }
   ],
   "source": [
    "venezuela_16 = y_16_nospain.loc[(country.Nationality == 'Venezuela'),] #To create a separate list for Venezuela in 2016\n",
    "venezuela_16_sum = venezuela_16.sum()[['Number']] #To sum the Venezuela immigrants in 2016\n",
    "percentage_venezuela_2016 = (venezuela_16_sum / y_16_nospain_sum) * 100 # To get the percentage of Venezuela immigrants in 2016\n",
    "percentage_venezuela_2016"
   ]
  },
  {
   "cell_type": "code",
   "execution_count": 48,
   "metadata": {},
   "outputs": [
    {
     "data": {
      "text/plain": [
       "Number    4.8747\n",
       "dtype: object"
      ]
     },
     "execution_count": 48,
     "metadata": {},
     "output_type": "execute_result"
    }
   ],
   "source": [
    "venezuela_17 = y_17_nospain.loc[(country.Nationality == 'Venezuela'),] #To create a separate list for Venezuela in 2017\n",
    "venezuela_17_sum = venezuela_17.sum()[['Number']] #To sum the Venezuela immigrants in 2017\n",
    "percentage_venezuela_2017 = (venezuela_17_sum / y_17_nospain_sum) * 100 # To get the percentage of Venezuela immigrants in 2017\n",
    "percentage_venezuela_2017"
   ]
  },
  {
   "cell_type": "code",
   "execution_count": 49,
   "metadata": {},
   "outputs": [
    {
     "data": {
      "text/plain": [
       "Number    2.77887\n",
       "dtype: object"
      ]
     },
     "execution_count": 49,
     "metadata": {},
     "output_type": "execute_result"
    }
   ],
   "source": [
    "peru_15 = y_15_nospain.loc[(country.Nationality == 'Peru'),] #To create a separate list for Peru in 2015\n",
    "peru_15_sum = peru_15.sum()[['Number']] #To sum the Peru immigrants in 2015\n",
    "percentage_peru_2015 = (peru_15_sum / y_15_nospain_sum) * 100 # To get the percentage of Peru immigrants in 2015\n",
    "percentage_peru_2015"
   ]
  },
  {
   "cell_type": "code",
   "execution_count": 50,
   "metadata": {},
   "outputs": [
    {
     "data": {
      "text/plain": [
       "Number    3.08699\n",
       "dtype: object"
      ]
     },
     "execution_count": 50,
     "metadata": {},
     "output_type": "execute_result"
    }
   ],
   "source": [
    "peru_16 = y_16_nospain.loc[(country.Nationality == 'Peru'),] #To create a separate list for Peru in 2016\n",
    "peru_16_sum = peru_16.sum()[['Number']] #To sum the Peru immigrants in 2016\n",
    "percentage_peru_2016 = (peru_16_sum / y_16_nospain_sum) * 100 # To get the percentage of Peru immigrants in 2016\n",
    "percentage_peru_2016"
   ]
  },
  {
   "cell_type": "code",
   "execution_count": 51,
   "metadata": {},
   "outputs": [
    {
     "data": {
      "text/plain": [
       "Number    3.99045\n",
       "dtype: object"
      ]
     },
     "execution_count": 51,
     "metadata": {},
     "output_type": "execute_result"
    }
   ],
   "source": [
    "peru_17 = y_17_nospain.loc[(country.Nationality == 'Peru'),] #To create a separate list for Peru in 2017\n",
    "peru_17_sum = peru_17.sum()[['Number']] #To sum the Peru immigrants in 2017\n",
    "percentage_peru_2017 = (peru_17_sum / y_17_nospain_sum) * 100 # To get the percentage of Peru immigrants in 2017\n",
    "percentage_peru_2017"
   ]
  },
  {
   "cell_type": "code",
   "execution_count": 52,
   "metadata": {},
   "outputs": [
    {
     "data": {
      "text/plain": [
       "Number    2.76709\n",
       "dtype: object"
      ]
     },
     "execution_count": 52,
     "metadata": {},
     "output_type": "execute_result"
    }
   ],
   "source": [
    "brasil_15 = y_15_nospain.loc[(country.Nationality == 'Brasil'),] #To create a separate list for Brasil in 2015\n",
    "brasil_15_sum = brasil_15.sum()[['Number']] #To sum the Brasil immigrants in 2015\n",
    "percentage_brasil_2015 = (brasil_15_sum / y_15_nospain_sum) * 100 # To get the percentage of Brasil immigrants in 2015\n",
    "percentage_brasil_2015"
   ]
  },
  {
   "cell_type": "code",
   "execution_count": 53,
   "metadata": {},
   "outputs": [
    {
     "data": {
      "text/plain": [
       "Number    2.90089\n",
       "dtype: object"
      ]
     },
     "execution_count": 53,
     "metadata": {},
     "output_type": "execute_result"
    }
   ],
   "source": [
    "brasil_16 = y_16_nospain.loc[(country.Nationality == 'Brasil'),] #To create a separate list for Brasil in 2016\n",
    "brasil_16_sum = brasil_16.sum()[['Number']] #To sum the Brasil immigrants in 2016\n",
    "percentage_brasil_2016 = (brasil_16_sum / y_16_nospain_sum) * 100 # To get the percentage of Brasil immigrants in 2016\n",
    "percentage_brasil_2016"
   ]
  },
  {
   "cell_type": "code",
   "execution_count": 54,
   "metadata": {},
   "outputs": [
    {
     "data": {
      "text/plain": [
       "Number    3.04165\n",
       "dtype: object"
      ]
     },
     "execution_count": 54,
     "metadata": {},
     "output_type": "execute_result"
    }
   ],
   "source": [
    "argentina_17 = y_17_nospain.loc[(country.Nationality == 'Argentina'),] #To create a separate list for Argentina in 2017\n",
    "argentina_17_sum = argentina_17.sum()[['Number']] #To sum the Argentina immigrants in 2017\n",
    "percentage_argentina_2017 = (argentina_17_sum / y_17_nospain_sum) * 100 # To get the percentage of Argentina immigrants in 2017\n",
    "percentage_argentina_2017"
   ]
  },
  {
   "cell_type": "code",
   "execution_count": 55,
   "metadata": {
    "scrolled": true
   },
   "outputs": [
    {
     "data": {
      "text/html": [
       "<div>\n",
       "<style scoped>\n",
       "    .dataframe tbody tr th:only-of-type {\n",
       "        vertical-align: middle;\n",
       "    }\n",
       "\n",
       "    .dataframe tbody tr th {\n",
       "        vertical-align: top;\n",
       "    }\n",
       "\n",
       "    .dataframe thead th {\n",
       "        text-align: right;\n",
       "    }\n",
       "</style>\n",
       "<table border=\"1\" class=\"dataframe\">\n",
       "  <thead>\n",
       "    <tr style=\"text-align: right;\">\n",
       "      <th></th>\n",
       "      <th>Year</th>\n",
       "      <th>Number_of_immigrants</th>\n",
       "    </tr>\n",
       "  </thead>\n",
       "  <tbody>\n",
       "    <tr>\n",
       "      <th>0</th>\n",
       "      <td>2015</td>\n",
       "      <td>50956</td>\n",
       "    </tr>\n",
       "    <tr>\n",
       "      <th>1</th>\n",
       "      <td>2016</td>\n",
       "      <td>52122</td>\n",
       "    </tr>\n",
       "    <tr>\n",
       "      <th>2</th>\n",
       "      <td>2017</td>\n",
       "      <td>61973</td>\n",
       "    </tr>\n",
       "  </tbody>\n",
       "</table>\n",
       "</div>"
      ],
      "text/plain": [
       "   Year  Number_of_immigrants\n",
       "0  2015                 50956\n",
       "1  2016                 52122\n",
       "2  2017                 61973"
      ]
     },
     "execution_count": 55,
     "metadata": {},
     "output_type": "execute_result"
    }
   ],
   "source": [
    "# To create a table that shows the increase in immigrants over the three years.\n",
    "increase_in_immigrantes = pd.DataFrame({'Year': [2015, 2016, 2017], 'Number_of_immigrants': [y_15_nospain_sum[0], y_16_nospain_sum[0], y_17_nospain_sum[0]]})\n",
    "increase_in_immigrantes"
   ]
  },
  {
   "cell_type": "code",
   "execution_count": 56,
   "metadata": {},
   "outputs": [
    {
     "data": {
      "text/html": [
       "<div>\n",
       "<style scoped>\n",
       "    .dataframe tbody tr th:only-of-type {\n",
       "        vertical-align: middle;\n",
       "    }\n",
       "\n",
       "    .dataframe tbody tr th {\n",
       "        vertical-align: top;\n",
       "    }\n",
       "\n",
       "    .dataframe thead th {\n",
       "        text-align: right;\n",
       "    }\n",
       "</style>\n",
       "<table border=\"1\" class=\"dataframe\">\n",
       "  <thead>\n",
       "    <tr style=\"text-align: right;\">\n",
       "      <th></th>\n",
       "      <th>Country</th>\n",
       "      <th>Number_of_immigrants</th>\n",
       "      <th>Percentages_by_country_all_years</th>\n",
       "    </tr>\n",
       "  </thead>\n",
       "  <tbody>\n",
       "    <tr>\n",
       "      <th>0</th>\n",
       "      <td>Italy</td>\n",
       "      <td>16093</td>\n",
       "      <td>9.750320</td>\n",
       "    </tr>\n",
       "    <tr>\n",
       "      <th>1</th>\n",
       "      <td>Pakistan</td>\n",
       "      <td>9707</td>\n",
       "      <td>5.881212</td>\n",
       "    </tr>\n",
       "    <tr>\n",
       "      <th>2</th>\n",
       "      <td>China</td>\n",
       "      <td>9349</td>\n",
       "      <td>5.664310</td>\n",
       "    </tr>\n",
       "    <tr>\n",
       "      <th>3</th>\n",
       "      <td>Colombia</td>\n",
       "      <td>7777</td>\n",
       "      <td>4.711877</td>\n",
       "    </tr>\n",
       "    <tr>\n",
       "      <th>4</th>\n",
       "      <td>France</td>\n",
       "      <td>7109</td>\n",
       "      <td>4.307154</td>\n",
       "    </tr>\n",
       "    <tr>\n",
       "      <th>5</th>\n",
       "      <td>Honduras</td>\n",
       "      <td>6734</td>\n",
       "      <td>4.079951</td>\n",
       "    </tr>\n",
       "    <tr>\n",
       "      <th>6</th>\n",
       "      <td>Venezuela</td>\n",
       "      <td>6642</td>\n",
       "      <td>4.024211</td>\n",
       "    </tr>\n",
       "    <tr>\n",
       "      <th>7</th>\n",
       "      <td>Morocco</td>\n",
       "      <td>5574</td>\n",
       "      <td>3.377138</td>\n",
       "    </tr>\n",
       "    <tr>\n",
       "      <th>8</th>\n",
       "      <td>Peru</td>\n",
       "      <td>5498</td>\n",
       "      <td>3.331092</td>\n",
       "    </tr>\n",
       "    <tr>\n",
       "      <th>9</th>\n",
       "      <td>Brasil</td>\n",
       "      <td>4679</td>\n",
       "      <td>2.834881</td>\n",
       "    </tr>\n",
       "    <tr>\n",
       "      <th>10</th>\n",
       "      <td>Other</td>\n",
       "      <td>85889</td>\n",
       "      <td>52.037850</td>\n",
       "    </tr>\n",
       "  </tbody>\n",
       "</table>\n",
       "</div>"
      ],
      "text/plain": [
       "      Country  Number_of_immigrants  Percentages_by_country_all_years\n",
       "0       Italy                 16093                          9.750320\n",
       "1    Pakistan                  9707                          5.881212\n",
       "2       China                  9349                          5.664310\n",
       "3    Colombia                  7777                          4.711877\n",
       "4      France                  7109                          4.307154\n",
       "5    Honduras                  6734                          4.079951\n",
       "6   Venezuela                  6642                          4.024211\n",
       "7     Morocco                  5574                          3.377138\n",
       "8        Peru                  5498                          3.331092\n",
       "9      Brasil                  4679                          2.834881\n",
       "10      Other                 85889                         52.037850"
      ]
     },
     "execution_count": 56,
     "metadata": {},
     "output_type": "execute_result"
    }
   ],
   "source": [
    "# To create a table that shows the percentage of immigrants from the top 10 countries in the three years combined (2015, 2016 & 2017)\n",
    "percentages_by_country_all_years = pd.DataFrame({'Country': ['Italy', 'Pakistan', 'China', 'Colombia', 'France', 'Honduras', 'Venezuela', 'Morocco', 'Peru', 'Brasil', 'Other'],\n",
    "                                                 'Number_of_immigrants': [italy_all_sum[0], pakistan_all_sum[0], china_all_sum[0], colombia_all_sum[0], france_all_sum[0], honduras_all_sum[0], venezuela_all_sum[0], morocco_all_sum[0], peru_all_sum[0], brasil_all_sum[0], 85889],  \n",
    "                                                 'Percentages_by_country_all_years': [percentage_italy_all[0], percentage_pakistan_all[0], percentage_china_all[0], percentage_colombia_all[0], percentage_france_all[0], percentage_honduras_all[0], percentage_venezuela_all[0], percentage_morocco_all[0], percentage_peru_all[0], percentage_brasil_all[0], 52.03785]})\n",
    "percentages_by_country_all_years"
   ]
  },
  {
   "cell_type": "code",
   "execution_count": 57,
   "metadata": {},
   "outputs": [
    {
     "data": {
      "text/html": [
       "<div>\n",
       "<style scoped>\n",
       "    .dataframe tbody tr th:only-of-type {\n",
       "        vertical-align: middle;\n",
       "    }\n",
       "\n",
       "    .dataframe tbody tr th {\n",
       "        vertical-align: top;\n",
       "    }\n",
       "\n",
       "    .dataframe thead th {\n",
       "        text-align: right;\n",
       "    }\n",
       "</style>\n",
       "<table border=\"1\" class=\"dataframe\">\n",
       "  <thead>\n",
       "    <tr style=\"text-align: right;\">\n",
       "      <th></th>\n",
       "      <th>Country</th>\n",
       "      <th>Number_of_immigrants</th>\n",
       "      <th>Percentages_by_country_2015</th>\n",
       "    </tr>\n",
       "  </thead>\n",
       "  <tbody>\n",
       "    <tr>\n",
       "      <th>0</th>\n",
       "      <td>Italy</td>\n",
       "      <td>4811</td>\n",
       "      <td>9.441479</td>\n",
       "    </tr>\n",
       "    <tr>\n",
       "      <th>1</th>\n",
       "      <td>Pakistan</td>\n",
       "      <td>3708</td>\n",
       "      <td>7.276866</td>\n",
       "    </tr>\n",
       "    <tr>\n",
       "      <th>2</th>\n",
       "      <td>China</td>\n",
       "      <td>3091</td>\n",
       "      <td>6.066018</td>\n",
       "    </tr>\n",
       "    <tr>\n",
       "      <th>3</th>\n",
       "      <td>France</td>\n",
       "      <td>2176</td>\n",
       "      <td>4.270351</td>\n",
       "    </tr>\n",
       "    <tr>\n",
       "      <th>4</th>\n",
       "      <td>Colombia</td>\n",
       "      <td>1971</td>\n",
       "      <td>3.868043</td>\n",
       "    </tr>\n",
       "    <tr>\n",
       "      <th>5</th>\n",
       "      <td>Morocco</td>\n",
       "      <td>1934</td>\n",
       "      <td>3.795431</td>\n",
       "    </tr>\n",
       "    <tr>\n",
       "      <th>6</th>\n",
       "      <td>Honduras</td>\n",
       "      <td>1880</td>\n",
       "      <td>3.689458</td>\n",
       "    </tr>\n",
       "    <tr>\n",
       "      <th>7</th>\n",
       "      <td>Venezuela</td>\n",
       "      <td>1571</td>\n",
       "      <td>3.083052</td>\n",
       "    </tr>\n",
       "    <tr>\n",
       "      <th>8</th>\n",
       "      <td>Peru</td>\n",
       "      <td>1416</td>\n",
       "      <td>2.778868</td>\n",
       "    </tr>\n",
       "    <tr>\n",
       "      <th>9</th>\n",
       "      <td>Brasil</td>\n",
       "      <td>1410</td>\n",
       "      <td>2.767093</td>\n",
       "    </tr>\n",
       "    <tr>\n",
       "      <th>10</th>\n",
       "      <td>Other</td>\n",
       "      <td>26988</td>\n",
       "      <td>52.963341</td>\n",
       "    </tr>\n",
       "  </tbody>\n",
       "</table>\n",
       "</div>"
      ],
      "text/plain": [
       "      Country  Number_of_immigrants  Percentages_by_country_2015\n",
       "0       Italy                  4811                     9.441479\n",
       "1    Pakistan                  3708                     7.276866\n",
       "2       China                  3091                     6.066018\n",
       "3      France                  2176                     4.270351\n",
       "4    Colombia                  1971                     3.868043\n",
       "5     Morocco                  1934                     3.795431\n",
       "6    Honduras                  1880                     3.689458\n",
       "7   Venezuela                  1571                     3.083052\n",
       "8        Peru                  1416                     2.778868\n",
       "9      Brasil                  1410                     2.767093\n",
       "10      Other                 26988                    52.963341"
      ]
     },
     "execution_count": 57,
     "metadata": {},
     "output_type": "execute_result"
    }
   ],
   "source": [
    "# To create a table that shows the percentage of immigrants from the top 10 countries in 2015.\n",
    "percentages_by_country_2015 = pd.DataFrame({'Country': ['Italy', 'Pakistan', 'China', 'France', 'Colombia', 'Morocco', 'Honduras', 'Venezuela', 'Peru', 'Brasil', 'Other'],\n",
    "                                                 'Number_of_immigrants': [italy_15_sum[0], pakistan_15_sum[0], china_15_sum[0], france_15_sum[0], colombia_15_sum[0], morocco_15_sum[0], honduras_15_sum[0], venezuela_15_sum[0], peru_15_sum[0], brasil_15_sum[0], 26988],  \n",
    "                                                 'Percentages_by_country_2015': [percentage_italy_2015[0], percentage_pakistan_2015[0], percentage_china_2015[0], percentage_france_2015[0], percentage_colombia_2015[0], percentage_morocco_2015[0], percentage_honduras_2015[0], percentage_venezuela_2015[0], percentage_peru_2015[0], percentage_brasil_2015[0], 52.963341]})\n",
    "\n",
    "percentages_by_country_2015"
   ]
  },
  {
   "cell_type": "code",
   "execution_count": 58,
   "metadata": {},
   "outputs": [
    {
     "data": {
      "text/html": [
       "<div>\n",
       "<style scoped>\n",
       "    .dataframe tbody tr th:only-of-type {\n",
       "        vertical-align: middle;\n",
       "    }\n",
       "\n",
       "    .dataframe tbody tr th {\n",
       "        vertical-align: top;\n",
       "    }\n",
       "\n",
       "    .dataframe thead th {\n",
       "        text-align: right;\n",
       "    }\n",
       "</style>\n",
       "<table border=\"1\" class=\"dataframe\">\n",
       "  <thead>\n",
       "    <tr style=\"text-align: right;\">\n",
       "      <th></th>\n",
       "      <th>Country</th>\n",
       "      <th>Number_of_immigrants</th>\n",
       "      <th>Percentages_by_country_2016</th>\n",
       "    </tr>\n",
       "  </thead>\n",
       "  <tbody>\n",
       "    <tr>\n",
       "      <th>0</th>\n",
       "      <td>Italy</td>\n",
       "      <td>4973</td>\n",
       "      <td>9.541077</td>\n",
       "    </tr>\n",
       "    <tr>\n",
       "      <th>1</th>\n",
       "      <td>Pakistan</td>\n",
       "      <td>3032</td>\n",
       "      <td>5.817121</td>\n",
       "    </tr>\n",
       "    <tr>\n",
       "      <th>2</th>\n",
       "      <td>China</td>\n",
       "      <td>2959</td>\n",
       "      <td>5.677065</td>\n",
       "    </tr>\n",
       "    <tr>\n",
       "      <th>3</th>\n",
       "      <td>Colombia</td>\n",
       "      <td>2551</td>\n",
       "      <td>4.894286</td>\n",
       "    </tr>\n",
       "    <tr>\n",
       "      <th>4</th>\n",
       "      <td>France</td>\n",
       "      <td>2263</td>\n",
       "      <td>4.341737</td>\n",
       "    </tr>\n",
       "    <tr>\n",
       "      <th>5</th>\n",
       "      <td>Honduras</td>\n",
       "      <td>2087</td>\n",
       "      <td>4.004067</td>\n",
       "    </tr>\n",
       "    <tr>\n",
       "      <th>6</th>\n",
       "      <td>Venezuela</td>\n",
       "      <td>2050</td>\n",
       "      <td>3.933080</td>\n",
       "    </tr>\n",
       "    <tr>\n",
       "      <th>7</th>\n",
       "      <td>Morocco</td>\n",
       "      <td>1709</td>\n",
       "      <td>3.278846</td>\n",
       "    </tr>\n",
       "    <tr>\n",
       "      <th>8</th>\n",
       "      <td>Peru</td>\n",
       "      <td>1609</td>\n",
       "      <td>3.086988</td>\n",
       "    </tr>\n",
       "    <tr>\n",
       "      <th>9</th>\n",
       "      <td>Brasil</td>\n",
       "      <td>1512</td>\n",
       "      <td>2.900886</td>\n",
       "    </tr>\n",
       "    <tr>\n",
       "      <th>10</th>\n",
       "      <td>Other</td>\n",
       "      <td>27377</td>\n",
       "      <td>52.524800</td>\n",
       "    </tr>\n",
       "  </tbody>\n",
       "</table>\n",
       "</div>"
      ],
      "text/plain": [
       "      Country  Number_of_immigrants  Percentages_by_country_2016\n",
       "0       Italy                  4973                     9.541077\n",
       "1    Pakistan                  3032                     5.817121\n",
       "2       China                  2959                     5.677065\n",
       "3    Colombia                  2551                     4.894286\n",
       "4      France                  2263                     4.341737\n",
       "5    Honduras                  2087                     4.004067\n",
       "6   Venezuela                  2050                     3.933080\n",
       "7     Morocco                  1709                     3.278846\n",
       "8        Peru                  1609                     3.086988\n",
       "9      Brasil                  1512                     2.900886\n",
       "10      Other                 27377                    52.524800"
      ]
     },
     "execution_count": 58,
     "metadata": {},
     "output_type": "execute_result"
    }
   ],
   "source": [
    "# To create a table that shows the percentage of immigrants from the top 10 countries in 2016.\n",
    "percentages_by_country_2016 = pd.DataFrame({'Country': ['Italy', 'Pakistan', 'China', 'Colombia', 'France', 'Honduras', 'Venezuela', 'Morocco', 'Peru', 'Brasil', 'Other'],\n",
    "                                                 'Number_of_immigrants': [italy_16_sum[0], pakistan_16_sum[0], china_16_sum[0], colombia_16_sum[0], france_16_sum[0], honduras_16_sum[0], venezuela_16_sum[0], morocco_16_sum[0], peru_16_sum[0], brasil_16_sum[0], 27377],  \n",
    "                                                 'Percentages_by_country_2016': [percentage_italy_2016[0], percentage_pakistan_2016[0], percentage_china_2016[0], percentage_colombia_2016[0], percentage_france_2016[0], percentage_honduras_2016[0], percentage_venezuela_2016[0],percentage_morocco_2016[0], percentage_peru_2016[0], percentage_brasil_2016[0], 52.5248]})\n",
    "\n",
    "percentages_by_country_2016"
   ]
  },
  {
   "cell_type": "code",
   "execution_count": 59,
   "metadata": {},
   "outputs": [
    {
     "data": {
      "text/html": [
       "<div>\n",
       "<style scoped>\n",
       "    .dataframe tbody tr th:only-of-type {\n",
       "        vertical-align: middle;\n",
       "    }\n",
       "\n",
       "    .dataframe tbody tr th {\n",
       "        vertical-align: top;\n",
       "    }\n",
       "\n",
       "    .dataframe thead th {\n",
       "        text-align: right;\n",
       "    }\n",
       "</style>\n",
       "<table border=\"1\" class=\"dataframe\">\n",
       "  <thead>\n",
       "    <tr style=\"text-align: right;\">\n",
       "      <th></th>\n",
       "      <th>Country</th>\n",
       "      <th>Number_of_immigrants</th>\n",
       "      <th>Percentages_by_country_2017</th>\n",
       "    </tr>\n",
       "  </thead>\n",
       "  <tbody>\n",
       "    <tr>\n",
       "      <th>0</th>\n",
       "      <td>Italy</td>\n",
       "      <td>6309</td>\n",
       "      <td>10.180240</td>\n",
       "    </tr>\n",
       "    <tr>\n",
       "      <th>1</th>\n",
       "      <td>China</td>\n",
       "      <td>3299</td>\n",
       "      <td>5.323286</td>\n",
       "    </tr>\n",
       "    <tr>\n",
       "      <th>2</th>\n",
       "      <td>Colombia</td>\n",
       "      <td>3255</td>\n",
       "      <td>5.252287</td>\n",
       "    </tr>\n",
       "    <tr>\n",
       "      <th>3</th>\n",
       "      <td>Venezuela</td>\n",
       "      <td>3021</td>\n",
       "      <td>4.874703</td>\n",
       "    </tr>\n",
       "    <tr>\n",
       "      <th>4</th>\n",
       "      <td>Pakistan</td>\n",
       "      <td>2967</td>\n",
       "      <td>4.787569</td>\n",
       "    </tr>\n",
       "    <tr>\n",
       "      <th>5</th>\n",
       "      <td>Honduras</td>\n",
       "      <td>2767</td>\n",
       "      <td>4.464848</td>\n",
       "    </tr>\n",
       "    <tr>\n",
       "      <th>6</th>\n",
       "      <td>France</td>\n",
       "      <td>2670</td>\n",
       "      <td>4.308328</td>\n",
       "    </tr>\n",
       "    <tr>\n",
       "      <th>7</th>\n",
       "      <td>Peru</td>\n",
       "      <td>2473</td>\n",
       "      <td>3.990447</td>\n",
       "    </tr>\n",
       "    <tr>\n",
       "      <th>8</th>\n",
       "      <td>Morocco</td>\n",
       "      <td>1931</td>\n",
       "      <td>3.115873</td>\n",
       "    </tr>\n",
       "    <tr>\n",
       "      <th>9</th>\n",
       "      <td>Argentina</td>\n",
       "      <td>1885</td>\n",
       "      <td>3.041647</td>\n",
       "    </tr>\n",
       "    <tr>\n",
       "      <th>10</th>\n",
       "      <td>Other</td>\n",
       "      <td>31396</td>\n",
       "      <td>50.660770</td>\n",
       "    </tr>\n",
       "  </tbody>\n",
       "</table>\n",
       "</div>"
      ],
      "text/plain": [
       "      Country  Number_of_immigrants  Percentages_by_country_2017\n",
       "0       Italy                  6309                    10.180240\n",
       "1       China                  3299                     5.323286\n",
       "2    Colombia                  3255                     5.252287\n",
       "3   Venezuela                  3021                     4.874703\n",
       "4    Pakistan                  2967                     4.787569\n",
       "5    Honduras                  2767                     4.464848\n",
       "6      France                  2670                     4.308328\n",
       "7        Peru                  2473                     3.990447\n",
       "8     Morocco                  1931                     3.115873\n",
       "9   Argentina                  1885                     3.041647\n",
       "10      Other                 31396                    50.660770"
      ]
     },
     "execution_count": 59,
     "metadata": {},
     "output_type": "execute_result"
    }
   ],
   "source": [
    "# To create a table that shows the percentage of immigrants from the top 10 countries in 2017.\n",
    "percentages_by_country_2017 = pd.DataFrame({'Country': ['Italy', 'China', 'Colombia', 'Venezuela', 'Pakistan', 'Honduras', 'France', 'Peru', 'Morocco', 'Argentina', 'Other'], \n",
    "                                                 'Number_of_immigrants': [italy_17_sum[0], china_17_sum[0], colombia_17_sum[0], venezuela_17_sum[0], pakistan_17_sum[0], honduras_17_sum[0], france_17_sum[0], peru_17_sum[0], morocco_17_sum[0], argentina_17_sum[0], 31396],  \n",
    "                                                 'Percentages_by_country_2017': [percentage_italy_2017[0], percentage_china_2017[0], percentage_colombia_2017[0], percentage_venezuela_2017[0], percentage_pakistan_2017[0], percentage_honduras_2017[0], percentage_france_2017[0], percentage_peru_2017[0],percentage_morocco_2017[0], percentage_argentina_2017[0], 50.66077]})\n",
    "\n",
    "percentages_by_country_2017"
   ]
  },
  {
   "cell_type": "code",
   "execution_count": 60,
   "metadata": {},
   "outputs": [],
   "source": [
    "driver = 'mysql+pymysql'\n",
    "user = 'root'\n",
    "password = '################'\n",
    "ip = '35.234.159.108'\n",
    "database = 'Project2'\n",
    "\n",
    "conn_string = f'{driver}://{user}:{password}@{ip}/{database}'\n",
    "    \n",
    "conn = sqlalchemy.create_engine(conn_string)"
   ]
  },
  {
   "cell_type": "code",
   "execution_count": 65,
   "metadata": {},
   "outputs": [],
   "source": [
    "im_nat.to_sql('immigrants_by_nationality', conn)"
   ]
  },
  {
   "cell_type": "code",
   "execution_count": 66,
   "metadata": {},
   "outputs": [],
   "source": [
    "#The following tables are just for data presentation purposes, they derived from the main table 'im.nat'\n",
    "#using the code in the Jupyter notebook\n",
    "percentages_by_country_all_years.to_sql('percentages_by_country_all_years', conn)"
   ]
  },
  {
   "cell_type": "code",
   "execution_count": 67,
   "metadata": {},
   "outputs": [],
   "source": [
    "percentages_by_country_2015.to_sql('percentages_by_country_2015', conn)"
   ]
  },
  {
   "cell_type": "code",
   "execution_count": 68,
   "metadata": {},
   "outputs": [],
   "source": [
    "percentages_by_country_2016.to_sql('percentages_by_country_2016', conn)"
   ]
  },
  {
   "cell_type": "code",
   "execution_count": 69,
   "metadata": {},
   "outputs": [],
   "source": [
    "percentages_by_country_2017.to_sql('percentages_by_country_2017', conn)"
   ]
  },
  {
   "cell_type": "code",
   "execution_count": 70,
   "metadata": {},
   "outputs": [],
   "source": [
    "increase_in_immigrantes.to_sql('increase_in_immigrantes', conn)"
   ]
  },
  {
   "cell_type": "code",
   "execution_count": null,
   "metadata": {},
   "outputs": [],
   "source": []
  }
 ],
 "metadata": {
  "kernelspec": {
   "display_name": "Python 3",
   "language": "python",
   "name": "python3"
  },
  "language_info": {
   "codemirror_mode": {
    "name": "ipython",
    "version": 3
   },
   "file_extension": ".py",
   "mimetype": "text/x-python",
   "name": "python",
   "nbconvert_exporter": "python",
   "pygments_lexer": "ipython3",
   "version": "3.7.3"
  }
 },
 "nbformat": 4,
 "nbformat_minor": 2
}
