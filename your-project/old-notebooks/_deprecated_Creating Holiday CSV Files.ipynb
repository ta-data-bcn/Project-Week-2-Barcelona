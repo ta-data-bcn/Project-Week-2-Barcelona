{
 "cells": [
  {
   "cell_type": "code",
   "execution_count": 81,
   "metadata": {},
   "outputs": [],
   "source": [
    "import pandas as pd\n",
    "import numpy as np\n",
    "import re\n",
    "import ratio_function as f\n",
    "#Creating Date column"
   ]
  },
  {
   "cell_type": "code",
   "execution_count": 53,
   "metadata": {},
   "outputs": [],
   "source": [
    "f.holidays.drop([\"Unnamed: 0\", \"Unnamed: 0.1\"], axis=1, inplace=True)"
   ]
  },
  {
   "cell_type": "code",
   "execution_count": 54,
   "metadata": {},
   "outputs": [
    {
     "data": {
      "text/html": [
       "<div>\n",
       "<style scoped>\n",
       "    .dataframe tbody tr th:only-of-type {\n",
       "        vertical-align: middle;\n",
       "    }\n",
       "\n",
       "    .dataframe tbody tr th {\n",
       "        vertical-align: top;\n",
       "    }\n",
       "\n",
       "    .dataframe thead th {\n",
       "        text-align: right;\n",
       "    }\n",
       "</style>\n",
       "<table border=\"1\" class=\"dataframe\">\n",
       "  <thead>\n",
       "    <tr style=\"text-align: right;\">\n",
       "      <th></th>\n",
       "      <th>District Name</th>\n",
       "      <th>Weekday</th>\n",
       "      <th>Month</th>\n",
       "      <th>Day</th>\n",
       "      <th>Part of the day</th>\n",
       "      <th>Mild injuries</th>\n",
       "      <th>Serious injuries</th>\n",
       "      <th>Victims</th>\n",
       "      <th>Vehicles involved</th>\n",
       "      <th>Date</th>\n",
       "    </tr>\n",
       "  </thead>\n",
       "  <tbody>\n",
       "    <tr>\n",
       "      <th>0</th>\n",
       "      <td>Ciutat Vella</td>\n",
       "      <td>Friday</td>\n",
       "      <td>June</td>\n",
       "      <td>23</td>\n",
       "      <td>Night</td>\n",
       "      <td>1</td>\n",
       "      <td>0</td>\n",
       "      <td>1</td>\n",
       "      <td>1</td>\n",
       "      <td>June 23</td>\n",
       "    </tr>\n",
       "    <tr>\n",
       "      <th>1</th>\n",
       "      <td>Eixample</td>\n",
       "      <td>Friday</td>\n",
       "      <td>June</td>\n",
       "      <td>23</td>\n",
       "      <td>Morning</td>\n",
       "      <td>1</td>\n",
       "      <td>0</td>\n",
       "      <td>1</td>\n",
       "      <td>2</td>\n",
       "      <td>June 23</td>\n",
       "    </tr>\n",
       "    <tr>\n",
       "      <th>2</th>\n",
       "      <td>Eixample</td>\n",
       "      <td>Friday</td>\n",
       "      <td>June</td>\n",
       "      <td>23</td>\n",
       "      <td>Morning</td>\n",
       "      <td>1</td>\n",
       "      <td>0</td>\n",
       "      <td>1</td>\n",
       "      <td>2</td>\n",
       "      <td>June 23</td>\n",
       "    </tr>\n",
       "    <tr>\n",
       "      <th>3</th>\n",
       "      <td>Eixample</td>\n",
       "      <td>Friday</td>\n",
       "      <td>June</td>\n",
       "      <td>23</td>\n",
       "      <td>Afternoon</td>\n",
       "      <td>1</td>\n",
       "      <td>0</td>\n",
       "      <td>1</td>\n",
       "      <td>2</td>\n",
       "      <td>June 23</td>\n",
       "    </tr>\n",
       "    <tr>\n",
       "      <th>4</th>\n",
       "      <td>Sants-Montjuïc</td>\n",
       "      <td>Friday</td>\n",
       "      <td>June</td>\n",
       "      <td>23</td>\n",
       "      <td>Afternoon</td>\n",
       "      <td>2</td>\n",
       "      <td>0</td>\n",
       "      <td>2</td>\n",
       "      <td>1</td>\n",
       "      <td>June 23</td>\n",
       "    </tr>\n",
       "    <tr>\n",
       "      <th>...</th>\n",
       "      <td>...</td>\n",
       "      <td>...</td>\n",
       "      <td>...</td>\n",
       "      <td>...</td>\n",
       "      <td>...</td>\n",
       "      <td>...</td>\n",
       "      <td>...</td>\n",
       "      <td>...</td>\n",
       "      <td>...</td>\n",
       "      <td>...</td>\n",
       "    </tr>\n",
       "    <tr>\n",
       "      <th>683</th>\n",
       "      <td>Eixample</td>\n",
       "      <td>Tuesday</td>\n",
       "      <td>February</td>\n",
       "      <td>14</td>\n",
       "      <td>Morning</td>\n",
       "      <td>1</td>\n",
       "      <td>0</td>\n",
       "      <td>1</td>\n",
       "      <td>2</td>\n",
       "      <td>February 14</td>\n",
       "    </tr>\n",
       "    <tr>\n",
       "      <th>684</th>\n",
       "      <td>Les Corts</td>\n",
       "      <td>Tuesday</td>\n",
       "      <td>February</td>\n",
       "      <td>14</td>\n",
       "      <td>Morning</td>\n",
       "      <td>1</td>\n",
       "      <td>0</td>\n",
       "      <td>1</td>\n",
       "      <td>2</td>\n",
       "      <td>February 14</td>\n",
       "    </tr>\n",
       "    <tr>\n",
       "      <th>685</th>\n",
       "      <td>Sarrià-Sant Gervasi</td>\n",
       "      <td>Tuesday</td>\n",
       "      <td>February</td>\n",
       "      <td>14</td>\n",
       "      <td>Afternoon</td>\n",
       "      <td>1</td>\n",
       "      <td>0</td>\n",
       "      <td>1</td>\n",
       "      <td>2</td>\n",
       "      <td>February 14</td>\n",
       "    </tr>\n",
       "    <tr>\n",
       "      <th>686</th>\n",
       "      <td>Horta-Guinardó</td>\n",
       "      <td>Tuesday</td>\n",
       "      <td>February</td>\n",
       "      <td>14</td>\n",
       "      <td>Afternoon</td>\n",
       "      <td>0</td>\n",
       "      <td>0</td>\n",
       "      <td>0</td>\n",
       "      <td>1</td>\n",
       "      <td>February 14</td>\n",
       "    </tr>\n",
       "    <tr>\n",
       "      <th>687</th>\n",
       "      <td>Horta-Guinardó</td>\n",
       "      <td>Tuesday</td>\n",
       "      <td>February</td>\n",
       "      <td>14</td>\n",
       "      <td>Morning</td>\n",
       "      <td>2</td>\n",
       "      <td>0</td>\n",
       "      <td>2</td>\n",
       "      <td>2</td>\n",
       "      <td>February 14</td>\n",
       "    </tr>\n",
       "  </tbody>\n",
       "</table>\n",
       "<p>688 rows × 10 columns</p>\n",
       "</div>"
      ],
      "text/plain": [
       "           District Name  Weekday     Month  Day Part of the day  \\\n",
       "0           Ciutat Vella   Friday      June   23           Night   \n",
       "1               Eixample   Friday      June   23         Morning   \n",
       "2               Eixample   Friday      June   23         Morning   \n",
       "3               Eixample   Friday      June   23       Afternoon   \n",
       "4         Sants-Montjuïc   Friday      June   23       Afternoon   \n",
       "..                   ...      ...       ...  ...             ...   \n",
       "683             Eixample  Tuesday  February   14         Morning   \n",
       "684            Les Corts  Tuesday  February   14         Morning   \n",
       "685  Sarrià-Sant Gervasi  Tuesday  February   14       Afternoon   \n",
       "686       Horta-Guinardó  Tuesday  February   14       Afternoon   \n",
       "687       Horta-Guinardó  Tuesday  February   14         Morning   \n",
       "\n",
       "     Mild injuries  Serious injuries  Victims  Vehicles involved         Date  \n",
       "0                1                 0        1                  1      June 23  \n",
       "1                1                 0        1                  2      June 23  \n",
       "2                1                 0        1                  2      June 23  \n",
       "3                1                 0        1                  2      June 23  \n",
       "4                2                 0        2                  1      June 23  \n",
       "..             ...               ...      ...                ...          ...  \n",
       "683              1                 0        1                  2  February 14  \n",
       "684              1                 0        1                  2  February 14  \n",
       "685              1                 0        1                  2  February 14  \n",
       "686              0                 0        0                  1  February 14  \n",
       "687              2                 0        2                  2  February 14  \n",
       "\n",
       "[688 rows x 10 columns]"
      ]
     },
     "execution_count": 54,
     "metadata": {},
     "output_type": "execute_result"
    }
   ],
   "source": [
    "f.holidays"
   ]
  },
  {
   "cell_type": "code",
   "execution_count": 55,
   "metadata": {},
   "outputs": [
    {
     "data": {
      "text/plain": [
       "0          June 23\n",
       "1          June 23\n",
       "2          June 23\n",
       "3          June 23\n",
       "4          June 23\n",
       "          ...     \n",
       "683    February 14\n",
       "684    February 14\n",
       "685    February 14\n",
       "686    February 14\n",
       "687    February 14\n",
       "Name: Date, Length: 688, dtype: object"
      ]
     },
     "execution_count": 55,
     "metadata": {},
     "output_type": "execute_result"
    }
   ],
   "source": [
    "holidays[\"Date\"]"
   ]
  },
  {
   "cell_type": "code",
   "execution_count": 85,
   "metadata": {},
   "outputs": [],
   "source": [
    "San_Juan = holidays[holidays['Date'].isin(['June 23', 'June 24'])]"
   ]
  },
  {
   "cell_type": "code",
   "execution_count": 86,
   "metadata": {},
   "outputs": [],
   "source": [
    "San_Juan = San_Juan.to_csv(\"datasets/1.-Transportation/San_Juan.csv\")"
   ]
  },
  {
   "cell_type": "code",
   "execution_count": 87,
   "metadata": {},
   "outputs": [],
   "source": [
    "La_Merce = holidays[holidays['Date'].isin(['September 22', 'September 23', 'September 24', 'September 25'])]"
   ]
  },
  {
   "cell_type": "code",
   "execution_count": 88,
   "metadata": {},
   "outputs": [],
   "source": [
    "La_Merce = La_Merce.to_csv(\"datasets/1.-Transportation/La_Merce.csv\")"
   ]
  },
  {
   "cell_type": "code",
   "execution_count": 72,
   "metadata": {},
   "outputs": [],
   "source": [
    "Constday_Immac = holidays[holidays['Date'].isin(['December 6', 'December 7', 'December 8'])]"
   ]
  },
  {
   "cell_type": "code",
   "execution_count": 89,
   "metadata": {},
   "outputs": [],
   "source": [
    "Dec6_8 = Constday_Immac.to_csv(\"datasets/1.-Transportation/Dec6_8.csv\")"
   ]
  },
  {
   "cell_type": "code",
   "execution_count": 73,
   "metadata": {},
   "outputs": [],
   "source": [
    "Christmas = holidays[holidays['Date'].isin(['December 24', 'December 25'])]"
   ]
  },
  {
   "cell_type": "code",
   "execution_count": 90,
   "metadata": {},
   "outputs": [],
   "source": [
    "Christmas = Christmas.to_csv(\"datasets/1.-Transportation/Christmas.csv\")"
   ]
  },
  {
   "cell_type": "code",
   "execution_count": 93,
   "metadata": {},
   "outputs": [],
   "source": [
    "New_Years = holidays[holidays['Date'].isin(['December 31', 'January 1'])]"
   ]
  },
  {
   "cell_type": "code",
   "execution_count": 94,
   "metadata": {},
   "outputs": [],
   "source": [
    "New_Years = New_Years.to_csv(\"datasets/1.-Transportation/New_Years.csv\")"
   ]
  },
  {
   "cell_type": "code",
   "execution_count": 95,
   "metadata": {},
   "outputs": [],
   "source": [
    "DayofCat = holidays[holidays['Date'].isin(['September 8', 'September 9'])]"
   ]
  },
  {
   "cell_type": "code",
   "execution_count": 96,
   "metadata": {},
   "outputs": [],
   "source": [
    "    DayofCat = DayofCat.to_csv(\"datasets/1.-Transportation/Holidays/DayofCat.csv\")"
   ]
  },
  {
   "cell_type": "code",
   "execution_count": 79,
   "metadata": {},
   "outputs": [],
   "source": [
    "Holy_Week = holidays[holidays['Date'].isin(['April 14', 'April 15', 'April 16', 'April 17'])]"
   ]
  },
  {
   "cell_type": "code",
   "execution_count": null,
   "metadata": {},
   "outputs": [],
   "source": []
  }
 ],
 "metadata": {
  "kernelspec": {
   "display_name": "Python 3",
   "language": "python",
   "name": "python3"
  },
  "language_info": {
   "codemirror_mode": {
    "name": "ipython",
    "version": 3
   },
   "file_extension": ".py",
   "mimetype": "text/x-python",
   "name": "python",
   "nbconvert_exporter": "python",
   "pygments_lexer": "ipython3",
   "version": "3.8.3"
  }
 },
 "nbformat": 4,
 "nbformat_minor": 4
}
