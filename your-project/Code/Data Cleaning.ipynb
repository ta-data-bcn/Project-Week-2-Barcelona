{
 "cells": [
  {
   "cell_type": "markdown",
   "metadata": {},
   "source": [
    "# Data Cleaning\n",
    "\n",
    "This file consists of a sanity check of the provided data"
   ]
  },
  {
   "cell_type": "code",
   "execution_count": 1,
   "metadata": {},
   "outputs": [],
   "source": [
    "#We first import the pandas library and the provided data\n",
    "import pandas as pd\n",
    "import os\n",
    "sources_list = [file for file in os.listdir('../Sources/3.-Population/') if file.endswith('.csv')]\n",
    "df_lst = []\n",
    "for file in sources_list:\n",
    "    globals()[file[:-4]] = pd.read_csv('../Sources/3.-Population/' + file)\n",
    "    df_lst.append(globals()[file[:-4]])"
   ]
  },
  {
   "cell_type": "code",
   "execution_count": 2,
   "metadata": {},
   "outputs": [],
   "source": [
    "#We now keep only the data from 2017:\n",
    "immigrants_by_nationality_2017 = immigrants_by_nationality[immigrants_by_nationality[\"Year\"] == 2017]\n",
    "population_2017 = population[population[\"Year\"] == 2017]\n",
    "deaths_2017 = deaths[deaths[\"Year\"] == 2017]\n",
    "immigrants_emigrants_by_sex_2017 = immigrants_emigrants_by_sex[immigrants_emigrants_by_sex[\"Year\"] == 2017]\n",
    "immigrants_emigrants_by_age_2017 = immigrants_emigrants_by_age[immigrants_emigrants_by_age[\"Year\"] == 2017]\n",
    "births_2017 = births[births[\"Year\"] == 2017]"
   ]
  },
  {
   "cell_type": "code",
   "execution_count": 3,
   "metadata": {},
   "outputs": [
    {
     "name": "stdout",
     "output_type": "stream",
     "text": [
      "[[0, 97327], [2, 97327]]\n"
     ]
    }
   ],
   "source": [
    "#We check that the total values for 2017 match betweeen the datasets:\n",
    "checks = []\n",
    "checks.append([immigrants_emigrants_by_age_2017.Immigrants.sum() - immigrants_by_nationality_2017.Number.sum(),immigrants_by_nationality_2017.Number.sum()])\n",
    "checks.append([immigrants_by_nationality_2017.Number.sum() - immigrants_emigrants_by_sex_2017.Immigrants.sum(),immigrants_by_nationality_2017.Number.sum()])\n",
    "print(checks)"
   ]
  },
  {
   "cell_type": "code",
   "execution_count": 4,
   "metadata": {},
   "outputs": [
    {
     "name": "stdout",
     "output_type": "stream",
     "text": [
      "1620809 1651383 -30574 -0.018863419440538643\n"
     ]
    }
   ],
   "source": [
    "#We check that the total population in 2017 is well calculated:\n",
    "pop_16 = population[population[\"Year\"]==2016][\"Number\"].sum()\n",
    "imm_17 = immigrants_emigrants_by_age_2017.Immigrants.sum()\n",
    "em_17 = immigrants_emigrants_by_age_2017.Emigrants.sum()\n",
    "bir_17 = births_2017.Number.sum()\n",
    "de_17 = deaths_2017.Number.sum()\n",
    "pop_17 = population_2017.Number.sum()\n",
    "check = pop_16 + imm_17 + bir_17 - de_17 - em_17\n",
    "print(pop_17, check, pop_17 - check, (pop_17 - check)/pop_17)"
   ]
  },
  {
   "cell_type": "markdown",
   "metadata": {},
   "source": [
    "There is a small errror in the calculation but this difference is not significant, so we consider that the database provided has a good quality for our analysis"
   ]
  }
 ],
 "metadata": {
  "kernelspec": {
   "display_name": "Python 3",
   "language": "python",
   "name": "python3"
  },
  "language_info": {
   "codemirror_mode": {
    "name": "ipython",
    "version": 3
   },
   "file_extension": ".py",
   "mimetype": "text/x-python",
   "name": "python",
   "nbconvert_exporter": "python",
   "pygments_lexer": "ipython3",
   "version": "3.7.4"
  }
 },
 "nbformat": 4,
 "nbformat_minor": 4
}
