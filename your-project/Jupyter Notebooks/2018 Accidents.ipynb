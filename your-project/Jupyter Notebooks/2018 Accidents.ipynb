{
 "cells": [
  {
   "cell_type": "code",
   "execution_count": 1,
   "metadata": {},
   "outputs": [],
   "source": [
    "import pandas as pd"
   ]
  },
  {
   "cell_type": "code",
   "execution_count": 2,
   "metadata": {},
   "outputs": [],
   "source": [
    "accidents = pd.read_csv(\"../datasets/1.-Transportation/2018_accidents_vehicles_gu_bcn_.csv\")"
   ]
  },
  {
   "cell_type": "code",
   "execution_count": 8,
   "metadata": {},
   "outputs": [],
   "source": [
    "accidents_c = accidents.rename(columns= {\"Numero_expedient\": \"Expedient Number\", \"Nom_districte\":\"District Name\",\n",
    "                           \"Nom_barri\": \"Neighborhood Name\", \"Nom_carrer\": \"Street Name\",\n",
    "                           \"Dia_setmana\":\"Day of the Week\", \"Descripcio_tipus_vehicle\":\"Vehicle Type\",\n",
    "                          \"Descripcio_model\":\"Model\", \"Descripcio_marca\":\"Brand\", \"Descripcio_color\":\"Color\", \"Descripcio_tipus_dia\":\"Day Description\", \"NK_Any\":\"Year\", \n",
    "                        \"Nom_mes\":\"Month\", \"Dia_mes\":\"Day\", \"Hora_dia\":\"Hour\", \n",
    "                         \"Descripcio_torn\":\"Part of Day\", \"Descripcio_causa_vianant\":\"Pedestrian Cause\"})"
   ]
  },
  {
   "cell_type": "code",
   "execution_count": 9,
   "metadata": {},
   "outputs": [],
   "source": [
    "accidents_c.drop([\"Codi_districte\", \"Codi_barri\", \"Codi_carrer\", \"Descripcio_carnet\", \"Antiguitat_carnet\", \"Coordenada_UTM_X\", \"Coordenada_UTM_Y\", \"Descripcio_dia_setmana\", \"Mes_any\", \"Day Description\"], axis=1, inplace=True)"
   ]
  },
  {
   "cell_type": "code",
   "execution_count": 11,
   "metadata": {},
   "outputs": [],
   "source": [
    "accidents_c[\"Part of Day\"] = accidents_c[\"Part of Day\"].replace([\"Tarda\"], \"Afternoon\")"
   ]
  },
  {
   "cell_type": "code",
   "execution_count": 12,
   "metadata": {},
   "outputs": [],
   "source": [
    "accidents_c[\"Part of Day\"] = accidents_c[\"Part of Day\"].replace([\"Matí\"], \"Morning\")"
   ]
  },
  {
   "cell_type": "code",
   "execution_count": 13,
   "metadata": {},
   "outputs": [],
   "source": [
    "accidents_c[\"Part of Day\"] = accidents_c[\"Part of Day\"].replace([\"Nit\"], \"Night\")"
   ]
  },
  {
   "cell_type": "code",
   "execution_count": 14,
   "metadata": {},
   "outputs": [],
   "source": [
    "accidents_c[\"Day of the Week\"] = accidents_c[\"Day of the Week\"].replace([\"Dj\"], \"Thursday\")"
   ]
  },
  {
   "cell_type": "code",
   "execution_count": 15,
   "metadata": {},
   "outputs": [],
   "source": [
    "accidents_c[\"Day of the Week\"] = accidents_c[\"Day of the Week\"].replace([\"Dv\"], \"Friday\")"
   ]
  },
  {
   "cell_type": "code",
   "execution_count": 16,
   "metadata": {},
   "outputs": [],
   "source": [
    "accidents_c[\"Day of the Week\"] = accidents_c[\"Day of the Week\"].replace([\"Dg\"], \"Sunday\")"
   ]
  },
  {
   "cell_type": "code",
   "execution_count": 17,
   "metadata": {},
   "outputs": [],
   "source": [
    "accidents_c[\"Day of the Week\"] = accidents_c[\"Day of the Week\"].replace([\"Dl\"], \"Monday\")"
   ]
  },
  {
   "cell_type": "code",
   "execution_count": 18,
   "metadata": {},
   "outputs": [],
   "source": [
    "accidents_c[\"Day of the Week\"] = accidents_c[\"Day of the Week\"].replace([\"Dm\"], \"Tuesday\")"
   ]
  },
  {
   "cell_type": "code",
   "execution_count": 19,
   "metadata": {},
   "outputs": [],
   "source": [
    "accidents_c[\"Day of the Week\"] = accidents_c[\"Day of the Week\"].replace([\"Dc\"], \"Wednesday\")"
   ]
  },
  {
   "cell_type": "code",
   "execution_count": 20,
   "metadata": {},
   "outputs": [],
   "source": [
    "accidents_c[\"Day of the Week\"] = accidents_c[\"Day of the Week\"].replace([\"Ds\"], \"Saturday\")"
   ]
  },
  {
   "cell_type": "code",
   "execution_count": 21,
   "metadata": {},
   "outputs": [],
   "source": [
    "accidents_c[\"Month\"] = accidents_c[\"Month\"].replace([\"Gener\"], \"January\")"
   ]
  },
  {
   "cell_type": "code",
   "execution_count": 22,
   "metadata": {},
   "outputs": [],
   "source": [
    "accidents_c[\"Month\"] = accidents_c[\"Month\"].replace([\"Febrer\"], \"February\")"
   ]
  },
  {
   "cell_type": "code",
   "execution_count": 23,
   "metadata": {},
   "outputs": [],
   "source": [
    "accidents_c[\"Month\"] = accidents_c[\"Month\"].replace([\"Març\"], \"March\")"
   ]
  },
  {
   "cell_type": "code",
   "execution_count": 24,
   "metadata": {},
   "outputs": [],
   "source": [
    "accidents_c[\"Month\"] = accidents_c[\"Month\"].replace([\"Abril\"], \"April\")"
   ]
  },
  {
   "cell_type": "code",
   "execution_count": 25,
   "metadata": {},
   "outputs": [],
   "source": [
    "accidents_c[\"Month\"] = accidents_c[\"Month\"].replace([\"Maig\"], \"May\")"
   ]
  },
  {
   "cell_type": "code",
   "execution_count": 27,
   "metadata": {},
   "outputs": [],
   "source": [
    "accidents_c[\"Month\"] = accidents_c[\"Month\"].replace([\"Juny\"], \"June\")"
   ]
  },
  {
   "cell_type": "code",
   "execution_count": 29,
   "metadata": {},
   "outputs": [],
   "source": [
    "accidents_c[\"Month\"] = accidents_c[\"Month\"].replace([\"Juliol\"], \"July\")"
   ]
  },
  {
   "cell_type": "code",
   "execution_count": 30,
   "metadata": {},
   "outputs": [],
   "source": [
    "accidents_c[\"Month\"] = accidents_c[\"Month\"].replace([\"Agost\"], \"August\")"
   ]
  },
  {
   "cell_type": "code",
   "execution_count": 31,
   "metadata": {},
   "outputs": [],
   "source": [
    "accidents_c[\"Month\"] = accidents_c[\"Month\"].replace([\"Setembre\"], \"September\")"
   ]
  },
  {
   "cell_type": "code",
   "execution_count": 32,
   "metadata": {},
   "outputs": [],
   "source": [
    "accidents_c[\"Month\"] = accidents_c[\"Month\"].replace([\"Octubre\"], \"October\")"
   ]
  },
  {
   "cell_type": "code",
   "execution_count": 33,
   "metadata": {},
   "outputs": [],
   "source": [
    "accidents_c[\"Month\"] = accidents_c[\"Month\"].replace([\"Novembre\"], \"November\")"
   ]
  },
  {
   "cell_type": "code",
   "execution_count": 34,
   "metadata": {},
   "outputs": [],
   "source": [
    "accidents_c[\"Month\"] = accidents_c[\"Month\"].replace([\"Desembre\"], \"December\")"
   ]
  },
  {
   "cell_type": "code",
   "execution_count": 36,
   "metadata": {},
   "outputs": [],
   "source": [
    "accidents_c[\"Pedestrian Cause\"] = accidents_c[\"Pedestrian Cause\"].replace([\"No és causa del  vianant\"], \"Not caused by pedestrian\")"
   ]
  },
  {
   "cell_type": "code",
   "execution_count": 37,
   "metadata": {},
   "outputs": [],
   "source": [
    "accidents_c[\"Pedestrian Cause\"] = accidents_c[\"Pedestrian Cause\"].replace([\"Creuar per fora pas de vianants\"], \"Cross outside pedestrian crossing\")"
   ]
  },
  {
   "cell_type": "code",
   "execution_count": 38,
   "metadata": {},
   "outputs": [],
   "source": [
    "accidents_c[\"Pedestrian Cause\"] = accidents_c[\"Pedestrian Cause\"].replace([\"Desobeir el senyal del semàfor\"], \"Disobey the traffic light signal\")"
   ]
  },
  {
   "cell_type": "code",
   "execution_count": 39,
   "metadata": {},
   "outputs": [],
   "source": [
    "accidents_c[\"Pedestrian Cause\"] = accidents_c[\"Pedestrian Cause\"].replace([\"Altres\"], \"Others\")"
   ]
  },
  {
   "cell_type": "code",
   "execution_count": 40,
   "metadata": {},
   "outputs": [],
   "source": [
    "accidents_c[\"Pedestrian Cause\"] = accidents_c[\"Pedestrian Cause\"].replace([\"Transitar a peu per la calçada\"], \"Walk along the road\")"
   ]
  },
  {
   "cell_type": "code",
   "execution_count": 41,
   "metadata": {},
   "outputs": [],
   "source": [
    "accidents_c[\"Pedestrian Cause\"] = accidents_c[\"Pedestrian Cause\"].replace([\"Desobeir altres senyals\"], \"Disobey other signs\")"
   ]
  },
  {
   "cell_type": "code",
   "execution_count": 43,
   "metadata": {},
   "outputs": [
    {
     "data": {
      "text/plain": [
       "Not caused by pedestrian             18389\n",
       "Disobey the traffic light signal       240\n",
       "Cross outside pedestrian crossing      222\n",
       "Others                                 165\n",
       "Walk along the road                     53\n",
       "Disobey other signs                     10\n",
       "Name: Pedestrian Cause, dtype: int64"
      ]
     },
     "execution_count": 43,
     "metadata": {},
     "output_type": "execute_result"
    }
   ],
   "source": [
    "accidents_c[\"Pedestrian Cause\"].value_counts()"
   ]
  },
  {
   "cell_type": "code",
   "execution_count": 45,
   "metadata": {},
   "outputs": [
    {
     "data": {
      "text/plain": [
       "Afternoon    9317\n",
       "Morning      7512\n",
       "Night        2250\n",
       "Name: Part of Day, dtype: int64"
      ]
     },
     "execution_count": 45,
     "metadata": {},
     "output_type": "execute_result"
    }
   ],
   "source": [
    "accidents_c[\"Part of Day\"].value_counts()"
   ]
  },
  {
   "cell_type": "code",
   "execution_count": 47,
   "metadata": {},
   "outputs": [
    {
     "data": {
      "text/plain": [
       "HONDA          2787\n",
       "SEAT           1074\n",
       "VOLKSWAGEN      919\n",
       "YAMAHA          910\n",
       "PEUGEOT         809\n",
       "               ... \n",
       "RIDE              1\n",
       "SIMCA             1\n",
       "MATHIEU-YNO       1\n",
       "BAOTIAN           1\n",
       "CPI               1\n",
       "Name: Brand, Length: 190, dtype: int64"
      ]
     },
     "execution_count": 47,
     "metadata": {},
     "output_type": "execute_result"
    }
   ],
   "source": [
    "accidents_c[\"Brand\"].value_counts()"
   ]
  },
  {
   "cell_type": "code",
   "execution_count": 49,
   "metadata": {},
   "outputs": [
    {
     "data": {
      "text/plain": [
       "Friday       3340\n",
       "Wednesday    3037\n",
       "Thursday     3020\n",
       "Tuesday      3013\n",
       "Monday       2906\n",
       "Saturday     2093\n",
       "Sunday       1670\n",
       "Name: Day of the Week, dtype: int64"
      ]
     },
     "execution_count": 49,
     "metadata": {},
     "output_type": "execute_result"
    }
   ],
   "source": [
    "accidents_c[\"Day of the Week\"].value_counts()"
   ]
  },
  {
   "cell_type": "code",
   "execution_count": 50,
   "metadata": {},
   "outputs": [
    {
     "data": {
      "text/plain": [
       "la Dreta de l'Eixample             2217\n",
       "l'Antiga Esquerra de l'Eixample    1015\n",
       "la Nova Esquerra de l'Eixample      833\n",
       "la Sagrada Família                  773\n",
       "Sant Gervasi - Galvany              766\n",
       "                                   ... \n",
       "Ciutat Meridiana                     22\n",
       "Can Baró                             21\n",
       "Torre Baró                           15\n",
       "Vallbona                             11\n",
       "Can Peguera                          11\n",
       "Name: Neighborhood Name, Length: 73, dtype: int64"
      ]
     },
     "execution_count": 50,
     "metadata": {},
     "output_type": "execute_result"
    }
   ],
   "source": [
    "accidents_c[\"Neighborhood Name\"].value_counts()"
   ]
  },
  {
   "cell_type": "code",
   "execution_count": null,
   "metadata": {},
   "outputs": [],
   "source": []
  }
 ],
 "metadata": {
  "kernelspec": {
   "display_name": "Python 3",
   "language": "python",
   "name": "python3"
  },
  "language_info": {
   "codemirror_mode": {
    "name": "ipython",
    "version": 3
   },
   "file_extension": ".py",
   "mimetype": "text/x-python",
   "name": "python",
   "nbconvert_exporter": "python",
   "pygments_lexer": "ipython3",
   "version": "3.8.3"
  },
  "toc": {
   "base_numbering": 1,
   "nav_menu": {
    "height": "160px",
    "width": "303px"
   },
   "number_sections": true,
   "sideBar": true,
   "skip_h1_title": false,
   "title_cell": "Table of Contents",
   "title_sidebar": "Contents",
   "toc_cell": false,
   "toc_position": {},
   "toc_section_display": true,
   "toc_window_display": false
  },
  "varInspector": {
   "cols": {
    "lenName": 16,
    "lenType": 16,
    "lenVar": 40
   },
   "kernels_config": {
    "python": {
     "delete_cmd_postfix": "",
     "delete_cmd_prefix": "del ",
     "library": "var_list.py",
     "varRefreshCmd": "print(var_dic_list())"
    },
    "r": {
     "delete_cmd_postfix": ") ",
     "delete_cmd_prefix": "rm(",
     "library": "var_list.r",
     "varRefreshCmd": "cat(var_dic_list()) "
    }
   },
   "types_to_exclude": [
    "module",
    "function",
    "builtin_function_or_method",
    "instance",
    "_Feature"
   ],
   "window_display": false
  }
 },
 "nbformat": 4,
 "nbformat_minor": 4
}
