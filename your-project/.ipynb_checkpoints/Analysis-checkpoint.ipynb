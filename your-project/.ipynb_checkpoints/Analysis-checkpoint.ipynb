{
 "cells": [
  {
   "cell_type": "code",
   "execution_count": 1,
   "metadata": {},
   "outputs": [],
   "source": [
    "import pandas as pd\n",
    "import numpy as np"
   ]
  },
  {
   "cell_type": "code",
   "execution_count": 2,
   "metadata": {},
   "outputs": [],
   "source": [
    "main = pd.read_csv('main.csv', sep = \";\")\n",
    "type_cause_accident = pd.read_csv('type_cause_accident_formated.csv')\n",
    "vehicles_in_accident = pd.read_csv('vehicles_in_accident_formatted.csv')\n",
    "location = pd.read_csv('location.csv')"
   ]
  },
  {
   "cell_type": "code",
   "execution_count": 3,
   "metadata": {},
   "outputs": [
    {
     "name": "stdout",
     "output_type": "stream",
     "text": [
      "Number of accidents:  9936\n"
     ]
    }
   ],
   "source": [
    "#Number of accidents\n",
    "no_of_accident=main.loc[:,'Numero_victimes'].count()\n",
    "print('Number of accidents: ', no_of_accident)"
   ]
  },
  {
   "cell_type": "code",
   "execution_count": 4,
   "metadata": {},
   "outputs": [
    {
     "name": "stdout",
     "output_type": "stream",
     "text": [
      "Number of victims:  11898\n"
     ]
    }
   ],
   "source": [
    "#Number of victims\n",
    "no_of_victims = main.loc[:,'Numero_victimes'].sum()\n",
    "print(\"Number of victims: \",no_of_victims)"
   ]
  },
  {
   "cell_type": "code",
   "execution_count": 5,
   "metadata": {},
   "outputs": [
    {
     "name": "stdout",
     "output_type": "stream",
     "text": [
      "Deaths:  21\n"
     ]
    }
   ],
   "source": [
    "#Number of deaths\n",
    "no_of_deaths = main.loc[:,'Numero_morts'].sum()\n",
    "print(\"Deaths: \" , no_of_deaths)"
   ]
  },
  {
   "cell_type": "code",
   "execution_count": 6,
   "metadata": {},
   "outputs": [
    {
     "name": "stdout",
     "output_type": "stream",
     "text": [
      "Total number of vehicles involved:  19079\n"
     ]
    }
   ],
   "source": [
    "#Number of vehicles involved\n",
    "no_of_vehicles = vehicles_in_accident.loc[:, \"type_vehicle\"].count()\n",
    "print(\"Total number of vehicles involved: \", no_of_vehicles)"
   ]
  },
  {
   "cell_type": "code",
   "execution_count": 7,
   "metadata": {},
   "outputs": [
    {
     "name": "stdout",
     "output_type": "stream",
     "text": [
      "Mortality rate:  0.18%\n"
     ]
    }
   ],
   "source": [
    "#Mortality rate\n",
    "mortality_rate=no_of_deaths/no_of_victims\n",
    "print(\"Mortality rate: \", \"{:.2%}\".format(mortality_rate))"
   ]
  },
  {
   "cell_type": "code",
   "execution_count": 8,
   "metadata": {},
   "outputs": [
    {
     "name": "stdout",
     "output_type": "stream",
     "text": [
      "Average number of victims per accident:  1.1974637681159421\n"
     ]
    }
   ],
   "source": [
    "#Victim per accident\n",
    "victim_per_accident=main.loc[:,'Numero_victimes'].mean()\n",
    "print(\"Average number of victims per accident: \", victim_per_accident)"
   ]
  },
  {
   "cell_type": "code",
   "execution_count": 24,
   "metadata": {},
   "outputs": [
    {
     "data": {
      "text/plain": [
       "type_vehicle\n",
       "Turisme        7707\n",
       "Motocicleta    6102\n",
       "Furgoneta      1248\n",
       "Taxi            993\n",
       "Ciclomotor      891\n",
       "Name: Unnamed: 0, dtype: int64"
      ]
     },
     "execution_count": 24,
     "metadata": {},
     "output_type": "execute_result"
    }
   ],
   "source": [
    "#Number of accidents per type of vehicle\n",
    "accident_per_type=(vehicles_in_accident.groupby([\"type_vehicle\"]).count()).iloc[:,0]\n",
    "accident_per_type.sort_values(ascending=False).head()"
   ]
  },
  {
   "cell_type": "code",
   "execution_count": 10,
   "metadata": {},
   "outputs": [
    {
     "data": {
      "text/plain": [
       "Nom_districte\n",
       "Eixample                2947\n",
       "Sant MartÃ­             1185\n",
       "SarriÃ -Sant Gervasi    1120\n",
       "Sants-MontjuÃ¯c         1035\n",
       "Horta-GuinardÃ³          724\n",
       "Name: Numero_expedient, dtype: int64"
      ]
     },
     "execution_count": 10,
     "metadata": {},
     "output_type": "execute_result"
    }
   ],
   "source": [
    "#Number of accidents per district\n",
    "accident_per_district=(main.groupby([\"Nom_districte\"]).count()).iloc[:,0]\n",
    "accident_per_district.sort_values(ascending=False).head()"
   ]
  },
  {
   "cell_type": "code",
   "execution_count": 25,
   "metadata": {},
   "outputs": [
    {
     "data": {
      "text/html": [
       "<div>\n",
       "<style scoped>\n",
       "    .dataframe tbody tr th:only-of-type {\n",
       "        vertical-align: middle;\n",
       "    }\n",
       "\n",
       "    .dataframe tbody tr th {\n",
       "        vertical-align: top;\n",
       "    }\n",
       "\n",
       "    .dataframe thead th {\n",
       "        text-align: right;\n",
       "    }\n",
       "</style>\n",
       "<table border=\"1\" class=\"dataframe\">\n",
       "  <thead>\n",
       "    <tr style=\"text-align: right;\">\n",
       "      <th></th>\n",
       "      <th>Unnamed: 0</th>\n",
       "    </tr>\n",
       "    <tr>\n",
       "      <th>brand</th>\n",
       "      <th></th>\n",
       "    </tr>\n",
       "  </thead>\n",
       "  <tbody>\n",
       "    <tr>\n",
       "      <th>HONDA</th>\n",
       "      <td>2787</td>\n",
       "    </tr>\n",
       "    <tr>\n",
       "      <th>SEAT</th>\n",
       "      <td>1074</td>\n",
       "    </tr>\n",
       "    <tr>\n",
       "      <th>VOLKSWAGEN</th>\n",
       "      <td>919</td>\n",
       "    </tr>\n",
       "    <tr>\n",
       "      <th>YAMAHA</th>\n",
       "      <td>910</td>\n",
       "    </tr>\n",
       "    <tr>\n",
       "      <th>PEUGEOT</th>\n",
       "      <td>809</td>\n",
       "    </tr>\n",
       "  </tbody>\n",
       "</table>\n",
       "</div>"
      ],
      "text/plain": [
       "            Unnamed: 0\n",
       "brand                 \n",
       "HONDA             2787\n",
       "SEAT              1074\n",
       "VOLKSWAGEN         919\n",
       "YAMAHA             910\n",
       "PEUGEOT            809"
      ]
     },
     "execution_count": 25,
     "metadata": {},
     "output_type": "execute_result"
    }
   ],
   "source": [
    "#Number of accidents per vehicle brand\n",
    "accident_per_brand=(vehicles_in_accident.groupby([\"brand\"]).count()).iloc[:,0]\n",
    "pd.DataFrame(accident_per_brand.sort_values(ascending=False).head())"
   ]
  },
  {
   "cell_type": "code",
   "execution_count": 12,
   "metadata": {},
   "outputs": [
    {
     "data": {
      "text/html": [
       "<div>\n",
       "<style scoped>\n",
       "    .dataframe tbody tr th:only-of-type {\n",
       "        vertical-align: middle;\n",
       "    }\n",
       "\n",
       "    .dataframe tbody tr th {\n",
       "        vertical-align: top;\n",
       "    }\n",
       "\n",
       "    .dataframe thead th {\n",
       "        text-align: right;\n",
       "    }\n",
       "</style>\n",
       "<table border=\"1\" class=\"dataframe\">\n",
       "  <thead>\n",
       "    <tr style=\"text-align: right;\">\n",
       "      <th></th>\n",
       "      <th>Numero_expedient</th>\n",
       "      <th>Codi_districte</th>\n",
       "      <th>Nom_districte</th>\n",
       "      <th>Date</th>\n",
       "      <th>Descripcio_torn</th>\n",
       "      <th>Descripcio_causa_vianant</th>\n",
       "      <th>Numero_morts</th>\n",
       "      <th>Numero_lesionats_lleus</th>\n",
       "      <th>Numero_lesionats_greus</th>\n",
       "      <th>Numero_victimes</th>\n",
       "      <th>Numero_vehicles_implicats</th>\n",
       "    </tr>\n",
       "  </thead>\n",
       "  <tbody>\n",
       "    <tr>\n",
       "      <th>0</th>\n",
       "      <td>2018S000150</td>\n",
       "      <td>3</td>\n",
       "      <td>Sants-MontjuÃ¯c</td>\n",
       "      <td>2018-1-8 7:0:0</td>\n",
       "      <td>MatÃ­</td>\n",
       "      <td>No Ã©s causa del  vianant</td>\n",
       "      <td>0</td>\n",
       "      <td>1</td>\n",
       "      <td>0</td>\n",
       "      <td>1</td>\n",
       "      <td>2</td>\n",
       "    </tr>\n",
       "    <tr>\n",
       "      <th>1</th>\n",
       "      <td>2018S000761</td>\n",
       "      <td>3</td>\n",
       "      <td>Sants-MontjuÃ¯c</td>\n",
       "      <td>2018-1-28 19:0:0</td>\n",
       "      <td>Tarda</td>\n",
       "      <td>No Ã©s causa del  vianant</td>\n",
       "      <td>0</td>\n",
       "      <td>0</td>\n",
       "      <td>0</td>\n",
       "      <td>0</td>\n",
       "      <td>2</td>\n",
       "    </tr>\n",
       "    <tr>\n",
       "      <th>2</th>\n",
       "      <td>2018S005151</td>\n",
       "      <td>3</td>\n",
       "      <td>Sants-MontjuÃ¯c</td>\n",
       "      <td>2018-7-4 13:0:0</td>\n",
       "      <td>MatÃ­</td>\n",
       "      <td>No Ã©s causa del  vianant</td>\n",
       "      <td>0</td>\n",
       "      <td>1</td>\n",
       "      <td>0</td>\n",
       "      <td>1</td>\n",
       "      <td>2</td>\n",
       "    </tr>\n",
       "    <tr>\n",
       "      <th>3</th>\n",
       "      <td>2018S000933</td>\n",
       "      <td>3</td>\n",
       "      <td>Sants-MontjuÃ¯c</td>\n",
       "      <td>2018-2-4 7:0:0</td>\n",
       "      <td>MatÃ­</td>\n",
       "      <td>No Ã©s causa del  vianant</td>\n",
       "      <td>0</td>\n",
       "      <td>2</td>\n",
       "      <td>0</td>\n",
       "      <td>2</td>\n",
       "      <td>1</td>\n",
       "    </tr>\n",
       "    <tr>\n",
       "      <th>4</th>\n",
       "      <td>2018S006926</td>\n",
       "      <td>3</td>\n",
       "      <td>Sants-MontjuÃ¯c</td>\n",
       "      <td>2018-9-14 6:0:0</td>\n",
       "      <td>MatÃ­</td>\n",
       "      <td>No Ã©s causa del  vianant</td>\n",
       "      <td>0</td>\n",
       "      <td>0</td>\n",
       "      <td>0</td>\n",
       "      <td>0</td>\n",
       "      <td>2</td>\n",
       "    </tr>\n",
       "    <tr>\n",
       "      <th>...</th>\n",
       "      <td>...</td>\n",
       "      <td>...</td>\n",
       "      <td>...</td>\n",
       "      <td>...</td>\n",
       "      <td>...</td>\n",
       "      <td>...</td>\n",
       "      <td>...</td>\n",
       "      <td>...</td>\n",
       "      <td>...</td>\n",
       "      <td>...</td>\n",
       "      <td>...</td>\n",
       "    </tr>\n",
       "    <tr>\n",
       "      <th>9931</th>\n",
       "      <td>2018S003036</td>\n",
       "      <td>8</td>\n",
       "      <td>Nou Barris</td>\n",
       "      <td>2018-4-20 13:0:0</td>\n",
       "      <td>MatÃ­</td>\n",
       "      <td>No Ã©s causa del  vianant</td>\n",
       "      <td>0</td>\n",
       "      <td>1</td>\n",
       "      <td>0</td>\n",
       "      <td>1</td>\n",
       "      <td>2</td>\n",
       "    </tr>\n",
       "    <tr>\n",
       "      <th>9932</th>\n",
       "      <td>2018S003108</td>\n",
       "      <td>8</td>\n",
       "      <td>Nou Barris</td>\n",
       "      <td>2018-4-22 2:0:0</td>\n",
       "      <td>Nit</td>\n",
       "      <td>No Ã©s causa del  vianant</td>\n",
       "      <td>0</td>\n",
       "      <td>0</td>\n",
       "      <td>0</td>\n",
       "      <td>0</td>\n",
       "      <td>2</td>\n",
       "    </tr>\n",
       "    <tr>\n",
       "      <th>9933</th>\n",
       "      <td>2018S009777</td>\n",
       "      <td>8</td>\n",
       "      <td>Nou Barris</td>\n",
       "      <td>2018-12-22 2:0:0</td>\n",
       "      <td>Nit</td>\n",
       "      <td>No Ã©s causa del  vianant</td>\n",
       "      <td>0</td>\n",
       "      <td>0</td>\n",
       "      <td>0</td>\n",
       "      <td>0</td>\n",
       "      <td>3</td>\n",
       "    </tr>\n",
       "    <tr>\n",
       "      <th>9934</th>\n",
       "      <td>2018S000005</td>\n",
       "      <td>8</td>\n",
       "      <td>Nou Barris</td>\n",
       "      <td>2018-1-1 9:0:0</td>\n",
       "      <td>MatÃ­</td>\n",
       "      <td>No Ã©s causa del  vianant</td>\n",
       "      <td>0</td>\n",
       "      <td>1</td>\n",
       "      <td>0</td>\n",
       "      <td>1</td>\n",
       "      <td>1</td>\n",
       "    </tr>\n",
       "    <tr>\n",
       "      <th>9935</th>\n",
       "      <td>2018S004375</td>\n",
       "      <td>8</td>\n",
       "      <td>Nou Barris</td>\n",
       "      <td>2018-6-6 15:0:0</td>\n",
       "      <td>Tarda</td>\n",
       "      <td>No Ã©s causa del  vianant</td>\n",
       "      <td>0</td>\n",
       "      <td>1</td>\n",
       "      <td>0</td>\n",
       "      <td>1</td>\n",
       "      <td>2</td>\n",
       "    </tr>\n",
       "  </tbody>\n",
       "</table>\n",
       "<p>9936 rows × 11 columns</p>\n",
       "</div>"
      ],
      "text/plain": [
       "     Numero_expedient  Codi_districte    Nom_districte              Date  \\\n",
       "0     2018S000150                   3  Sants-MontjuÃ¯c    2018-1-8 7:0:0   \n",
       "1     2018S000761                   3  Sants-MontjuÃ¯c  2018-1-28 19:0:0   \n",
       "2     2018S005151                   3  Sants-MontjuÃ¯c   2018-7-4 13:0:0   \n",
       "3     2018S000933                   3  Sants-MontjuÃ¯c    2018-2-4 7:0:0   \n",
       "4     2018S006926                   3  Sants-MontjuÃ¯c   2018-9-14 6:0:0   \n",
       "...               ...             ...              ...               ...   \n",
       "9931  2018S003036                   8       Nou Barris  2018-4-20 13:0:0   \n",
       "9932  2018S003108                   8       Nou Barris   2018-4-22 2:0:0   \n",
       "9933  2018S009777                   8       Nou Barris  2018-12-22 2:0:0   \n",
       "9934  2018S000005                   8       Nou Barris    2018-1-1 9:0:0   \n",
       "9935  2018S004375                   8       Nou Barris   2018-6-6 15:0:0   \n",
       "\n",
       "     Descripcio_torn   Descripcio_causa_vianant  Numero_morts  \\\n",
       "0              MatÃ­  No Ã©s causa del  vianant             0   \n",
       "1              Tarda  No Ã©s causa del  vianant             0   \n",
       "2              MatÃ­  No Ã©s causa del  vianant             0   \n",
       "3              MatÃ­  No Ã©s causa del  vianant             0   \n",
       "4              MatÃ­  No Ã©s causa del  vianant             0   \n",
       "...              ...                        ...           ...   \n",
       "9931           MatÃ­  No Ã©s causa del  vianant             0   \n",
       "9932             Nit  No Ã©s causa del  vianant             0   \n",
       "9933             Nit  No Ã©s causa del  vianant             0   \n",
       "9934           MatÃ­  No Ã©s causa del  vianant             0   \n",
       "9935           Tarda  No Ã©s causa del  vianant             0   \n",
       "\n",
       "      Numero_lesionats_lleus  Numero_lesionats_greus  Numero_victimes  \\\n",
       "0                          1                       0                1   \n",
       "1                          0                       0                0   \n",
       "2                          1                       0                1   \n",
       "3                          2                       0                2   \n",
       "4                          0                       0                0   \n",
       "...                      ...                     ...              ...   \n",
       "9931                       1                       0                1   \n",
       "9932                       0                       0                0   \n",
       "9933                       0                       0                0   \n",
       "9934                       1                       0                1   \n",
       "9935                       1                       0                1   \n",
       "\n",
       "      Numero_vehicles_implicats  \n",
       "0                             2  \n",
       "1                             2  \n",
       "2                             2  \n",
       "3                             1  \n",
       "4                             2  \n",
       "...                         ...  \n",
       "9931                          2  \n",
       "9932                          2  \n",
       "9933                          3  \n",
       "9934                          1  \n",
       "9935                          2  \n",
       "\n",
       "[9936 rows x 11 columns]"
      ]
     },
     "execution_count": 12,
     "metadata": {},
     "output_type": "execute_result"
    }
   ],
   "source": [
    "main=main.rename(columns={\"Unnamed: 3\": \"Date\"})\n",
    "main"
   ]
  },
  {
   "cell_type": "code",
   "execution_count": 22,
   "metadata": {
    "scrolled": true
   },
   "outputs": [
    {
     "data": {
      "text/plain": [
       "Month_of_accident\n",
       "1     8.564815\n",
       "2     7.749597\n",
       "3     8.675523\n",
       "4     8.584944\n",
       "5     8.796296\n",
       "6     8.333333\n",
       "7     8.695652\n",
       "8     6.894122\n",
       "9     7.558374\n",
       "10    9.953704\n",
       "11    8.121981\n",
       "12    8.071659\n",
       "Name: Numero_expedient, dtype: float64"
      ]
     },
     "execution_count": 22,
     "metadata": {},
     "output_type": "execute_result"
    }
   ],
   "source": [
    "main[\"Month_of_accident\"]=pd.DatetimeIndex(main[\"Date\"]).month\n",
    "month_accidents=(main.groupby([\"Month_of_accident\"]).count()).iloc[:,0]\n",
    "perc=month_accidents/no_of_accident*100\n",
    "perc"
   ]
  },
  {
   "cell_type": "code",
   "execution_count": 21,
   "metadata": {
    "scrolled": true
   },
   "outputs": [
    {
     "data": {
      "text/plain": [
       "[[Dayweek_of_accident\n",
       "  Sunday        8.715781\n",
       "  Saturday     11.030596\n",
       "  Monday       15.247585\n",
       "  Tuesday      15.861514\n",
       "  Wednesday    15.952093\n",
       "  Thursday     16.082931\n",
       "  Friday       17.109501\n",
       "  Name: Numero_expedient, dtype: float64]]"
      ]
     },
     "execution_count": 21,
     "metadata": {},
     "output_type": "execute_result"
    }
   ],
   "source": [
    "main[\"Dayweek_of_accident\"]=pd.DatetimeIndex(main[\"Date\"]).weekday_name\n",
    "dayweek_accidents=(main.groupby([\"Dayweek_of_accident\"]).count()).iloc[:,0]\n",
    "perc2=dayweek_accidents/no_of_accident*100\n",
    "perc2.sort_values(ascending=False)"
   ]
  },
  {
   "cell_type": "code",
   "execution_count": 17,
   "metadata": {},
   "outputs": [
    {
     "data": {
      "text/plain": [
       "color\n",
       "Negre         23.905865\n",
       "Blanc         22.585041\n",
       "Gris          18.695948\n",
       "Desconegut     9.413491\n",
       "Vermell        7.427014\n",
       "Name: Unnamed: 0, dtype: float64"
      ]
     },
     "execution_count": 17,
     "metadata": {},
     "output_type": "execute_result"
    }
   ],
   "source": [
    "#Number of accidents per color of vehicle\n",
    "accident_per_color=(vehicles_in_accident.groupby([\"color\"]).count()).iloc[:,0]\n",
    "perc3=accident_per_color/no_of_vehicles*100\n",
    "perc3.sort_values(ascending=False).head()"
   ]
  },
  {
   "cell_type": "code",
   "execution_count": null,
   "metadata": {},
   "outputs": [],
   "source": []
  }
 ],
 "metadata": {
  "kernelspec": {
   "display_name": "Python 3",
   "language": "python",
   "name": "python3"
  },
  "language_info": {
   "codemirror_mode": {
    "name": "ipython",
    "version": 3
   },
   "file_extension": ".py",
   "mimetype": "text/x-python",
   "name": "python",
   "nbconvert_exporter": "python",
   "pygments_lexer": "ipython3",
   "version": "3.7.3"
  }
 },
 "nbformat": 4,
 "nbformat_minor": 2
}
