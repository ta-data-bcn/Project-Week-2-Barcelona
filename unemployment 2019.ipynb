{
 "cells": [
  {
   "cell_type": "code",
   "execution_count": 1,
   "metadata": {},
   "outputs": [],
   "source": [
    "import pandas as pd"
   ]
  },
  {
   "cell_type": "code",
   "execution_count": 2,
   "metadata": {},
   "outputs": [],
   "source": [
    "import numpy as np"
   ]
  },
  {
   "cell_type": "code",
   "execution_count": 3,
   "metadata": {},
   "outputs": [],
   "source": [
    "unemp19 = pd.read_csv('./data/2019_Atur_per_sexe.csv')\n",
    "\n"
   ]
  },
  {
   "cell_type": "code",
   "execution_count": 4,
   "metadata": {},
   "outputs": [
    {
     "data": {
      "text/html": [
       "<div>\n",
       "<style scoped>\n",
       "    .dataframe tbody tr th:only-of-type {\n",
       "        vertical-align: middle;\n",
       "    }\n",
       "\n",
       "    .dataframe tbody tr th {\n",
       "        vertical-align: top;\n",
       "    }\n",
       "\n",
       "    .dataframe thead th {\n",
       "        text-align: right;\n",
       "    }\n",
       "</style>\n",
       "<table border=\"1\" class=\"dataframe\">\n",
       "  <thead>\n",
       "    <tr style=\"text-align: right;\">\n",
       "      <th></th>\n",
       "      <th>Any</th>\n",
       "      <th>Mes</th>\n",
       "      <th>Codi_Districte</th>\n",
       "      <th>Nom_Districte</th>\n",
       "      <th>Codi_Barri</th>\n",
       "      <th>Nom_Barri</th>\n",
       "      <th>Sexe</th>\n",
       "      <th>Demanda_ocupacio</th>\n",
       "      <th>Nombre</th>\n",
       "    </tr>\n",
       "  </thead>\n",
       "  <tbody>\n",
       "    <tr>\n",
       "      <th>0</th>\n",
       "      <td>2019</td>\n",
       "      <td>1</td>\n",
       "      <td>1</td>\n",
       "      <td>Ciutat Vella</td>\n",
       "      <td>1</td>\n",
       "      <td>el Raval</td>\n",
       "      <td>Homes</td>\n",
       "      <td>Atur registrat</td>\n",
       "      <td>1900</td>\n",
       "    </tr>\n",
       "    <tr>\n",
       "      <th>1</th>\n",
       "      <td>2019</td>\n",
       "      <td>1</td>\n",
       "      <td>1</td>\n",
       "      <td>Ciutat Vella</td>\n",
       "      <td>2</td>\n",
       "      <td>el Barri Gòtic</td>\n",
       "      <td>Homes</td>\n",
       "      <td>Atur registrat</td>\n",
       "      <td>485</td>\n",
       "    </tr>\n",
       "    <tr>\n",
       "      <th>2</th>\n",
       "      <td>2019</td>\n",
       "      <td>1</td>\n",
       "      <td>1</td>\n",
       "      <td>Ciutat Vella</td>\n",
       "      <td>3</td>\n",
       "      <td>la Barceloneta</td>\n",
       "      <td>Homes</td>\n",
       "      <td>Atur registrat</td>\n",
       "      <td>496</td>\n",
       "    </tr>\n",
       "    <tr>\n",
       "      <th>3</th>\n",
       "      <td>2019</td>\n",
       "      <td>1</td>\n",
       "      <td>1</td>\n",
       "      <td>Ciutat Vella</td>\n",
       "      <td>4</td>\n",
       "      <td>Sant Pere, Santa Caterina i la Ribera</td>\n",
       "      <td>Homes</td>\n",
       "      <td>Atur registrat</td>\n",
       "      <td>686</td>\n",
       "    </tr>\n",
       "    <tr>\n",
       "      <th>4</th>\n",
       "      <td>2019</td>\n",
       "      <td>1</td>\n",
       "      <td>2</td>\n",
       "      <td>Eixample</td>\n",
       "      <td>5</td>\n",
       "      <td>el Fort Pienc</td>\n",
       "      <td>Homes</td>\n",
       "      <td>Atur registrat</td>\n",
       "      <td>539</td>\n",
       "    </tr>\n",
       "    <tr>\n",
       "      <th>...</th>\n",
       "      <td>...</td>\n",
       "      <td>...</td>\n",
       "      <td>...</td>\n",
       "      <td>...</td>\n",
       "      <td>...</td>\n",
       "      <td>...</td>\n",
       "      <td>...</td>\n",
       "      <td>...</td>\n",
       "      <td>...</td>\n",
       "    </tr>\n",
       "    <tr>\n",
       "      <th>3547</th>\n",
       "      <td>2019</td>\n",
       "      <td>12</td>\n",
       "      <td>10</td>\n",
       "      <td>Sant Martí</td>\n",
       "      <td>70</td>\n",
       "      <td>el Besòs i el Maresme</td>\n",
       "      <td>Dones</td>\n",
       "      <td>Demanda no aturats</td>\n",
       "      <td>180</td>\n",
       "    </tr>\n",
       "    <tr>\n",
       "      <th>3548</th>\n",
       "      <td>2019</td>\n",
       "      <td>12</td>\n",
       "      <td>10</td>\n",
       "      <td>Sant Martí</td>\n",
       "      <td>71</td>\n",
       "      <td>Provençals del Poblenou</td>\n",
       "      <td>Dones</td>\n",
       "      <td>Demanda no aturats</td>\n",
       "      <td>130</td>\n",
       "    </tr>\n",
       "    <tr>\n",
       "      <th>3549</th>\n",
       "      <td>2019</td>\n",
       "      <td>12</td>\n",
       "      <td>10</td>\n",
       "      <td>Sant Martí</td>\n",
       "      <td>72</td>\n",
       "      <td>Sant Martí de Provençals</td>\n",
       "      <td>Dones</td>\n",
       "      <td>Demanda no aturats</td>\n",
       "      <td>197</td>\n",
       "    </tr>\n",
       "    <tr>\n",
       "      <th>3550</th>\n",
       "      <td>2019</td>\n",
       "      <td>12</td>\n",
       "      <td>10</td>\n",
       "      <td>Sant Martí</td>\n",
       "      <td>73</td>\n",
       "      <td>la Verneda i la Pau</td>\n",
       "      <td>Dones</td>\n",
       "      <td>Demanda no aturats</td>\n",
       "      <td>225</td>\n",
       "    </tr>\n",
       "    <tr>\n",
       "      <th>3551</th>\n",
       "      <td>2019</td>\n",
       "      <td>12</td>\n",
       "      <td>99</td>\n",
       "      <td>No consta</td>\n",
       "      <td>99</td>\n",
       "      <td>No consta</td>\n",
       "      <td>Dones</td>\n",
       "      <td>Demanda no aturats</td>\n",
       "      <td>2</td>\n",
       "    </tr>\n",
       "  </tbody>\n",
       "</table>\n",
       "<p>3552 rows × 9 columns</p>\n",
       "</div>"
      ],
      "text/plain": [
       "       Any  Mes  Codi_Districte Nom_Districte  Codi_Barri  \\\n",
       "0     2019    1               1  Ciutat Vella           1   \n",
       "1     2019    1               1  Ciutat Vella           2   \n",
       "2     2019    1               1  Ciutat Vella           3   \n",
       "3     2019    1               1  Ciutat Vella           4   \n",
       "4     2019    1               2      Eixample           5   \n",
       "...    ...  ...             ...           ...         ...   \n",
       "3547  2019   12              10    Sant Martí          70   \n",
       "3548  2019   12              10    Sant Martí          71   \n",
       "3549  2019   12              10    Sant Martí          72   \n",
       "3550  2019   12              10    Sant Martí          73   \n",
       "3551  2019   12              99     No consta          99   \n",
       "\n",
       "                                  Nom_Barri   Sexe    Demanda_ocupacio  Nombre  \n",
       "0                                  el Raval  Homes      Atur registrat    1900  \n",
       "1                            el Barri Gòtic  Homes      Atur registrat     485  \n",
       "2                            la Barceloneta  Homes      Atur registrat     496  \n",
       "3     Sant Pere, Santa Caterina i la Ribera  Homes      Atur registrat     686  \n",
       "4                             el Fort Pienc  Homes      Atur registrat     539  \n",
       "...                                     ...    ...                 ...     ...  \n",
       "3547                  el Besòs i el Maresme  Dones  Demanda no aturats     180  \n",
       "3548                Provençals del Poblenou  Dones  Demanda no aturats     130  \n",
       "3549               Sant Martí de Provençals  Dones  Demanda no aturats     197  \n",
       "3550                    la Verneda i la Pau  Dones  Demanda no aturats     225  \n",
       "3551                              No consta  Dones  Demanda no aturats       2  \n",
       "\n",
       "[3552 rows x 9 columns]"
      ]
     },
     "execution_count": 4,
     "metadata": {},
     "output_type": "execute_result"
    }
   ],
   "source": [
    "unemp19"
   ]
  },
  {
   "cell_type": "code",
   "execution_count": 5,
   "metadata": {},
   "outputs": [],
   "source": [
    "unemp_19= pd.DataFrame(unemp19.groupby([\"Mes\",\"Nom_Districte\", \"Sexe\"])[\"Nombre\"].sum()).reset_index()"
   ]
  },
  {
   "cell_type": "code",
   "execution_count": 6,
   "metadata": {},
   "outputs": [
    {
     "data": {
      "text/html": [
       "<div>\n",
       "<style scoped>\n",
       "    .dataframe tbody tr th:only-of-type {\n",
       "        vertical-align: middle;\n",
       "    }\n",
       "\n",
       "    .dataframe tbody tr th {\n",
       "        vertical-align: top;\n",
       "    }\n",
       "\n",
       "    .dataframe thead th {\n",
       "        text-align: right;\n",
       "    }\n",
       "</style>\n",
       "<table border=\"1\" class=\"dataframe\">\n",
       "  <thead>\n",
       "    <tr style=\"text-align: right;\">\n",
       "      <th></th>\n",
       "      <th>Mes</th>\n",
       "      <th>Nom_Districte</th>\n",
       "      <th>Sexe</th>\n",
       "      <th>Nombre</th>\n",
       "    </tr>\n",
       "  </thead>\n",
       "  <tbody>\n",
       "    <tr>\n",
       "      <th>0</th>\n",
       "      <td>1</td>\n",
       "      <td>Ciutat Vella</td>\n",
       "      <td>Dones</td>\n",
       "      <td>3764</td>\n",
       "    </tr>\n",
       "    <tr>\n",
       "      <th>1</th>\n",
       "      <td>1</td>\n",
       "      <td>Ciutat Vella</td>\n",
       "      <td>Homes</td>\n",
       "      <td>4609</td>\n",
       "    </tr>\n",
       "    <tr>\n",
       "      <th>2</th>\n",
       "      <td>1</td>\n",
       "      <td>Eixample</td>\n",
       "      <td>Dones</td>\n",
       "      <td>6608</td>\n",
       "    </tr>\n",
       "    <tr>\n",
       "      <th>3</th>\n",
       "      <td>1</td>\n",
       "      <td>Eixample</td>\n",
       "      <td>Homes</td>\n",
       "      <td>5534</td>\n",
       "    </tr>\n",
       "    <tr>\n",
       "      <th>4</th>\n",
       "      <td>1</td>\n",
       "      <td>Gràcia</td>\n",
       "      <td>Dones</td>\n",
       "      <td>3191</td>\n",
       "    </tr>\n",
       "    <tr>\n",
       "      <th>...</th>\n",
       "      <td>...</td>\n",
       "      <td>...</td>\n",
       "      <td>...</td>\n",
       "      <td>...</td>\n",
       "    </tr>\n",
       "    <tr>\n",
       "      <th>259</th>\n",
       "      <td>12</td>\n",
       "      <td>Sant Martí</td>\n",
       "      <td>Homes</td>\n",
       "      <td>6234</td>\n",
       "    </tr>\n",
       "    <tr>\n",
       "      <th>260</th>\n",
       "      <td>12</td>\n",
       "      <td>Sants-Montjuïc</td>\n",
       "      <td>Dones</td>\n",
       "      <td>5642</td>\n",
       "    </tr>\n",
       "    <tr>\n",
       "      <th>261</th>\n",
       "      <td>12</td>\n",
       "      <td>Sants-Montjuïc</td>\n",
       "      <td>Homes</td>\n",
       "      <td>4741</td>\n",
       "    </tr>\n",
       "    <tr>\n",
       "      <th>262</th>\n",
       "      <td>12</td>\n",
       "      <td>Sarrià-Sant Gervasi</td>\n",
       "      <td>Dones</td>\n",
       "      <td>2388</td>\n",
       "    </tr>\n",
       "    <tr>\n",
       "      <th>263</th>\n",
       "      <td>12</td>\n",
       "      <td>Sarrià-Sant Gervasi</td>\n",
       "      <td>Homes</td>\n",
       "      <td>1926</td>\n",
       "    </tr>\n",
       "  </tbody>\n",
       "</table>\n",
       "<p>264 rows × 4 columns</p>\n",
       "</div>"
      ],
      "text/plain": [
       "     Mes        Nom_Districte   Sexe  Nombre\n",
       "0      1         Ciutat Vella  Dones    3764\n",
       "1      1         Ciutat Vella  Homes    4609\n",
       "2      1             Eixample  Dones    6608\n",
       "3      1             Eixample  Homes    5534\n",
       "4      1               Gràcia  Dones    3191\n",
       "..   ...                  ...    ...     ...\n",
       "259   12           Sant Martí  Homes    6234\n",
       "260   12       Sants-Montjuïc  Dones    5642\n",
       "261   12       Sants-Montjuïc  Homes    4741\n",
       "262   12  Sarrià-Sant Gervasi  Dones    2388\n",
       "263   12  Sarrià-Sant Gervasi  Homes    1926\n",
       "\n",
       "[264 rows x 4 columns]"
      ]
     },
     "execution_count": 6,
     "metadata": {},
     "output_type": "execute_result"
    }
   ],
   "source": [
    "unemp_19"
   ]
  },
  {
   "cell_type": "code",
   "execution_count": 80,
   "metadata": {},
   "outputs": [
    {
     "data": {
      "text/plain": [
       "87230"
      ]
     },
     "execution_count": 80,
     "metadata": {},
     "output_type": "execute_result"
    }
   ],
   "source": [
    "# Total umeployment 2019 (3 trimestres)\n",
    "\n",
    "total = unemp_19[(unemp_19[\"Mes\"] == 9)][\"Nombre\"].sum()\n",
    "\n",
    "total"
   ]
  },
  {
   "cell_type": "code",
   "execution_count": 75,
   "metadata": {},
   "outputs": [
    {
     "data": {
      "text/plain": [
       "48624"
      ]
     },
     "execution_count": 75,
     "metadata": {},
     "output_type": "execute_result"
    }
   ],
   "source": [
    "# Total mujer unemployment 2019: \n",
    "\n",
    "mujeres_19 = unemp_19[(unemp_19[\"Sexe\"] == \"Dones\") & (unemp_19[\"Mes\"] == 9)][\"Nombre\"].sum()\n",
    "\n",
    "mujeres_19\n"
   ]
  },
  {
   "cell_type": "code",
   "execution_count": 77,
   "metadata": {},
   "outputs": [
    {
     "data": {
      "text/plain": [
       "38606"
      ]
     },
     "execution_count": 77,
     "metadata": {},
     "output_type": "execute_result"
    }
   ],
   "source": [
    "# Total hombres unemployment 2019: \n",
    "\n",
    "hombres_19 = unemp_19[(unemp_19[\"Sexe\"] == \"Homes\") & (unemp_19[\"Mes\"] == 9)][\"Nombre\"].sum()\n",
    "\n",
    "hombres_19"
   ]
  },
  {
   "cell_type": "code",
   "execution_count": 79,
   "metadata": {},
   "outputs": [
    {
     "data": {
      "text/plain": [
       "89644"
      ]
     },
     "execution_count": 79,
     "metadata": {},
     "output_type": "execute_result"
    }
   ],
   "source": [
    "# 1r trimestre\n",
    "\n",
    "first = unemp_19[(unemp_19[\"Mes\"] == 3)][\"Nombre\"].sum()\n",
    "\n",
    "first"
   ]
  },
  {
   "cell_type": "code",
   "execution_count": 82,
   "metadata": {},
   "outputs": [
    {
     "data": {
      "text/plain": [
       "84484"
      ]
     },
     "execution_count": 82,
     "metadata": {},
     "output_type": "execute_result"
    }
   ],
   "source": [
    "# 2nd trimestre\n",
    "\n",
    "second = unemp_19[(unemp_19[\"Mes\"] == 6)][\"Nombre\"].sum()\n",
    " \n",
    "second"
   ]
  },
  {
   "cell_type": "code",
   "execution_count": 83,
   "metadata": {},
   "outputs": [
    {
     "data": {
      "text/plain": [
       "87230"
      ]
     },
     "execution_count": 83,
     "metadata": {},
     "output_type": "execute_result"
    }
   ],
   "source": [
    "# 3rd trimestre\n",
    "\n",
    "third = unemp_19[(unemp_19[\"Mes\"] == 9)][\"Nombre\"].sum()\n",
    "\n",
    "third"
   ]
  },
  {
   "cell_type": "code",
   "execution_count": 84,
   "metadata": {},
   "outputs": [
    {
     "data": {
      "text/plain": [
       "48344"
      ]
     },
     "execution_count": 84,
     "metadata": {},
     "output_type": "execute_result"
    }
   ],
   "source": [
    "# 1r trimestre mujer\n",
    "\n",
    "mujer_1r = unemp_19[(unemp_19[\"Mes\"] == 3) & (unemp_19[\"Sexe\"] == \"Dones\")][\"Nombre\"].sum()\n",
    "\n",
    "mujer_1r"
   ]
  },
  {
   "cell_type": "code",
   "execution_count": 85,
   "metadata": {},
   "outputs": [
    {
     "data": {
      "text/plain": [
       "46558"
      ]
     },
     "execution_count": 85,
     "metadata": {},
     "output_type": "execute_result"
    }
   ],
   "source": [
    "# 2nd trimestre mujer\n",
    "\n",
    "mujer_2nd = unemp_19[(unemp_19[\"Mes\"] == 6) & (unemp_19[\"Sexe\"] == \"Dones\")][\"Nombre\"].sum()\n",
    "\n",
    "mujer_2nd"
   ]
  },
  {
   "cell_type": "code",
   "execution_count": 86,
   "metadata": {},
   "outputs": [
    {
     "data": {
      "text/plain": [
       "48624"
      ]
     },
     "execution_count": 86,
     "metadata": {},
     "output_type": "execute_result"
    }
   ],
   "source": [
    "# 3rd trimestre mujer\n",
    "\n",
    "mujer_3rd = unemp_19[(unemp_19[\"Mes\"] == 9) & (unemp_19[\"Sexe\"] == \"Dones\")][\"Nombre\"].sum()\n",
    "\n",
    "mujer_3rd"
   ]
  },
  {
   "cell_type": "code",
   "execution_count": 87,
   "metadata": {},
   "outputs": [
    {
     "data": {
      "text/plain": [
       "41300"
      ]
     },
     "execution_count": 87,
     "metadata": {},
     "output_type": "execute_result"
    }
   ],
   "source": [
    "# 1r trimestre hombre\n",
    "\n",
    "hombre_1r = unemp_19[(unemp_19[\"Mes\"] == 3) & (unemp_19[\"Sexe\"] == \"Homes\")][\"Nombre\"].sum()\n",
    "\n",
    "hombre_1r"
   ]
  },
  {
   "cell_type": "code",
   "execution_count": 88,
   "metadata": {},
   "outputs": [
    {
     "data": {
      "text/plain": [
       "37926"
      ]
     },
     "execution_count": 88,
     "metadata": {},
     "output_type": "execute_result"
    }
   ],
   "source": [
    "# 2nd trimestre hombre\n",
    "\n",
    "hombre_2nd = unemp_19[(unemp_19[\"Mes\"] == 6) & (unemp_19[\"Sexe\"] == \"Homes\")][\"Nombre\"].sum()\n",
    "\n",
    "hombre_2nd"
   ]
  },
  {
   "cell_type": "code",
   "execution_count": 89,
   "metadata": {},
   "outputs": [
    {
     "data": {
      "text/plain": [
       "38606"
      ]
     },
     "execution_count": 89,
     "metadata": {},
     "output_type": "execute_result"
    }
   ],
   "source": [
    "# 3rd trimestre hombre\n",
    "\n",
    "hombre_3rd = unemp_19[(unemp_19[\"Mes\"] == 9) & (unemp_19[\"Sexe\"] == \"Homes\")][\"Nombre\"].sum()\n",
    "\n",
    "hombre_3rd"
   ]
  },
  {
   "cell_type": "code",
   "execution_count": null,
   "metadata": {},
   "outputs": [],
   "source": []
  }
 ],
 "metadata": {
  "kernelspec": {
   "display_name": "Python 3",
   "language": "python",
   "name": "python3"
  },
  "language_info": {
   "codemirror_mode": {
    "name": "ipython",
    "version": 3
   },
   "file_extension": ".py",
   "mimetype": "text/x-python",
   "name": "python",
   "nbconvert_exporter": "python",
   "pygments_lexer": "ipython3",
   "version": "3.7.6"
  }
 },
 "nbformat": 4,
 "nbformat_minor": 4
}
