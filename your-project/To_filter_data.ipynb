{
 "cells": [
  {
   "cell_type": "markdown",
   "metadata": {},
   "source": [
    "# Data filtering"
   ]
  },
  {
   "cell_type": "markdown",
   "metadata": {},
   "source": [
    "## Try outs to figure out what to do"
   ]
  },
  {
   "cell_type": "code",
   "execution_count": 3,
   "metadata": {},
   "outputs": [],
   "source": [
    "import pandas as pd\n",
    "import numpy as np"
   ]
  },
  {
   "cell_type": "code",
   "execution_count": 70,
   "metadata": {},
   "outputs": [],
   "source": [
    "#import the datasets from which we need to obtain the info and summarize\n",
    "\n",
    "children=pd.read_csv(\"../datasets/unfiltered/Children_spaces_bcn.csv\")\n",
    "\n",
    "cinema=pd.read_csv(\"../datasets/unfiltered/Cinemas_and_theatres_bcn.csv\")\n",
    "\n",
    "education=pd.read_csv(\"../datasets/unfiltered/Education_centers_children_bcn.csv\")\n",
    "\n",
    "educationkids=pd.read_csv(\"../datasets/unfiltered/Educative_centers_bcn.csv\")\n",
    "\n",
    "hospital=pd.read_csv(\"../datasets/unfiltered/Hospitals_bcn.csv\")\n",
    "\n",
    "library=pd.read_csv(\"../datasets/unfiltered/Library_and_museums_bcn.csv\")\n",
    "\n",
    "bars=pd.read_csv(\"../datasets/unfiltered/Music_and_drinks_venues_bcn.csv\")\n",
    "\n",
    "park=pd.read_csv(\"../datasets/unfiltered/Parks_and_gardens_bcn.csv\")\n",
    "\n",
    "sport=pd.read_csv(\"../datasets/unfiltered/Sport_facilities_centers.csv\")"
   ]
  },
  {
   "cell_type": "code",
   "execution_count": 133,
   "metadata": {},
   "outputs": [],
   "source": [
    "#Quick look it they uploaded ok\n",
    "\n",
    "#children.head()\n",
    "#hospital.tail(10)\n",
    "\n",
    "#all good and with no index"
   ]
  },
  {
   "cell_type": "code",
   "execution_count": null,
   "metadata": {},
   "outputs": [],
   "source": [
    "#necessary to obtain the times that each neighbourhood appears (variable \"NUM_BARRI\")\n",
    "#and save it"
   ]
  },
  {
   "cell_type": "code",
   "execution_count": 15,
   "metadata": {},
   "outputs": [],
   "source": [
    "#to get a frequency table\n",
    "\n",
    "#COUNT=children.groupby(\"NUM_BARRI\").size()"
   ]
  },
  {
   "cell_type": "code",
   "execution_count": 49,
   "metadata": {},
   "outputs": [],
   "source": [
    "#test1=children.groupby(\"NUM_BARRI\")[\"EQUIPAMENT\"].size()"
   ]
  },
  {
   "cell_type": "code",
   "execution_count": 71,
   "metadata": {},
   "outputs": [],
   "source": [
    "#test2=children.sort_values(\"EQUIPAMENT\")"
   ]
  },
  {
   "cell_type": "code",
   "execution_count": 134,
   "metadata": {},
   "outputs": [],
   "source": [
    "#test2[\"EQUIPAMENT\"].value_counts()"
   ]
  },
  {
   "cell_type": "code",
   "execution_count": 80,
   "metadata": {},
   "outputs": [],
   "source": [
    "#test3=children.drop_duplicates(subset =\"EQUIPAMENT\")"
   ]
  },
  {
   "cell_type": "code",
   "execution_count": 86,
   "metadata": {},
   "outputs": [],
   "source": [
    "#test4=test3.reset_index(drop=True)"
   ]
  },
  {
   "cell_type": "code",
   "execution_count": 92,
   "metadata": {},
   "outputs": [],
   "source": [
    "#test5=test4.groupby(\"NUM_BARRI\")[\"EQUIPAMENT\"].size()"
   ]
  },
  {
   "cell_type": "code",
   "execution_count": 94,
   "metadata": {},
   "outputs": [],
   "source": [
    "#test5.to_csv(\"/Users/mireiaguinovart/Desktop/test5.csv\")"
   ]
  },
  {
   "cell_type": "code",
   "execution_count": 107,
   "metadata": {},
   "outputs": [],
   "source": [
    "#test6=test5.rename(columns={\"NUM_BARRI\":\"Nbh\",\"0\":\"Children_places\"})"
   ]
  },
  {
   "cell_type": "code",
   "execution_count": 135,
   "metadata": {},
   "outputs": [],
   "source": [
    "#test6.columns"
   ]
  },
  {
   "cell_type": "code",
   "execution_count": 110,
   "metadata": {},
   "outputs": [],
   "source": [
    "#test6.to_csv(\"../datasets/Data_filtered/Children_places.csv\")"
   ]
  },
  {
   "cell_type": "markdown",
   "metadata": {},
   "source": [
    "## Data filtering Barcelona Facilites datasets"
   ]
  },
  {
   "cell_type": "code",
   "execution_count": 125,
   "metadata": {},
   "outputs": [],
   "source": [
    "# Step 1 import the datasets from which we need to obtain the info and summarize\n",
    "\n",
    "children=pd.read_csv(\"../datasets/unfiltered/Children_spaces_bcn.csv\")\n",
    "\n",
    "cinema=pd.read_csv(\"../datasets/unfiltered/Cinemas_and_theatres_bcn.csv\")\n",
    "\n",
    "education=pd.read_csv(\"../datasets/unfiltered/Education_centers_children_bcn.csv\")\n",
    "\n",
    "educationkids=pd.read_csv(\"../datasets/unfiltered/Educative_centers_bcn.csv\")\n",
    "\n",
    "hospital=pd.read_csv(\"../datasets/unfiltered/Hospitals_bcn.csv\")\n",
    "\n",
    "library=pd.read_csv(\"../datasets/unfiltered/Library_and_museums_bcn.csv\")\n",
    "\n",
    "bars=pd.read_csv(\"../datasets/unfiltered/Music_and_drinks_venues_bcn.csv\")\n",
    "\n",
    "park=pd.read_csv(\"../datasets/unfiltered/Parks_and_gardens_bcn.csv\")\n",
    "\n",
    "sport=pd.read_csv(\"../datasets/unfiltered/Sport_facilities_centers.csv\")"
   ]
  },
  {
   "cell_type": "code",
   "execution_count": 126,
   "metadata": {},
   "outputs": [],
   "source": [
    "#sort by EQUIPAMENT-----children.sort_values(\"EQUIPAMENT\",inplace=True)\n",
    "#drop duplicates--------children.drop_duplicates(subset =\"EQUIPAMENT\",inplace=True)\n",
    "#reset index------------children.reset_index(drop=True,inplace=True)\n",
    "#groupby----------------children.groupby(\"NUM_BARRI\")[\"EQUIPAMENT\"].size()"
   ]
  },
  {
   "cell_type": "code",
   "execution_count": 127,
   "metadata": {},
   "outputs": [],
   "source": [
    "#step 1: removing duplicates\n",
    "def sorting (DF):\n",
    "    DF.sort_values(\"EQUIPAMENT\",inplace=True)\n",
    "    DF.drop_duplicates(subset =\"EQUIPAMENT\",inplace=True)\n",
    "    DF.reset_index(drop=True,inplace=True)\n",
    "    \n",
    "sorting(children)\n",
    "sorting(cinema)\n",
    "sorting(education)\n",
    "sorting(educationkids)\n",
    "sorting(hospital)\n",
    "sorting(library)\n",
    "sorting(bars)\n",
    "sorting(park)\n",
    "sorting(sport)"
   ]
  },
  {
   "cell_type": "code",
   "execution_count": 128,
   "metadata": {},
   "outputs": [],
   "source": [
    "#step2: frequency table\n",
    "\n",
    "children=children.groupby(\"NUM_BARRI\").size()\n",
    "\n",
    "cinema=cinema.groupby(\"NUM_BARRI\").size()\n",
    "\n",
    "education=education.groupby(\"NUM_BARRI\").size()\n",
    "\n",
    "educationkids=educationkids.groupby(\"NUM_BARRI\").size()\n",
    "\n",
    "hospital=hospital.groupby(\"NUM_BARRI\").size()\n",
    "\n",
    "library=library.groupby(\"NUM_BARRI\").size()\n",
    "\n",
    "bars=bars.groupby(\"NUM_BARRI\").size()\n",
    "\n",
    "park=park.groupby(\"NUM_BARRI\").size()\n",
    "\n",
    "sport=sport.groupby(\"NUM_BARRI\").size()\n"
   ]
  },
  {
   "cell_type": "code",
   "execution_count": 129,
   "metadata": {},
   "outputs": [],
   "source": [
    "#step3: saving the files as .csv\n",
    "\n",
    "children.to_csv(\"../datasets/Data_filtered/children.csv\")\n",
    "\n",
    "cinema.to_csv(\"../datasets/Data_filtered/cinema.csv\")\n",
    "\n",
    "education.to_csv(\"../datasets/Data_filtered/education.csv\")\n",
    "\n",
    "educationkids.to_csv(\"../datasets/Data_filtered/educationkids.csv\")\n",
    "\n",
    "hospital.to_csv(\"../datasets/Data_filtered/hospital.csv\")\n",
    "\n",
    "library.to_csv(\"../datasets/Data_filtered/library.csv\")\n",
    "\n",
    "bars.to_csv(\"../datasets/Data_filtered/bars.csv\")\n",
    "\n",
    "park.to_csv(\"../datasets/Data_filtered/park.csv\")\n",
    "\n",
    "sport.to_csv(\"../datasets/Data_filtered/sport.csv\")"
   ]
  },
  {
   "cell_type": "code",
   "execution_count": 130,
   "metadata": {},
   "outputs": [],
   "source": [
    "#step4: importing them again\n",
    "\n",
    "children=pd.read_csv(\"../datasets/Data_filtered/children.csv\")\n",
    "\n",
    "cinema=pd.read_csv(\"../datasets/Data_filtered/cinema.csv\")\n",
    "\n",
    "education=pd.read_csv(\"../datasets/Data_filtered/education.csv\")\n",
    "\n",
    "educationkids=pd.read_csv(\"../datasets/Data_filtered/educationkids.csv\")\n",
    "\n",
    "hospital=pd.read_csv(\"../datasets/Data_filtered/hospital.csv\")\n",
    "\n",
    "library=pd.read_csv(\"../datasets/Data_filtered/library.csv\")\n",
    "\n",
    "bars=pd.read_csv(\"../datasets/Data_filtered/bars.csv\")\n",
    "\n",
    "park=pd.read_csv(\"../datasets/Data_filtered/park.csv\")\n",
    "\n",
    "sport=pd.read_csv(\"../datasets/Data_filtered/sport.csv\")\n"
   ]
  },
  {
   "cell_type": "code",
   "execution_count": 131,
   "metadata": {},
   "outputs": [],
   "source": [
    "#step5:renaming the columns\n",
    "\n",
    "children=children.rename(columns={\"NUM_BARRI\":\"Nbh\",\"0\":\"Children_places\"})\n",
    "\n",
    "cinema=cinema.rename(columns={\"NUM_BARRI\":\"Nbh\",\"0\":\"Cinemas_Theatres\"})\n",
    "\n",
    "education=education.rename(columns={\"NUM_BARRI\":\"Nbh\",\"0\":\"Schools\"})\n",
    "\n",
    "educationkids=educationkids.rename(columns={\"NUM_BARRI\":\"Nbh\",\"0\":\"Pre-Schools\"})\n",
    "\n",
    "hospital=hospital.rename(columns={\"NUM_BARRI\":\"Nbh\",\"0\":\"Hospitals\"})\n",
    "\n",
    "library=library.rename(columns={\"NUM_BARRI\":\"Nbh\",\"0\":\"Libraries_Theatres\"})\n",
    "\n",
    "bars=bars.rename(columns={\"NUM_BARRI\":\"Nbh\",\"0\":\"Bars\"})\n",
    "\n",
    "park=park.rename(columns={\"NUM_BARRI\":\"Nbh\",\"0\":\"Park_Gardens\"})\n",
    "\n",
    "sport=sport.rename(columns={\"NUM_BARRI\":\"Nbh\",\"0\":\"Sport_Centers\"})"
   ]
  },
  {
   "cell_type": "code",
   "execution_count": 132,
   "metadata": {},
   "outputs": [],
   "source": [
    "#step6:saving the files again\n",
    "\n",
    "children.to_csv(\"../datasets/Data_filtered/children.csv\")\n",
    "\n",
    "cinema.to_csv(\"../datasets/Data_filtered/cinema.csv\")\n",
    "\n",
    "education.to_csv(\"../datasets/Data_filtered/education.csv\")\n",
    "\n",
    "educationkids.to_csv(\"../datasets/Data_filtered/educationkids.csv\")\n",
    "\n",
    "hospital.to_csv(\"../datasets/Data_filtered/hospital.csv\")\n",
    "\n",
    "library.to_csv(\"../datasets/Data_filtered/library.csv\")\n",
    "\n",
    "bars.to_csv(\"../datasets/Data_filtered/bars.csv\")\n",
    "\n",
    "park.to_csv(\"../datasets/Data_filtered/park.csv\")\n",
    "\n",
    "sport.to_csv(\"../datasets/Data_filtered/sport.csv\")"
   ]
  },
  {
   "cell_type": "markdown",
   "metadata": {},
   "source": [
    "## Data filtering Barcelona's population, rental prices and tenants/house"
   ]
  },
  {
   "cell_type": "code",
   "execution_count": 139,
   "metadata": {},
   "outputs": [],
   "source": [
    "#Step 1: import\n",
    "\n",
    "population=pd.read_csv(\"../datasets/unfiltered/2017_densitat.csv\")\n",
    "\n",
    "rental=pd.read_csv(\"../datasets/unfiltered/2017_lloguer_preu_trim.csv\")\n",
    "\n",
    "tenants=pd.read_csv(\"../datasets/unfiltered/2017_ocupacio_mitjana_domicilis.csv\")\n"
   ]
  },
  {
   "cell_type": "code",
   "execution_count": 140,
   "metadata": {},
   "outputs": [],
   "source": [
    "#Step 2: select the columns needed\n",
    "\n",
    "population= population[[\"Nom_Barri\",\"Població\",\"Densitat neta (hab/ha)\"]]\n",
    "\n",
    "rental= rental[[\"Nom_Barri\",\"Preu\"]]\n",
    "\n",
    "tenants=tenants[[\"Nom_Barri\",\"Ocupacio_mitjana\"]]\n"
   ]
  },
  {
   "cell_type": "code",
   "execution_count": 141,
   "metadata": {},
   "outputs": [],
   "source": [
    "#Step 3: rename\n",
    "\n",
    "population=population.rename(columns={\"Nom_Barri\":\"Nbh\",\"Població\":\"Population\",\"Densitat neta (hab/ha)\":\"Net_density(hab/ha)\"})\n",
    "\n",
    "rental=rental.rename(columns={\"Nom_Barri\":\"Nbh\",\"Preu\":\"Rental_price(€)/month\"})\n",
    "\n",
    "tenants=tenants.rename(columns={\"Nom_Barri\":\"Nbh\",\"Ocupacio_mitjana\":\"Avg_hab_per_house\"})\n"
   ]
  },
  {
   "cell_type": "code",
   "execution_count": 142,
   "metadata": {},
   "outputs": [],
   "source": [
    "#Step 4: safe the file\n",
    "\n",
    "population.to_csv(\"../datasets/Data_filtered/population.csv\")\n",
    "\n",
    "rental.to_csv(\"../datasets/Data_filtered/rental.csv\")\n",
    "\n",
    "tenants.to_csv(\"../datasets/Data_filtered/tenants.csv\")"
   ]
  },
  {
   "cell_type": "markdown",
   "metadata": {},
   "source": [
    "## More tryouts"
   ]
  },
  {
   "cell_type": "code",
   "execution_count": 136,
   "metadata": {},
   "outputs": [],
   "source": [
    "#we want to keep:\n",
    "#population (Població) and Densitat neta which is the number of habitans per habitable hectares(ha) residental surface\n",
    "#population.head()"
   ]
  },
  {
   "cell_type": "code",
   "execution_count": 138,
   "metadata": {},
   "outputs": [],
   "source": [
    "#select what I want\n",
    "\n",
    "#population= population[[\"Nom_Barri\",\"Població\",\"Densitat neta (hab/ha)\"]]\n",
    "\n",
    "#population"
   ]
  },
  {
   "cell_type": "code",
   "execution_count": 162,
   "metadata": {},
   "outputs": [],
   "source": [
    "#rename\n",
    "#population=population.rename(columns={\"Nom_Barri\":\"Nbh\",\"Població\":\"Population\",\"Densitat neta (hab/ha)\":\"Net_density(hab/ha)\"})"
   ]
  },
  {
   "cell_type": "code",
   "execution_count": 164,
   "metadata": {},
   "outputs": [],
   "source": [
    "#safe the file\n",
    "#population.to_csv(\"../datasets/Data_filtered/population.csv\")"
   ]
  },
  {
   "cell_type": "code",
   "execution_count": 143,
   "metadata": {},
   "outputs": [],
   "source": [
    "#rental.head()  #Nom_Barri,Preu"
   ]
  },
  {
   "cell_type": "code",
   "execution_count": 137,
   "metadata": {},
   "outputs": [],
   "source": [
    "#rental= rental[[\"Nom_Barri\",\"Preu\"]]\n"
   ]
  },
  {
   "cell_type": "code",
   "execution_count": 144,
   "metadata": {},
   "outputs": [],
   "source": [
    "#rental=rental.rename(columns={\"Nom_Barri\":\"Nbh\",\"Preu\":\"Rental_price(€)/month\"})"
   ]
  },
  {
   "cell_type": "code",
   "execution_count": 148,
   "metadata": {},
   "outputs": [],
   "source": [
    "#safe the file\n",
    "#rental.to_csv(\"../datasets/Data_filtered/rental.csv\")"
   ]
  },
  {
   "cell_type": "code",
   "execution_count": 145,
   "metadata": {},
   "outputs": [],
   "source": [
    "#tenants.head() #Nom_Barri,Ocupació_mitjana"
   ]
  },
  {
   "cell_type": "code",
   "execution_count": 151,
   "metadata": {},
   "outputs": [],
   "source": [
    "#tenants=tenants[[\"Nom_Barri\",\"Ocupacio_mitjana\"]]"
   ]
  },
  {
   "cell_type": "code",
   "execution_count": 146,
   "metadata": {},
   "outputs": [],
   "source": [
    "#tenants=tenants.rename(columns={\"Nom_Barri\":\"Nbh\",\"Ocupacio_mitjana\":\"Avg_hab_per_house\"})"
   ]
  },
  {
   "cell_type": "code",
   "execution_count": 156,
   "metadata": {},
   "outputs": [],
   "source": [
    "#tenants.to_csv(\"../datasets/Data_filtered/tenants.csv\")"
   ]
  }
 ],
 "metadata": {
  "kernelspec": {
   "display_name": "Python 3",
   "language": "python",
   "name": "python3"
  },
  "language_info": {
   "codemirror_mode": {
    "name": "ipython",
    "version": 3
   },
   "file_extension": ".py",
   "mimetype": "text/x-python",
   "name": "python",
   "nbconvert_exporter": "python",
   "pygments_lexer": "ipython3",
   "version": "3.8.3"
  },
  "toc": {
   "base_numbering": 1,
   "nav_menu": {},
   "number_sections": true,
   "sideBar": true,
   "skip_h1_title": false,
   "title_cell": "Table of Contents",
   "title_sidebar": "Contents",
   "toc_cell": false,
   "toc_position": {},
   "toc_section_display": true,
   "toc_window_display": true
  }
 },
 "nbformat": 4,
 "nbformat_minor": 4
}
