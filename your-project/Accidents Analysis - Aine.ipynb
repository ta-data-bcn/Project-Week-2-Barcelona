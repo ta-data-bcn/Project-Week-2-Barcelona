{
 "cells": [
  {
   "cell_type": "code",
   "execution_count": 1,
   "metadata": {},
   "outputs": [],
   "source": [
    "import pandas as pd"
   ]
  },
  {
   "cell_type": "code",
   "execution_count": 2,
   "metadata": {},
   "outputs": [],
   "source": [
    "# x / #ofdays\n",
    "#Xmas = 2 days\n",
    "#DayofCat = 4 days\n",
    "#Dec6 = 3 days\n",
    "#Holy_Week = 4 days\n",
    "#La_Merce = 4 days\n",
    "#New_Years = 2 days\n",
    "#San_Juan = 2 days"
   ]
  },
  {
   "cell_type": "code",
   "execution_count": 3,
   "metadata": {},
   "outputs": [],
   "source": [
    "Xmas = pd.read_csv(\"datasets/1.-Transportation/Holidays/Christmas.csv\")\n",
    "DayofCat = pd.read_csv(\"datasets/1.-Transportation/Holidays/DayofCat.csv\")\n",
    "Dec6 = pd.read_csv(\"datasets/1.-Transportation/Holidays/Dec6_8.csv\")\n",
    "Holy_Week = pd.read_csv(\"datasets/1.-Transportation/Holidays/Holy_Week.csv\")\n",
    "La_Merce = pd.read_csv(\"datasets/1.-Transportation/Holidays/La_Merce.csv\")\n",
    "New_Years = pd.read_csv(\"datasets/1.-Transportation/Holidays/New_Years.csv\")\n",
    "San_Juan = pd.read_csv(\"datasets/1.-Transportation/Holidays/San_Juan.csv\")"
   ]
  },
  {
   "cell_type": "code",
   "execution_count": 51,
   "metadata": {},
   "outputs": [
    {
     "name": "stdout",
     "output_type": "stream",
     "text": [
      "Ratio accidents Christmas: 15.0\n",
      "Ratio accidents Day of Catalonia: 11.25\n",
      "Ratio accidents Purisima holiday: 8.75\n",
      "Ratio accidents Holy Week: 15.0\n",
      "Ratio accidents La Mercè: 23.75\n",
      "Ratio accidents New Years: 14.5\n",
      "Ratio accidents San Juan: 19.0\n"
     ]
    }
   ],
   "source": [
    "print(f\"Ratio accidents Christmas: {(len(Xmas) / 2)}\")\n",
    "print(f\"Ratio accidents Day of Catalonia: {(len(DayofCat) / 4)}\")\n",
    "print(f\"Ratio accidents Purisima holiday: {(len(Dec6) / 4)}\")\n",
    "print(f\"Ratio accidents Holy Week: {(len(Holy_Week) / 4)}\")\n",
    "print(f\"Ratio accidents La Mercè: {(len(La_Merce) / 4)}\")\n",
    "print(f\"Ratio accidents New Years: {(len(New_Years) / 2)}\")\n",
    "print(f\"Ratio accidents San Juan: {(len(San_Juan) / 2)}\")"
   ]
  },
  {
   "cell_type": "code",
   "execution_count": 5,
   "metadata": {},
   "outputs": [
    {
     "data": {
      "text/plain": [
       "11.25"
      ]
     },
     "execution_count": 5,
     "metadata": {},
     "output_type": "execute_result"
    }
   ],
   "source": [
    "(len(DayofCat) / 4)"
   ]
  },
  {
   "cell_type": "code",
   "execution_count": 6,
   "metadata": {},
   "outputs": [
    {
     "data": {
      "text/plain": [
       "11.666666666666666"
      ]
     },
     "execution_count": 6,
     "metadata": {},
     "output_type": "execute_result"
    }
   ],
   "source": [
    "(len(Dec6) / 3)"
   ]
  },
  {
   "cell_type": "code",
   "execution_count": 7,
   "metadata": {},
   "outputs": [
    {
     "data": {
      "text/plain": [
       "15.0"
      ]
     },
     "execution_count": 7,
     "metadata": {},
     "output_type": "execute_result"
    }
   ],
   "source": [
    "(len(Holy_Week) / 4)"
   ]
  },
  {
   "cell_type": "code",
   "execution_count": 8,
   "metadata": {},
   "outputs": [
    {
     "data": {
      "text/plain": [
       "23.75"
      ]
     },
     "execution_count": 8,
     "metadata": {},
     "output_type": "execute_result"
    }
   ],
   "source": [
    "(len(La_Merce) / 4)"
   ]
  },
  {
   "cell_type": "code",
   "execution_count": 9,
   "metadata": {},
   "outputs": [
    {
     "data": {
      "text/plain": [
       "14.5"
      ]
     },
     "execution_count": 9,
     "metadata": {},
     "output_type": "execute_result"
    }
   ],
   "source": [
    "(len(New_Years) / 2)"
   ]
  },
  {
   "cell_type": "code",
   "execution_count": 10,
   "metadata": {},
   "outputs": [
    {
     "data": {
      "text/plain": [
       "19.0"
      ]
     },
     "execution_count": 10,
     "metadata": {},
     "output_type": "execute_result"
    }
   ],
   "source": [
    "(len(San_Juan) / 2)"
   ]
  },
  {
   "cell_type": "code",
   "execution_count": 11,
   "metadata": {},
   "outputs": [],
   "source": [
    "#Most accidents occur on La Merce, averaging 23.75 accidents per day. The average of accidents per day on non-holiday days, is 29.42."
   ]
  },
  {
   "cell_type": "code",
   "execution_count": null,
   "metadata": {},
   "outputs": [],
   "source": []
  },
  {
   "cell_type": "code",
   "execution_count": 12,
   "metadata": {},
   "outputs": [],
   "source": [
    "#Ratio of accidents per district"
   ]
  },
  {
   "cell_type": "code",
   "execution_count": 13,
   "metadata": {},
   "outputs": [],
   "source": [
    "#On holidays, the most accidents always occur in Eixample, except Christmas, when the most accidents occur in Sant Marti."
   ]
  },
  {
   "cell_type": "code",
   "execution_count": 14,
   "metadata": {},
   "outputs": [
    {
     "data": {
      "text/plain": [
       "Gràcia                 1\n",
       "Les Corts              1\n",
       "Sants-Montjuïc         1\n",
       "Sant Andreu            2\n",
       "Horta-Guinardó         3\n",
       "Ciutat Vella           3\n",
       "Eixample               5\n",
       "Sarrià-Sant Gervasi    6\n",
       "Sant Martí             8\n",
       "Name: District Name, dtype: int64"
      ]
     },
     "execution_count": 14,
     "metadata": {},
     "output_type": "execute_result"
    }
   ],
   "source": [
    "Xmas[\"District Name\"].value_counts().sort_values(ascending=True)"
   ]
  },
  {
   "cell_type": "code",
   "execution_count": 15,
   "metadata": {},
   "outputs": [
    {
     "data": {
      "text/plain": [
       "Sants-Montjuïc         2\n",
       "Horta-Guinardó         3\n",
       "Ciutat Vella           3\n",
       "Nou Barris             3\n",
       "Gràcia                 4\n",
       "Sarrià-Sant Gervasi    4\n",
       "Sant Andreu            5\n",
       "Les Corts              6\n",
       "Sant Martí             6\n",
       "Eixample               9\n",
       "Name: District Name, dtype: int64"
      ]
     },
     "execution_count": 15,
     "metadata": {},
     "output_type": "execute_result"
    }
   ],
   "source": [
    "DayofCat[\"District Name\"].value_counts().sort_values(ascending=True)"
   ]
  },
  {
   "cell_type": "code",
   "execution_count": 16,
   "metadata": {},
   "outputs": [
    {
     "data": {
      "text/plain": [
       "Horta-Guinardó          1\n",
       "Sarrià-Sant Gervasi     1\n",
       "Unknown                 1\n",
       "Nou Barris              2\n",
       "Ciutat Vella            2\n",
       "Gràcia                  3\n",
       "Les Corts               3\n",
       "Sant Andreu             3\n",
       "Sant Martí              4\n",
       "Sants-Montjuïc          5\n",
       "Eixample               10\n",
       "Name: District Name, dtype: int64"
      ]
     },
     "execution_count": 16,
     "metadata": {},
     "output_type": "execute_result"
    }
   ],
   "source": [
    "Dec6[\"District Name\"].value_counts().sort_values(ascending=True)"
   ]
  },
  {
   "cell_type": "code",
   "execution_count": 17,
   "metadata": {},
   "outputs": [
    {
     "data": {
      "text/plain": [
       "Les Corts               1\n",
       "Gràcia                  1\n",
       "Nou Barris              4\n",
       "Sant Andreu             4\n",
       "Ciutat Vella            5\n",
       "Horta-Guinardó          6\n",
       "Sarrià-Sant Gervasi     7\n",
       "Sant Martí              7\n",
       "Sants-Montjuïc          7\n",
       "Eixample               18\n",
       "Name: District Name, dtype: int64"
      ]
     },
     "execution_count": 17,
     "metadata": {},
     "output_type": "execute_result"
    }
   ],
   "source": [
    "Holy_Week[\"District Name\"].value_counts().sort_values(ascending=True)"
   ]
  },
  {
   "cell_type": "code",
   "execution_count": 18,
   "metadata": {},
   "outputs": [
    {
     "data": {
      "text/plain": [
       "Unknown                 1\n",
       "Sant Andreu             1\n",
       "Gràcia                  4\n",
       "Ciutat Vella            5\n",
       "Nou Barris              8\n",
       "Horta-Guinardó          9\n",
       "Sarrià-Sant Gervasi     9\n",
       "Les Corts               9\n",
       "Sants-Montjuïc          9\n",
       "Sant Martí             14\n",
       "Eixample               26\n",
       "Name: District Name, dtype: int64"
      ]
     },
     "execution_count": 18,
     "metadata": {},
     "output_type": "execute_result"
    }
   ],
   "source": [
    "La_Merce[\"District Name\"].value_counts().sort_values(ascending=True)"
   ]
  },
  {
   "cell_type": "code",
   "execution_count": 19,
   "metadata": {},
   "outputs": [
    {
     "data": {
      "text/plain": [
       "Ciutat Vella            1\n",
       "Nou Barris              1\n",
       "Sant Andreu             1\n",
       "Gràcia                  1\n",
       "Horta-Guinardó          2\n",
       "Sarrià-Sant Gervasi     2\n",
       "Sants-Montjuïc          3\n",
       "Sant Martí              8\n",
       "Eixample               10\n",
       "Name: District Name, dtype: int64"
      ]
     },
     "execution_count": 19,
     "metadata": {},
     "output_type": "execute_result"
    }
   ],
   "source": [
    "New_Years[\"District Name\"].value_counts().sort_values(ascending=True)"
   ]
  },
  {
   "cell_type": "code",
   "execution_count": 20,
   "metadata": {},
   "outputs": [
    {
     "data": {
      "text/plain": [
       "Gràcia                  1\n",
       "Horta-Guinardó          1\n",
       "Nou Barris              1\n",
       "Sarrià-Sant Gervasi     3\n",
       "Sant Martí              3\n",
       "Les Corts               3\n",
       "Sants-Montjuïc          3\n",
       "Ciutat Vella            4\n",
       "Sant Andreu             4\n",
       "Eixample               15\n",
       "Name: District Name, dtype: int64"
      ]
     },
     "execution_count": 20,
     "metadata": {},
     "output_type": "execute_result"
    }
   ],
   "source": [
    "San_Juan[\"District Name\"].value_counts().sort_values(ascending=True)"
   ]
  },
  {
   "cell_type": "code",
   "execution_count": 21,
   "metadata": {},
   "outputs": [],
   "source": [
    "#Do accidents occur at night or during the day?\n",
    "#Conclusion - it is safer to drive at night on a holiday.. as long as you haven't been drinking. When compared to the Morning or Afternoon, the nightime has the least amount.  \n",
    "#On Xmas - 80% happen before night\n",
    "#DayofC - 82% of accidents happen before nighttime \n",
    "#Dec_6 - approx same amount of accidents occur all day\n",
    "#Holy_Week - 83% happen before nighttime\n",
    "#La_Merce - 80% happen before nighttime\n",
    "#New_Years - 86% happen before night\n",
    "#San_Juan - 79% happen before night"
   ]
  },
  {
   "cell_type": "code",
   "execution_count": 22,
   "metadata": {},
   "outputs": [
    {
     "data": {
      "text/plain": [
       "6"
      ]
     },
     "execution_count": 22,
     "metadata": {},
     "output_type": "execute_result"
    }
   ],
   "source": [
    "len(Xmas[Xmas[\"Part of the day\"] == \"Night\"])"
   ]
  },
  {
   "cell_type": "code",
   "execution_count": 23,
   "metadata": {},
   "outputs": [
    {
     "data": {
      "text/plain": [
       "6"
      ]
     },
     "execution_count": 23,
     "metadata": {},
     "output_type": "execute_result"
    }
   ],
   "source": [
    "len(Xmas[Xmas[\"Part of the day\"] == \"Morning\"])"
   ]
  },
  {
   "cell_type": "code",
   "execution_count": 24,
   "metadata": {},
   "outputs": [
    {
     "data": {
      "text/plain": [
       "18"
      ]
     },
     "execution_count": 24,
     "metadata": {},
     "output_type": "execute_result"
    }
   ],
   "source": [
    "len(Xmas[Xmas[\"Part of the day\"] == \"Afternoon\"])"
   ]
  },
  {
   "cell_type": "code",
   "execution_count": 25,
   "metadata": {},
   "outputs": [
    {
     "data": {
      "text/plain": [
       "8"
      ]
     },
     "execution_count": 25,
     "metadata": {},
     "output_type": "execute_result"
    }
   ],
   "source": [
    "len(DayofCat[DayofCat[\"Part of the day\"] == \"Night\"])"
   ]
  },
  {
   "cell_type": "code",
   "execution_count": 26,
   "metadata": {},
   "outputs": [
    {
     "data": {
      "text/plain": [
       "19"
      ]
     },
     "execution_count": 26,
     "metadata": {},
     "output_type": "execute_result"
    }
   ],
   "source": [
    "len(DayofCat[DayofCat[\"Part of the day\"] == \"Morning\"])"
   ]
  },
  {
   "cell_type": "code",
   "execution_count": 27,
   "metadata": {},
   "outputs": [
    {
     "data": {
      "text/plain": [
       "18"
      ]
     },
     "execution_count": 27,
     "metadata": {},
     "output_type": "execute_result"
    }
   ],
   "source": [
    "len(DayofCat[DayofCat[\"Part of the day\"] == \"Afternoon\"])"
   ]
  },
  {
   "cell_type": "code",
   "execution_count": 28,
   "metadata": {},
   "outputs": [
    {
     "data": {
      "text/plain": [
       "12"
      ]
     },
     "execution_count": 28,
     "metadata": {},
     "output_type": "execute_result"
    }
   ],
   "source": [
    "len(Dec6[Dec6[\"Part of the day\"] == \"Morning\"])"
   ]
  },
  {
   "cell_type": "code",
   "execution_count": 29,
   "metadata": {},
   "outputs": [
    {
     "data": {
      "text/plain": [
       "13"
      ]
     },
     "execution_count": 29,
     "metadata": {},
     "output_type": "execute_result"
    }
   ],
   "source": [
    "len(Dec6[Dec6[\"Part of the day\"] == \"Afternoon\"])"
   ]
  },
  {
   "cell_type": "code",
   "execution_count": 30,
   "metadata": {},
   "outputs": [
    {
     "data": {
      "text/plain": [
       "10"
      ]
     },
     "execution_count": 30,
     "metadata": {},
     "output_type": "execute_result"
    }
   ],
   "source": [
    "len(Dec6[Dec6[\"Part of the day\"] == \"Night\"])"
   ]
  },
  {
   "cell_type": "code",
   "execution_count": 31,
   "metadata": {},
   "outputs": [
    {
     "data": {
      "text/plain": [
       "21"
      ]
     },
     "execution_count": 31,
     "metadata": {},
     "output_type": "execute_result"
    }
   ],
   "source": [
    "len(Holy_Week[Holy_Week[\"Part of the day\"] == \"Morning\"])"
   ]
  },
  {
   "cell_type": "code",
   "execution_count": 32,
   "metadata": {},
   "outputs": [
    {
     "data": {
      "text/plain": [
       "29"
      ]
     },
     "execution_count": 32,
     "metadata": {},
     "output_type": "execute_result"
    }
   ],
   "source": [
    "len(Holy_Week[Holy_Week[\"Part of the day\"] == \"Afternoon\"])"
   ]
  },
  {
   "cell_type": "code",
   "execution_count": 33,
   "metadata": {},
   "outputs": [
    {
     "data": {
      "text/plain": [
       "10"
      ]
     },
     "execution_count": 33,
     "metadata": {},
     "output_type": "execute_result"
    }
   ],
   "source": [
    "len(Holy_Week[Holy_Week[\"Part of the day\"] == \"Night\"])"
   ]
  },
  {
   "cell_type": "code",
   "execution_count": 34,
   "metadata": {},
   "outputs": [
    {
     "data": {
      "text/plain": [
       "26"
      ]
     },
     "execution_count": 34,
     "metadata": {},
     "output_type": "execute_result"
    }
   ],
   "source": [
    "len(La_Merce[La_Merce[\"Part of the day\"] == \"Morning\"])"
   ]
  },
  {
   "cell_type": "code",
   "execution_count": 35,
   "metadata": {},
   "outputs": [
    {
     "data": {
      "text/plain": [
       "50"
      ]
     },
     "execution_count": 35,
     "metadata": {},
     "output_type": "execute_result"
    }
   ],
   "source": [
    "len(La_Merce[La_Merce[\"Part of the day\"] == \"Afternoon\"])"
   ]
  },
  {
   "cell_type": "code",
   "execution_count": 36,
   "metadata": {},
   "outputs": [
    {
     "data": {
      "text/plain": [
       "19"
      ]
     },
     "execution_count": 36,
     "metadata": {},
     "output_type": "execute_result"
    }
   ],
   "source": [
    "len(La_Merce[La_Merce[\"Part of the day\"] == \"Night\"])"
   ]
  },
  {
   "cell_type": "code",
   "execution_count": 37,
   "metadata": {},
   "outputs": [
    {
     "data": {
      "text/plain": [
       "10"
      ]
     },
     "execution_count": 37,
     "metadata": {},
     "output_type": "execute_result"
    }
   ],
   "source": [
    "len(New_Years[New_Years[\"Part of the day\"] == \"Morning\"])"
   ]
  },
  {
   "cell_type": "code",
   "execution_count": 38,
   "metadata": {},
   "outputs": [
    {
     "data": {
      "text/plain": [
       "15"
      ]
     },
     "execution_count": 38,
     "metadata": {},
     "output_type": "execute_result"
    }
   ],
   "source": [
    "len(New_Years[New_Years[\"Part of the day\"] == \"Afternoon\"])"
   ]
  },
  {
   "cell_type": "code",
   "execution_count": 39,
   "metadata": {},
   "outputs": [
    {
     "data": {
      "text/plain": [
       "4"
      ]
     },
     "execution_count": 39,
     "metadata": {},
     "output_type": "execute_result"
    }
   ],
   "source": [
    "len(New_Years[New_Years[\"Part of the day\"] == \"Night\"])"
   ]
  },
  {
   "cell_type": "code",
   "execution_count": 40,
   "metadata": {},
   "outputs": [
    {
     "data": {
      "text/plain": [
       "10"
      ]
     },
     "execution_count": 40,
     "metadata": {},
     "output_type": "execute_result"
    }
   ],
   "source": [
    "len(San_Juan[San_Juan[\"Part of the day\"] == \"Morning\"])"
   ]
  },
  {
   "cell_type": "code",
   "execution_count": 41,
   "metadata": {},
   "outputs": [
    {
     "data": {
      "text/plain": [
       "20"
      ]
     },
     "execution_count": 41,
     "metadata": {},
     "output_type": "execute_result"
    }
   ],
   "source": [
    "len(San_Juan[San_Juan[\"Part of the day\"] == \"Afternoon\"])"
   ]
  },
  {
   "cell_type": "code",
   "execution_count": 42,
   "metadata": {},
   "outputs": [
    {
     "data": {
      "text/plain": [
       "8"
      ]
     },
     "execution_count": 42,
     "metadata": {},
     "output_type": "execute_result"
    }
   ],
   "source": [
    "len(San_Juan[San_Juan[\"Part of the day\"] == \"Night\"])"
   ]
  },
  {
   "cell_type": "code",
   "execution_count": 43,
   "metadata": {},
   "outputs": [],
   "source": [
    "#By far, the most victims are involved, on avg per day, during the day of catalonia weekend."
   ]
  },
  {
   "cell_type": "code",
   "execution_count": 44,
   "metadata": {},
   "outputs": [
    {
     "data": {
      "text/plain": [
       "18.5"
      ]
     },
     "execution_count": 44,
     "metadata": {},
     "output_type": "execute_result"
    }
   ],
   "source": [
    "(Xmas[\"Victims\"].sum()) / 2"
   ]
  },
  {
   "cell_type": "code",
   "execution_count": 45,
   "metadata": {},
   "outputs": [
    {
     "data": {
      "text/plain": [
       "13.25"
      ]
     },
     "execution_count": 45,
     "metadata": {},
     "output_type": "execute_result"
    }
   ],
   "source": [
    "(DayofCat[\"Victims\"].sum()) / 4"
   ]
  },
  {
   "cell_type": "code",
   "execution_count": 46,
   "metadata": {},
   "outputs": [
    {
     "data": {
      "text/plain": [
       "16.666666666666668"
      ]
     },
     "execution_count": 46,
     "metadata": {},
     "output_type": "execute_result"
    }
   ],
   "source": [
    "(Dec6[\"Victims\"].sum()) / 3"
   ]
  },
  {
   "cell_type": "code",
   "execution_count": 47,
   "metadata": {},
   "outputs": [
    {
     "data": {
      "text/plain": [
       "17.75"
      ]
     },
     "execution_count": 47,
     "metadata": {},
     "output_type": "execute_result"
    }
   ],
   "source": [
    "(Holy_Week[\"Victims\"].sum()) / 4"
   ]
  },
  {
   "cell_type": "code",
   "execution_count": 48,
   "metadata": {},
   "outputs": [
    {
     "data": {
      "text/plain": [
       "28.75"
      ]
     },
     "execution_count": 48,
     "metadata": {},
     "output_type": "execute_result"
    }
   ],
   "source": [
    "(La_Merce[\"Victims\"].sum()) / 4"
   ]
  },
  {
   "cell_type": "code",
   "execution_count": 49,
   "metadata": {},
   "outputs": [
    {
     "data": {
      "text/plain": [
       "15.0"
      ]
     },
     "execution_count": 49,
     "metadata": {},
     "output_type": "execute_result"
    }
   ],
   "source": [
    "(New_Years[\"Victims\"].sum()) / 2"
   ]
  },
  {
   "cell_type": "code",
   "execution_count": 69,
   "metadata": {},
   "outputs": [
    {
     "data": {
      "text/plain": [
       "19.5"
      ]
     },
     "execution_count": 69,
     "metadata": {},
     "output_type": "execute_result"
    }
   ],
   "source": [
    "(San_Juan[\"Victims\"].sum()) / 2"
   ]
  },
  {
   "cell_type": "code",
   "execution_count": null,
   "metadata": {},
   "outputs": [],
   "source": [
    "#"
   ]
  }
 ],
 "metadata": {
  "kernelspec": {
   "display_name": "Python 3",
   "language": "python",
   "name": "python3"
  },
  "language_info": {
   "codemirror_mode": {
    "name": "ipython",
    "version": 3
   },
   "file_extension": ".py",
   "mimetype": "text/x-python",
   "name": "python",
   "nbconvert_exporter": "python",
   "pygments_lexer": "ipython3",
   "version": "3.8.3"
  }
 },
 "nbformat": 4,
 "nbformat_minor": 4
}
