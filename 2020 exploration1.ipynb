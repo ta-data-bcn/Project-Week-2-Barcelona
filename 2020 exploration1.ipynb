{
 "cells": [
  {
   "cell_type": "code",
   "execution_count": 71,
   "metadata": {},
   "outputs": [],
   "source": [
    "import pandas as pd"
   ]
  },
  {
   "cell_type": "code",
   "execution_count": 72,
   "metadata": {
    "scrolled": false
   },
   "outputs": [
    {
     "data": {
      "text/html": [
       "<div>\n",
       "<style scoped>\n",
       "    .dataframe tbody tr th:only-of-type {\n",
       "        vertical-align: middle;\n",
       "    }\n",
       "\n",
       "    .dataframe tbody tr th {\n",
       "        vertical-align: top;\n",
       "    }\n",
       "\n",
       "    .dataframe thead th {\n",
       "        text-align: right;\n",
       "    }\n",
       "</style>\n",
       "<table border=\"1\" class=\"dataframe\">\n",
       "  <thead>\n",
       "    <tr style=\"text-align: right;\">\n",
       "      <th></th>\n",
       "      <th>Any</th>\n",
       "      <th>Mes</th>\n",
       "      <th>Codi_Districte</th>\n",
       "      <th>Nom_Districte</th>\n",
       "      <th>Codi_Barri</th>\n",
       "      <th>Nom_Barri</th>\n",
       "      <th>Sexe</th>\n",
       "      <th>Demanda_ocupacio</th>\n",
       "      <th>Nombre</th>\n",
       "    </tr>\n",
       "  </thead>\n",
       "  <tbody>\n",
       "    <tr>\n",
       "      <th>0</th>\n",
       "      <td>2020</td>\n",
       "      <td>1</td>\n",
       "      <td>1</td>\n",
       "      <td>Ciutat Vella</td>\n",
       "      <td>1</td>\n",
       "      <td>el Raval</td>\n",
       "      <td>Homes</td>\n",
       "      <td>Atur Registrat</td>\n",
       "      <td>1724</td>\n",
       "    </tr>\n",
       "    <tr>\n",
       "      <th>1</th>\n",
       "      <td>2020</td>\n",
       "      <td>1</td>\n",
       "      <td>1</td>\n",
       "      <td>Ciutat Vella</td>\n",
       "      <td>2</td>\n",
       "      <td>el Barri Gòtic</td>\n",
       "      <td>Homes</td>\n",
       "      <td>Atur Registrat</td>\n",
       "      <td>491</td>\n",
       "    </tr>\n",
       "    <tr>\n",
       "      <th>2</th>\n",
       "      <td>2020</td>\n",
       "      <td>1</td>\n",
       "      <td>1</td>\n",
       "      <td>Ciutat Vella</td>\n",
       "      <td>3</td>\n",
       "      <td>la Barceloneta</td>\n",
       "      <td>Homes</td>\n",
       "      <td>Atur Registrat</td>\n",
       "      <td>489</td>\n",
       "    </tr>\n",
       "    <tr>\n",
       "      <th>3</th>\n",
       "      <td>2020</td>\n",
       "      <td>1</td>\n",
       "      <td>1</td>\n",
       "      <td>Ciutat Vella</td>\n",
       "      <td>4</td>\n",
       "      <td>Sant Pere, Santa Caterina i la Ribera</td>\n",
       "      <td>Homes</td>\n",
       "      <td>Atur Registrat</td>\n",
       "      <td>673</td>\n",
       "    </tr>\n",
       "    <tr>\n",
       "      <th>4</th>\n",
       "      <td>2020</td>\n",
       "      <td>1</td>\n",
       "      <td>2</td>\n",
       "      <td>Eixample</td>\n",
       "      <td>5</td>\n",
       "      <td>el Fort Pienc</td>\n",
       "      <td>Homes</td>\n",
       "      <td>Atur Registrat</td>\n",
       "      <td>542</td>\n",
       "    </tr>\n",
       "    <tr>\n",
       "      <th>...</th>\n",
       "      <td>...</td>\n",
       "      <td>...</td>\n",
       "      <td>...</td>\n",
       "      <td>...</td>\n",
       "      <td>...</td>\n",
       "      <td>...</td>\n",
       "      <td>...</td>\n",
       "      <td>...</td>\n",
       "      <td>...</td>\n",
       "    </tr>\n",
       "    <tr>\n",
       "      <th>2659</th>\n",
       "      <td>2020</td>\n",
       "      <td>9</td>\n",
       "      <td>10</td>\n",
       "      <td>Sant Martí</td>\n",
       "      <td>70</td>\n",
       "      <td>el Besòs i el Maresme</td>\n",
       "      <td>Dones</td>\n",
       "      <td>Demanda No Aturats</td>\n",
       "      <td>1086</td>\n",
       "    </tr>\n",
       "    <tr>\n",
       "      <th>2660</th>\n",
       "      <td>2020</td>\n",
       "      <td>9</td>\n",
       "      <td>10</td>\n",
       "      <td>Sant Martí</td>\n",
       "      <td>71</td>\n",
       "      <td>Provençals del Poblenou</td>\n",
       "      <td>Dones</td>\n",
       "      <td>Demanda No Aturats</td>\n",
       "      <td>870</td>\n",
       "    </tr>\n",
       "    <tr>\n",
       "      <th>2661</th>\n",
       "      <td>2020</td>\n",
       "      <td>9</td>\n",
       "      <td>10</td>\n",
       "      <td>Sant Martí</td>\n",
       "      <td>72</td>\n",
       "      <td>Sant Martí de Provençals</td>\n",
       "      <td>Dones</td>\n",
       "      <td>Demanda No Aturats</td>\n",
       "      <td>1227</td>\n",
       "    </tr>\n",
       "    <tr>\n",
       "      <th>2662</th>\n",
       "      <td>2020</td>\n",
       "      <td>9</td>\n",
       "      <td>10</td>\n",
       "      <td>Sant Martí</td>\n",
       "      <td>73</td>\n",
       "      <td>la Verneda i la Pau</td>\n",
       "      <td>Dones</td>\n",
       "      <td>Demanda No Aturats</td>\n",
       "      <td>1384</td>\n",
       "    </tr>\n",
       "    <tr>\n",
       "      <th>2663</th>\n",
       "      <td>2020</td>\n",
       "      <td>9</td>\n",
       "      <td>99</td>\n",
       "      <td>No consta</td>\n",
       "      <td>99</td>\n",
       "      <td>No consta</td>\n",
       "      <td>Dones</td>\n",
       "      <td>Demanda No Aturats</td>\n",
       "      <td>234</td>\n",
       "    </tr>\n",
       "  </tbody>\n",
       "</table>\n",
       "<p>2664 rows × 9 columns</p>\n",
       "</div>"
      ],
      "text/plain": [
       "       Any  Mes  Codi_Districte Nom_Districte  Codi_Barri  \\\n",
       "0     2020    1               1  Ciutat Vella           1   \n",
       "1     2020    1               1  Ciutat Vella           2   \n",
       "2     2020    1               1  Ciutat Vella           3   \n",
       "3     2020    1               1  Ciutat Vella           4   \n",
       "4     2020    1               2      Eixample           5   \n",
       "...    ...  ...             ...           ...         ...   \n",
       "2659  2020    9              10    Sant Martí          70   \n",
       "2660  2020    9              10    Sant Martí          71   \n",
       "2661  2020    9              10    Sant Martí          72   \n",
       "2662  2020    9              10    Sant Martí          73   \n",
       "2663  2020    9              99     No consta          99   \n",
       "\n",
       "                                  Nom_Barri   Sexe    Demanda_ocupacio  Nombre  \n",
       "0                                  el Raval  Homes      Atur Registrat    1724  \n",
       "1                            el Barri Gòtic  Homes      Atur Registrat     491  \n",
       "2                            la Barceloneta  Homes      Atur Registrat     489  \n",
       "3     Sant Pere, Santa Caterina i la Ribera  Homes      Atur Registrat     673  \n",
       "4                             el Fort Pienc  Homes      Atur Registrat     542  \n",
       "...                                     ...    ...                 ...     ...  \n",
       "2659                  el Besòs i el Maresme  Dones  Demanda No Aturats    1086  \n",
       "2660                Provençals del Poblenou  Dones  Demanda No Aturats     870  \n",
       "2661               Sant Martí de Provençals  Dones  Demanda No Aturats    1227  \n",
       "2662                    la Verneda i la Pau  Dones  Demanda No Aturats    1384  \n",
       "2663                              No consta  Dones  Demanda No Aturats     234  \n",
       "\n",
       "[2664 rows x 9 columns]"
      ]
     },
     "execution_count": 72,
     "metadata": {},
     "output_type": "execute_result"
    }
   ],
   "source": [
    "data_path = 'data/2020_Atur_per_sexe.csv'\n",
    "unemp20 = pd.read_csv(data_path)\n",
    "unemp20"
   ]
  },
  {
   "cell_type": "code",
   "execution_count": 103,
   "metadata": {},
   "outputs": [],
   "source": [
    "unemplo_20 = pd.DataFrame(unemp20.groupby([\"Mes\",\"Nom_Districte\", \"Sexe\"])[\"Nombre\"].sum()).reset_index()"
   ]
  },
  {
   "cell_type": "code",
   "execution_count": 105,
   "metadata": {},
   "outputs": [
    {
     "data": {
      "text/html": [
       "<div>\n",
       "<style scoped>\n",
       "    .dataframe tbody tr th:only-of-type {\n",
       "        vertical-align: middle;\n",
       "    }\n",
       "\n",
       "    .dataframe tbody tr th {\n",
       "        vertical-align: top;\n",
       "    }\n",
       "\n",
       "    .dataframe thead th {\n",
       "        text-align: right;\n",
       "    }\n",
       "</style>\n",
       "<table border=\"1\" class=\"dataframe\">\n",
       "  <thead>\n",
       "    <tr style=\"text-align: right;\">\n",
       "      <th></th>\n",
       "      <th>Mes</th>\n",
       "      <th>Nom_Districte</th>\n",
       "      <th>Sexe</th>\n",
       "      <th>Nombre</th>\n",
       "    </tr>\n",
       "  </thead>\n",
       "  <tbody>\n",
       "    <tr>\n",
       "      <th>0</th>\n",
       "      <td>1</td>\n",
       "      <td>Ciutat Vella</td>\n",
       "      <td>Dones</td>\n",
       "      <td>3731</td>\n",
       "    </tr>\n",
       "    <tr>\n",
       "      <th>1</th>\n",
       "      <td>1</td>\n",
       "      <td>Ciutat Vella</td>\n",
       "      <td>Homes</td>\n",
       "      <td>4330</td>\n",
       "    </tr>\n",
       "    <tr>\n",
       "      <th>2</th>\n",
       "      <td>1</td>\n",
       "      <td>Eixample</td>\n",
       "      <td>Dones</td>\n",
       "      <td>6567</td>\n",
       "    </tr>\n",
       "    <tr>\n",
       "      <th>3</th>\n",
       "      <td>1</td>\n",
       "      <td>Eixample</td>\n",
       "      <td>Homes</td>\n",
       "      <td>5499</td>\n",
       "    </tr>\n",
       "    <tr>\n",
       "      <th>4</th>\n",
       "      <td>1</td>\n",
       "      <td>Gràcia</td>\n",
       "      <td>Dones</td>\n",
       "      <td>3307</td>\n",
       "    </tr>\n",
       "    <tr>\n",
       "      <th>...</th>\n",
       "      <td>...</td>\n",
       "      <td>...</td>\n",
       "      <td>...</td>\n",
       "      <td>...</td>\n",
       "    </tr>\n",
       "    <tr>\n",
       "      <th>193</th>\n",
       "      <td>9</td>\n",
       "      <td>Sant Martí</td>\n",
       "      <td>Homes</td>\n",
       "      <td>17828</td>\n",
       "    </tr>\n",
       "    <tr>\n",
       "      <th>194</th>\n",
       "      <td>9</td>\n",
       "      <td>Sants-Montjuïc</td>\n",
       "      <td>Dones</td>\n",
       "      <td>14313</td>\n",
       "    </tr>\n",
       "    <tr>\n",
       "      <th>195</th>\n",
       "      <td>9</td>\n",
       "      <td>Sants-Montjuïc</td>\n",
       "      <td>Homes</td>\n",
       "      <td>14285</td>\n",
       "    </tr>\n",
       "    <tr>\n",
       "      <th>196</th>\n",
       "      <td>9</td>\n",
       "      <td>Sarrià-Sant Gervasi</td>\n",
       "      <td>Dones</td>\n",
       "      <td>6408</td>\n",
       "    </tr>\n",
       "    <tr>\n",
       "      <th>197</th>\n",
       "      <td>9</td>\n",
       "      <td>Sarrià-Sant Gervasi</td>\n",
       "      <td>Homes</td>\n",
       "      <td>5461</td>\n",
       "    </tr>\n",
       "  </tbody>\n",
       "</table>\n",
       "<p>198 rows × 4 columns</p>\n",
       "</div>"
      ],
      "text/plain": [
       "     Mes        Nom_Districte   Sexe  Nombre\n",
       "0      1         Ciutat Vella  Dones    3731\n",
       "1      1         Ciutat Vella  Homes    4330\n",
       "2      1             Eixample  Dones    6567\n",
       "3      1             Eixample  Homes    5499\n",
       "4      1               Gràcia  Dones    3307\n",
       "..   ...                  ...    ...     ...\n",
       "193    9           Sant Martí  Homes   17828\n",
       "194    9       Sants-Montjuïc  Dones   14313\n",
       "195    9       Sants-Montjuïc  Homes   14285\n",
       "196    9  Sarrià-Sant Gervasi  Dones    6408\n",
       "197    9  Sarrià-Sant Gervasi  Homes    5461\n",
       "\n",
       "[198 rows x 4 columns]"
      ]
     },
     "execution_count": 105,
     "metadata": {},
     "output_type": "execute_result"
    }
   ],
   "source": [
    "unemplo_20"
   ]
  },
  {
   "cell_type": "code",
   "execution_count": 109,
   "metadata": {},
   "outputs": [
    {
     "data": {
      "text/plain": [
       "236926"
      ]
     },
     "execution_count": 109,
     "metadata": {},
     "output_type": "execute_result"
    }
   ],
   "source": [
    "#total unemployment 2020\n",
    "\n",
    "total = unemplo_20[(unemplo_20[\"Mes\"] == 9)][\"Nombre\"].sum()\n",
    "total"
   ]
  },
  {
   "cell_type": "code",
   "execution_count": 113,
   "metadata": {},
   "outputs": [
    {
     "data": {
      "text/plain": [
       "119082"
      ]
     },
     "execution_count": 113,
     "metadata": {},
     "output_type": "execute_result"
    }
   ],
   "source": [
    "# total women unemployed 2020\n",
    "mujeres_20 = unemplo_20[(unemplo_20[\"Sexe\"] == \"Dones\") & (unemplo_20[\"Mes\"] == 9)][\"Nombre\"].sum()\n",
    "mujeres_20"
   ]
  },
  {
   "cell_type": "code",
   "execution_count": 114,
   "metadata": {},
   "outputs": [
    {
     "data": {
      "text/plain": [
       "117844"
      ]
     },
     "execution_count": 114,
     "metadata": {},
     "output_type": "execute_result"
    }
   ],
   "source": [
    "# total men unemployed 2020\n",
    "men_20 = unemplo_20[(unemplo_20[\"Sexe\"] == \"Homes\") & (unemplo_20[\"Mes\"] == 9)][\"Nombre\"].sum()\n",
    "men_20"
   ]
  },
  {
   "cell_type": "code",
   "execution_count": 115,
   "metadata": {},
   "outputs": [
    {
     "data": {
      "text/plain": [
       "96674"
      ]
     },
     "execution_count": 115,
     "metadata": {},
     "output_type": "execute_result"
    }
   ],
   "source": [
    "#total unemployment first trimester\n",
    "\n",
    "total_t1 = unemplo_20[(unemplo_20[\"Mes\"] == 3)][\"Nombre\"].sum()\n",
    "total_t1"
   ]
  },
  {
   "cell_type": "code",
   "execution_count": 117,
   "metadata": {},
   "outputs": [
    {
     "data": {
      "text/plain": [
       "225861"
      ]
     },
     "execution_count": 117,
     "metadata": {},
     "output_type": "execute_result"
    }
   ],
   "source": [
    "#total unemployment second trimester\n",
    "\n",
    "total_t2 = unemplo_20[(unemplo_20[\"Mes\"] == 6)][\"Nombre\"].sum()\n",
    "total_t2"
   ]
  },
  {
   "cell_type": "code",
   "execution_count": 118,
   "metadata": {},
   "outputs": [
    {
     "data": {
      "text/plain": [
       "236926"
      ]
     },
     "execution_count": 118,
     "metadata": {},
     "output_type": "execute_result"
    }
   ],
   "source": [
    "#total unemployment third trimester\n",
    "\n",
    "total_t3 = unemplo_20[(unemplo_20[\"Mes\"] == 9)][\"Nombre\"].sum()\n",
    "total_t3"
   ]
  },
  {
   "cell_type": "code",
   "execution_count": 119,
   "metadata": {},
   "outputs": [
    {
     "data": {
      "text/plain": [
       "52245"
      ]
     },
     "execution_count": 119,
     "metadata": {},
     "output_type": "execute_result"
    }
   ],
   "source": [
    "# total women unemployed first trimester\n",
    "women_t1 = unemplo_20[(unemplo_20[\"Sexe\"] == \"Dones\") & (unemplo_20[\"Mes\"] == 3)][\"Nombre\"].sum()\n",
    "women_t1"
   ]
  },
  {
   "cell_type": "code",
   "execution_count": 120,
   "metadata": {},
   "outputs": [
    {
     "data": {
      "text/plain": [
       "112901"
      ]
     },
     "execution_count": 120,
     "metadata": {},
     "output_type": "execute_result"
    }
   ],
   "source": [
    "# total women unemployed second trimester\n",
    "women_t2 = unemplo_20[(unemplo_20[\"Sexe\"] == \"Dones\") & (unemplo_20[\"Mes\"] == 6)][\"Nombre\"].sum()\n",
    "women_t2"
   ]
  },
  {
   "cell_type": "code",
   "execution_count": 121,
   "metadata": {},
   "outputs": [
    {
     "data": {
      "text/plain": [
       "119082"
      ]
     },
     "execution_count": 121,
     "metadata": {},
     "output_type": "execute_result"
    }
   ],
   "source": [
    "# total women unemployed third trimester\n",
    "women_t3 = unemplo_20[(unemplo_20[\"Sexe\"] == \"Dones\") & (unemplo_20[\"Mes\"] == 9)][\"Nombre\"].sum()\n",
    "women_t3"
   ]
  },
  {
   "cell_type": "code",
   "execution_count": 122,
   "metadata": {},
   "outputs": [
    {
     "data": {
      "text/plain": [
       "44429"
      ]
     },
     "execution_count": 122,
     "metadata": {},
     "output_type": "execute_result"
    }
   ],
   "source": [
    "# total men unemployed first trimester\n",
    "men_t1 = unemplo_20[(unemplo_20[\"Sexe\"] == \"Homes\") & (unemplo_20[\"Mes\"] == 3)][\"Nombre\"].sum()\n",
    "men_t1"
   ]
  },
  {
   "cell_type": "code",
   "execution_count": 123,
   "metadata": {},
   "outputs": [
    {
     "data": {
      "text/plain": [
       "112960"
      ]
     },
     "execution_count": 123,
     "metadata": {},
     "output_type": "execute_result"
    }
   ],
   "source": [
    "# total men unemployed second trimester\n",
    "men_t2 = unemplo_20[(unemplo_20[\"Sexe\"] == \"Homes\") & (unemplo_20[\"Mes\"] == 6)][\"Nombre\"].sum()\n",
    "men_t2"
   ]
  },
  {
   "cell_type": "code",
   "execution_count": 124,
   "metadata": {},
   "outputs": [
    {
     "data": {
      "text/plain": [
       "117844"
      ]
     },
     "execution_count": 124,
     "metadata": {},
     "output_type": "execute_result"
    }
   ],
   "source": [
    "# total men unemployed third trimester\n",
    "men_t3 = unemplo_20[(unemplo_20[\"Sexe\"] == \"Homes\") & (unemplo_20[\"Mes\"] == 9)][\"Nombre\"].sum()\n",
    "men_t3"
   ]
  },
  {
   "cell_type": "code",
   "execution_count": null,
   "metadata": {},
   "outputs": [],
   "source": []
  },
  {
   "cell_type": "code",
   "execution_count": 61,
   "metadata": {},
   "outputs": [
    {
     "data": {
      "text/html": [
       "<div>\n",
       "<style scoped>\n",
       "    .dataframe tbody tr th:only-of-type {\n",
       "        vertical-align: middle;\n",
       "    }\n",
       "\n",
       "    .dataframe tbody tr th {\n",
       "        vertical-align: top;\n",
       "    }\n",
       "\n",
       "    .dataframe thead th {\n",
       "        text-align: right;\n",
       "    }\n",
       "</style>\n",
       "<table border=\"1\" class=\"dataframe\">\n",
       "  <thead>\n",
       "    <tr style=\"text-align: right;\">\n",
       "      <th></th>\n",
       "      <th>Nombre</th>\n",
       "    </tr>\n",
       "    <tr>\n",
       "      <th>trim</th>\n",
       "      <th></th>\n",
       "    </tr>\n",
       "  </thead>\n",
       "  <tbody>\n",
       "    <tr>\n",
       "      <th>1</th>\n",
       "      <td>91381.333333</td>\n",
       "    </tr>\n",
       "    <tr>\n",
       "      <th>2</th>\n",
       "      <td>203635.333333</td>\n",
       "    </tr>\n",
       "    <tr>\n",
       "      <th>3</th>\n",
       "      <td>234296.000000</td>\n",
       "    </tr>\n",
       "  </tbody>\n",
       "</table>\n",
       "</div>"
      ],
      "text/plain": [
       "             Nombre\n",
       "trim               \n",
       "1      91381.333333\n",
       "2     203635.333333\n",
       "3     234296.000000"
      ]
     },
     "execution_count": 61,
     "metadata": {},
     "output_type": "execute_result"
    }
   ],
   "source": [
    "#promedio personas desempleadas por trimestre\n",
    "a = pd.DataFrame(unemplo.groupby([\"trim\", \"Mes\"]).sum()).reset_index().dropna()\n",
    "a[[\"trim\", \"Nombre\"]].groupby(\"trim\").sum() / a[[\"trim\", \"Nombre\"]].groupby(\"trim\").count()\n"
   ]
  }
 ],
 "metadata": {
  "kernelspec": {
   "display_name": "Python 3",
   "language": "python",
   "name": "python3"
  },
  "language_info": {
   "codemirror_mode": {
    "name": "ipython",
    "version": 3
   },
   "file_extension": ".py",
   "mimetype": "text/x-python",
   "name": "python",
   "nbconvert_exporter": "python",
   "pygments_lexer": "ipython3",
   "version": "3.8.3"
  }
 },
 "nbformat": 4,
 "nbformat_minor": 4
}
