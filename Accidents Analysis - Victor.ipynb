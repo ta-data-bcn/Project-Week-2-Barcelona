{
 "cells": [
  {
   "cell_type": "code",
   "execution_count": 2,
   "metadata": {},
   "outputs": [],
   "source": [
    "import pandas as pd\n",
    "import numpy as np\n",
    "import os\n",
    "import ratio_function as f"
   ]
  },
  {
   "cell_type": "code",
   "execution_count": 4,
   "metadata": {
    "scrolled": true
   },
   "outputs": [
    {
     "data": {
      "text/html": [
       "<div>\n",
       "<style scoped>\n",
       "    .dataframe tbody tr th:only-of-type {\n",
       "        vertical-align: middle;\n",
       "    }\n",
       "\n",
       "    .dataframe tbody tr th {\n",
       "        vertical-align: top;\n",
       "    }\n",
       "\n",
       "    .dataframe thead th {\n",
       "        text-align: right;\n",
       "    }\n",
       "</style>\n",
       "<table border=\"1\" class=\"dataframe\">\n",
       "  <thead>\n",
       "    <tr style=\"text-align: right;\">\n",
       "      <th></th>\n",
       "      <th>Unnamed: 0</th>\n",
       "      <th>Unnamed: 0.1</th>\n",
       "      <th>District Name</th>\n",
       "      <th>Weekday</th>\n",
       "      <th>Month</th>\n",
       "      <th>Day</th>\n",
       "      <th>Part of the day</th>\n",
       "      <th>Mild injuries</th>\n",
       "      <th>Serious injuries</th>\n",
       "      <th>Victims</th>\n",
       "      <th>Vehicles involved</th>\n",
       "      <th>Date</th>\n",
       "    </tr>\n",
       "  </thead>\n",
       "  <tbody>\n",
       "    <tr>\n",
       "      <th>0</th>\n",
       "      <td>0</td>\n",
       "      <td>0</td>\n",
       "      <td>Ciutat Vella</td>\n",
       "      <td>Friday</td>\n",
       "      <td>June</td>\n",
       "      <td>23</td>\n",
       "      <td>Night</td>\n",
       "      <td>1</td>\n",
       "      <td>0</td>\n",
       "      <td>1</td>\n",
       "      <td>1</td>\n",
       "      <td>June 23</td>\n",
       "    </tr>\n",
       "    <tr>\n",
       "      <th>1</th>\n",
       "      <td>1</td>\n",
       "      <td>1</td>\n",
       "      <td>Eixample</td>\n",
       "      <td>Friday</td>\n",
       "      <td>June</td>\n",
       "      <td>23</td>\n",
       "      <td>Morning</td>\n",
       "      <td>1</td>\n",
       "      <td>0</td>\n",
       "      <td>1</td>\n",
       "      <td>2</td>\n",
       "      <td>June 23</td>\n",
       "    </tr>\n",
       "    <tr>\n",
       "      <th>2</th>\n",
       "      <td>2</td>\n",
       "      <td>2</td>\n",
       "      <td>Eixample</td>\n",
       "      <td>Friday</td>\n",
       "      <td>June</td>\n",
       "      <td>23</td>\n",
       "      <td>Morning</td>\n",
       "      <td>1</td>\n",
       "      <td>0</td>\n",
       "      <td>1</td>\n",
       "      <td>2</td>\n",
       "      <td>June 23</td>\n",
       "    </tr>\n",
       "    <tr>\n",
       "      <th>3</th>\n",
       "      <td>3</td>\n",
       "      <td>3</td>\n",
       "      <td>Eixample</td>\n",
       "      <td>Friday</td>\n",
       "      <td>June</td>\n",
       "      <td>23</td>\n",
       "      <td>Afternoon</td>\n",
       "      <td>1</td>\n",
       "      <td>0</td>\n",
       "      <td>1</td>\n",
       "      <td>2</td>\n",
       "      <td>June 23</td>\n",
       "    </tr>\n",
       "    <tr>\n",
       "      <th>4</th>\n",
       "      <td>4</td>\n",
       "      <td>4</td>\n",
       "      <td>Sants-Montjuïc</td>\n",
       "      <td>Friday</td>\n",
       "      <td>June</td>\n",
       "      <td>23</td>\n",
       "      <td>Afternoon</td>\n",
       "      <td>2</td>\n",
       "      <td>0</td>\n",
       "      <td>2</td>\n",
       "      <td>1</td>\n",
       "      <td>June 23</td>\n",
       "    </tr>\n",
       "    <tr>\n",
       "      <th>...</th>\n",
       "      <td>...</td>\n",
       "      <td>...</td>\n",
       "      <td>...</td>\n",
       "      <td>...</td>\n",
       "      <td>...</td>\n",
       "      <td>...</td>\n",
       "      <td>...</td>\n",
       "      <td>...</td>\n",
       "      <td>...</td>\n",
       "      <td>...</td>\n",
       "      <td>...</td>\n",
       "      <td>...</td>\n",
       "    </tr>\n",
       "    <tr>\n",
       "      <th>683</th>\n",
       "      <td>683</td>\n",
       "      <td>683</td>\n",
       "      <td>Eixample</td>\n",
       "      <td>Tuesday</td>\n",
       "      <td>February</td>\n",
       "      <td>14</td>\n",
       "      <td>Morning</td>\n",
       "      <td>1</td>\n",
       "      <td>0</td>\n",
       "      <td>1</td>\n",
       "      <td>2</td>\n",
       "      <td>February 14</td>\n",
       "    </tr>\n",
       "    <tr>\n",
       "      <th>684</th>\n",
       "      <td>684</td>\n",
       "      <td>684</td>\n",
       "      <td>Les Corts</td>\n",
       "      <td>Tuesday</td>\n",
       "      <td>February</td>\n",
       "      <td>14</td>\n",
       "      <td>Morning</td>\n",
       "      <td>1</td>\n",
       "      <td>0</td>\n",
       "      <td>1</td>\n",
       "      <td>2</td>\n",
       "      <td>February 14</td>\n",
       "    </tr>\n",
       "    <tr>\n",
       "      <th>685</th>\n",
       "      <td>685</td>\n",
       "      <td>685</td>\n",
       "      <td>Sarrià-Sant Gervasi</td>\n",
       "      <td>Tuesday</td>\n",
       "      <td>February</td>\n",
       "      <td>14</td>\n",
       "      <td>Afternoon</td>\n",
       "      <td>1</td>\n",
       "      <td>0</td>\n",
       "      <td>1</td>\n",
       "      <td>2</td>\n",
       "      <td>February 14</td>\n",
       "    </tr>\n",
       "    <tr>\n",
       "      <th>686</th>\n",
       "      <td>686</td>\n",
       "      <td>686</td>\n",
       "      <td>Horta-Guinardó</td>\n",
       "      <td>Tuesday</td>\n",
       "      <td>February</td>\n",
       "      <td>14</td>\n",
       "      <td>Afternoon</td>\n",
       "      <td>0</td>\n",
       "      <td>0</td>\n",
       "      <td>0</td>\n",
       "      <td>1</td>\n",
       "      <td>February 14</td>\n",
       "    </tr>\n",
       "    <tr>\n",
       "      <th>687</th>\n",
       "      <td>687</td>\n",
       "      <td>687</td>\n",
       "      <td>Horta-Guinardó</td>\n",
       "      <td>Tuesday</td>\n",
       "      <td>February</td>\n",
       "      <td>14</td>\n",
       "      <td>Morning</td>\n",
       "      <td>2</td>\n",
       "      <td>0</td>\n",
       "      <td>2</td>\n",
       "      <td>2</td>\n",
       "      <td>February 14</td>\n",
       "    </tr>\n",
       "  </tbody>\n",
       "</table>\n",
       "<p>688 rows × 12 columns</p>\n",
       "</div>"
      ],
      "text/plain": [
       "     Unnamed: 0  Unnamed: 0.1        District Name  Weekday     Month  Day  \\\n",
       "0             0             0         Ciutat Vella   Friday      June   23   \n",
       "1             1             1             Eixample   Friday      June   23   \n",
       "2             2             2             Eixample   Friday      June   23   \n",
       "3             3             3             Eixample   Friday      June   23   \n",
       "4             4             4       Sants-Montjuïc   Friday      June   23   \n",
       "..          ...           ...                  ...      ...       ...  ...   \n",
       "683         683           683             Eixample  Tuesday  February   14   \n",
       "684         684           684            Les Corts  Tuesday  February   14   \n",
       "685         685           685  Sarrià-Sant Gervasi  Tuesday  February   14   \n",
       "686         686           686       Horta-Guinardó  Tuesday  February   14   \n",
       "687         687           687       Horta-Guinardó  Tuesday  February   14   \n",
       "\n",
       "    Part of the day  Mild injuries  Serious injuries  Victims  \\\n",
       "0             Night              1                 0        1   \n",
       "1           Morning              1                 0        1   \n",
       "2           Morning              1                 0        1   \n",
       "3         Afternoon              1                 0        1   \n",
       "4         Afternoon              2                 0        2   \n",
       "..              ...            ...               ...      ...   \n",
       "683         Morning              1                 0        1   \n",
       "684         Morning              1                 0        1   \n",
       "685       Afternoon              1                 0        1   \n",
       "686       Afternoon              0                 0        0   \n",
       "687         Morning              2                 0        2   \n",
       "\n",
       "     Vehicles involved         Date  \n",
       "0                    1      June 23  \n",
       "1                    2      June 23  \n",
       "2                    2      June 23  \n",
       "3                    2      June 23  \n",
       "4                    1      June 23  \n",
       "..                 ...          ...  \n",
       "683                  2  February 14  \n",
       "684                  2  February 14  \n",
       "685                  2  February 14  \n",
       "686                  1  February 14  \n",
       "687                  2  February 14  \n",
       "\n",
       "[688 rows x 12 columns]"
      ]
     },
     "execution_count": 4,
     "metadata": {},
     "output_type": "execute_result"
    }
   ],
   "source": [
    "csv_holidays = f.holidays\n",
    "csv_holidays"
   ]
  },
  {
   "cell_type": "code",
   "execution_count": 5,
   "metadata": {},
   "outputs": [
    {
     "data": {
      "text/html": [
       "<div>\n",
       "<style scoped>\n",
       "    .dataframe tbody tr th:only-of-type {\n",
       "        vertical-align: middle;\n",
       "    }\n",
       "\n",
       "    .dataframe tbody tr th {\n",
       "        vertical-align: top;\n",
       "    }\n",
       "\n",
       "    .dataframe thead th {\n",
       "        text-align: right;\n",
       "    }\n",
       "</style>\n",
       "<table border=\"1\" class=\"dataframe\">\n",
       "  <thead>\n",
       "    <tr style=\"text-align: right;\">\n",
       "      <th></th>\n",
       "      <th>Unnamed: 0</th>\n",
       "      <th>Unnamed: 0.1</th>\n",
       "      <th>District Name</th>\n",
       "      <th>Weekday</th>\n",
       "      <th>Month</th>\n",
       "      <th>Day</th>\n",
       "      <th>Part of the day</th>\n",
       "      <th>Mild injuries</th>\n",
       "      <th>Serious injuries</th>\n",
       "      <th>Victims</th>\n",
       "      <th>Vehicles involved</th>\n",
       "      <th>Date</th>\n",
       "    </tr>\n",
       "  </thead>\n",
       "  <tbody>\n",
       "    <tr>\n",
       "      <th>0</th>\n",
       "      <td>0</td>\n",
       "      <td>0</td>\n",
       "      <td>Unknown</td>\n",
       "      <td>Friday</td>\n",
       "      <td>October</td>\n",
       "      <td>13</td>\n",
       "      <td>Morning</td>\n",
       "      <td>2</td>\n",
       "      <td>0</td>\n",
       "      <td>2</td>\n",
       "      <td>2</td>\n",
       "      <td>October 13</td>\n",
       "    </tr>\n",
       "    <tr>\n",
       "      <th>1</th>\n",
       "      <td>1</td>\n",
       "      <td>1</td>\n",
       "      <td>Unknown</td>\n",
       "      <td>Friday</td>\n",
       "      <td>September</td>\n",
       "      <td>1</td>\n",
       "      <td>Morning</td>\n",
       "      <td>2</td>\n",
       "      <td>0</td>\n",
       "      <td>2</td>\n",
       "      <td>2</td>\n",
       "      <td>September 1</td>\n",
       "    </tr>\n",
       "    <tr>\n",
       "      <th>2</th>\n",
       "      <td>2</td>\n",
       "      <td>3</td>\n",
       "      <td>Unknown</td>\n",
       "      <td>Friday</td>\n",
       "      <td>July</td>\n",
       "      <td>21</td>\n",
       "      <td>Night</td>\n",
       "      <td>1</td>\n",
       "      <td>0</td>\n",
       "      <td>1</td>\n",
       "      <td>2</td>\n",
       "      <td>July 21</td>\n",
       "    </tr>\n",
       "    <tr>\n",
       "      <th>3</th>\n",
       "      <td>3</td>\n",
       "      <td>4</td>\n",
       "      <td>Sant Martí</td>\n",
       "      <td>Thursday</td>\n",
       "      <td>May</td>\n",
       "      <td>25</td>\n",
       "      <td>Afternoon</td>\n",
       "      <td>1</td>\n",
       "      <td>0</td>\n",
       "      <td>1</td>\n",
       "      <td>3</td>\n",
       "      <td>May 25</td>\n",
       "    </tr>\n",
       "    <tr>\n",
       "      <th>4</th>\n",
       "      <td>4</td>\n",
       "      <td>5</td>\n",
       "      <td>Sant Martí</td>\n",
       "      <td>Wednesday</td>\n",
       "      <td>September</td>\n",
       "      <td>20</td>\n",
       "      <td>Morning</td>\n",
       "      <td>1</td>\n",
       "      <td>0</td>\n",
       "      <td>1</td>\n",
       "      <td>2</td>\n",
       "      <td>September 20</td>\n",
       "    </tr>\n",
       "    <tr>\n",
       "      <th>...</th>\n",
       "      <td>...</td>\n",
       "      <td>...</td>\n",
       "      <td>...</td>\n",
       "      <td>...</td>\n",
       "      <td>...</td>\n",
       "      <td>...</td>\n",
       "      <td>...</td>\n",
       "      <td>...</td>\n",
       "      <td>...</td>\n",
       "      <td>...</td>\n",
       "      <td>...</td>\n",
       "      <td>...</td>\n",
       "    </tr>\n",
       "    <tr>\n",
       "      <th>9646</th>\n",
       "      <td>9646</td>\n",
       "      <td>10334</td>\n",
       "      <td>Sant Andreu</td>\n",
       "      <td>Tuesday</td>\n",
       "      <td>April</td>\n",
       "      <td>25</td>\n",
       "      <td>Morning</td>\n",
       "      <td>1</td>\n",
       "      <td>0</td>\n",
       "      <td>1</td>\n",
       "      <td>3</td>\n",
       "      <td>April 25</td>\n",
       "    </tr>\n",
       "    <tr>\n",
       "      <th>9647</th>\n",
       "      <td>9647</td>\n",
       "      <td>10335</td>\n",
       "      <td>Sant Andreu</td>\n",
       "      <td>Wednesday</td>\n",
       "      <td>March</td>\n",
       "      <td>8</td>\n",
       "      <td>Morning</td>\n",
       "      <td>1</td>\n",
       "      <td>0</td>\n",
       "      <td>1</td>\n",
       "      <td>2</td>\n",
       "      <td>March 8</td>\n",
       "    </tr>\n",
       "    <tr>\n",
       "      <th>9648</th>\n",
       "      <td>9648</td>\n",
       "      <td>10336</td>\n",
       "      <td>Sant Andreu</td>\n",
       "      <td>Thursday</td>\n",
       "      <td>December</td>\n",
       "      <td>28</td>\n",
       "      <td>Morning</td>\n",
       "      <td>1</td>\n",
       "      <td>0</td>\n",
       "      <td>1</td>\n",
       "      <td>2</td>\n",
       "      <td>December 28</td>\n",
       "    </tr>\n",
       "    <tr>\n",
       "      <th>9649</th>\n",
       "      <td>9649</td>\n",
       "      <td>10337</td>\n",
       "      <td>Sant Andreu</td>\n",
       "      <td>Friday</td>\n",
       "      <td>July</td>\n",
       "      <td>14</td>\n",
       "      <td>Afternoon</td>\n",
       "      <td>1</td>\n",
       "      <td>0</td>\n",
       "      <td>1</td>\n",
       "      <td>2</td>\n",
       "      <td>July 14</td>\n",
       "    </tr>\n",
       "    <tr>\n",
       "      <th>9650</th>\n",
       "      <td>9650</td>\n",
       "      <td>10338</td>\n",
       "      <td>Sant Andreu</td>\n",
       "      <td>Sunday</td>\n",
       "      <td>January</td>\n",
       "      <td>8</td>\n",
       "      <td>Afternoon</td>\n",
       "      <td>0</td>\n",
       "      <td>0</td>\n",
       "      <td>0</td>\n",
       "      <td>1</td>\n",
       "      <td>January 8</td>\n",
       "    </tr>\n",
       "  </tbody>\n",
       "</table>\n",
       "<p>9651 rows × 12 columns</p>\n",
       "</div>"
      ],
      "text/plain": [
       "      Unnamed: 0  Unnamed: 0.1 District Name    Weekday      Month  Day  \\\n",
       "0              0             0       Unknown     Friday    October   13   \n",
       "1              1             1       Unknown     Friday  September    1   \n",
       "2              2             3       Unknown     Friday       July   21   \n",
       "3              3             4    Sant Martí   Thursday        May   25   \n",
       "4              4             5    Sant Martí  Wednesday  September   20   \n",
       "...          ...           ...           ...        ...        ...  ...   \n",
       "9646        9646         10334   Sant Andreu    Tuesday      April   25   \n",
       "9647        9647         10335   Sant Andreu  Wednesday      March    8   \n",
       "9648        9648         10336   Sant Andreu   Thursday   December   28   \n",
       "9649        9649         10337   Sant Andreu     Friday       July   14   \n",
       "9650        9650         10338   Sant Andreu     Sunday    January    8   \n",
       "\n",
       "     Part of the day  Mild injuries  Serious injuries  Victims  \\\n",
       "0            Morning              2                 0        2   \n",
       "1            Morning              2                 0        2   \n",
       "2              Night              1                 0        1   \n",
       "3          Afternoon              1                 0        1   \n",
       "4            Morning              1                 0        1   \n",
       "...              ...            ...               ...      ...   \n",
       "9646         Morning              1                 0        1   \n",
       "9647         Morning              1                 0        1   \n",
       "9648         Morning              1                 0        1   \n",
       "9649       Afternoon              1                 0        1   \n",
       "9650       Afternoon              0                 0        0   \n",
       "\n",
       "      Vehicles involved          Date  \n",
       "0                     2    October 13  \n",
       "1                     2   September 1  \n",
       "2                     2       July 21  \n",
       "3                     3        May 25  \n",
       "4                     2  September 20  \n",
       "...                 ...           ...  \n",
       "9646                  3      April 25  \n",
       "9647                  2       March 8  \n",
       "9648                  2   December 28  \n",
       "9649                  2       July 14  \n",
       "9650                  1     January 8  \n",
       "\n",
       "[9651 rows x 12 columns]"
      ]
     },
     "execution_count": 5,
     "metadata": {},
     "output_type": "execute_result"
    }
   ],
   "source": [
    "csv_non_holidays = f.non_holidays\n",
    "csv_non_holidays"
   ]
  },
  {
   "cell_type": "code",
   "execution_count": 6,
   "metadata": {},
   "outputs": [
    {
     "name": "stdout",
     "output_type": "stream",
     "text": [
      "Ratio of accidents/day on holidays: 18.594594594594593\n",
      "Ratio of accidents/day on non-holidays: 29.423780487804876\n"
     ]
    }
   ],
   "source": [
    "#Ratio of accidents per day on holidays\n",
    "print(f\"Ratio of accidents/day on holidays: {f.hol_ratio(csv_holidays.shape[0])}\")\n",
    "#Ratio of accidents per day on normal days\n",
    "print(f\"Ratio of accidents/day on non-holidays: {f.no_hol_ratio(csv_non_holidays.shape[0])}\")"
   ]
  },
  {
   "cell_type": "code",
   "execution_count": 7,
   "metadata": {},
   "outputs": [
    {
     "data": {
      "text/plain": [
       "18.594594594594593"
      ]
     },
     "execution_count": 7,
     "metadata": {},
     "output_type": "execute_result"
    }
   ],
   "source": [
    "#Ratio of accidents per day on holidays\n",
    "f.hol_ratio(csv_holidays.shape[0])"
   ]
  },
  {
   "cell_type": "code",
   "execution_count": 8,
   "metadata": {},
   "outputs": [
    {
     "data": {
      "text/plain": [
       "29.423780487804876"
      ]
     },
     "execution_count": 8,
     "metadata": {},
     "output_type": "execute_result"
    }
   ],
   "source": [
    "#Ratio of accidents per day on normal days\n",
    "f.no_hol_ratio(csv_non_holidays.shape[0])"
   ]
  },
  {
   "cell_type": "code",
   "execution_count": 20,
   "metadata": {},
   "outputs": [
    {
     "name": "stdout",
     "output_type": "stream",
     "text": [
      "Injuries on holidays\n",
      "Serious injuries/day: 0.5405405405405406\n",
      "Mild injuries/day: 21.216216216216218\n",
      "Victims/day: 21.756756756756758\n"
     ]
    }
   ],
   "source": [
    "print(\"Injuries on holidays\")\n",
    "#Serious injuries per day ratio on holidays\n",
    "print(f\"Serious injuries/day: {ser_hol}\")\n",
    "#Mild injuries per day ratio on holidays\n",
    "print(f\"Mild injuries/day: {mild_hol}\")\n",
    "#Victims per day ratio on holidays\n",
    "print(f\"Victims/day: {vic_hol}\")"
   ]
  },
  {
   "cell_type": "code",
   "execution_count": 21,
   "metadata": {},
   "outputs": [
    {
     "name": "stdout",
     "output_type": "stream",
     "text": [
      "Injuries on non-holidays\n",
      "Serious injuries/day: 0.6737804878048781\n",
      "Mild injuries/day: 33.98780487804878\n",
      "Victims/day: 34.661585365853654\n"
     ]
    }
   ],
   "source": [
    "print(\"Injuries on non-holidays\")\n",
    "#Serious injuries per day ratio on non-holidays\n",
    "print(f\"Serious injuries/day: {ser_nohol}\")\n",
    "#Mild injuries per day ratio on non-holidays\n",
    "print(f\"Mild injuries/day: {mild_nohol}\")\n",
    "#Victims per day ratio on non-holidays\n",
    "print(f\"Victims/day: {vic_nohol}\")"
   ]
  },
  {
   "cell_type": "code",
   "execution_count": 10,
   "metadata": {},
   "outputs": [],
   "source": [
    "#Serious injuries per day ratio on holidays\n",
    "ser_hol = f.hol_ratio(csv_holidays[\"Serious injuries\"].sum())"
   ]
  },
  {
   "cell_type": "code",
   "execution_count": 11,
   "metadata": {
    "scrolled": true
   },
   "outputs": [],
   "source": [
    "#Serious injuries per day ratio on normal days\n",
    "ser_nohol = f.no_hol_ratio(csv_non_holidays[\"Serious injuries\"].sum())"
   ]
  },
  {
   "cell_type": "code",
   "execution_count": 12,
   "metadata": {},
   "outputs": [],
   "source": [
    "#Mild injuries per day ratio on holidays\n",
    "mild_hol = f.hol_ratio(csv_holidays[\"Mild injuries\"].sum())"
   ]
  },
  {
   "cell_type": "code",
   "execution_count": 13,
   "metadata": {},
   "outputs": [],
   "source": [
    "#Mild injuries per day ratio on normal days\n",
    "mild_nohol = f.no_hol_ratio(csv_non_holidays[\"Mild injuries\"].sum())"
   ]
  },
  {
   "cell_type": "code",
   "execution_count": 14,
   "metadata": {},
   "outputs": [],
   "source": [
    "#Victims per day ratio on holidays\n",
    "vic_hol = f.hol_ratio(csv_holidays[\"Serious injuries\"].sum()) + f.hol_ratio(csv_holidays[\"Mild injuries\"].sum())"
   ]
  },
  {
   "cell_type": "code",
   "execution_count": 15,
   "metadata": {},
   "outputs": [],
   "source": [
    "#Victims per day ratio on normal days\n",
    "vic_nohol = f.no_hol_ratio(csv_non_holidays[\"Serious injuries\"].sum()) + f.no_hol_ratio(csv_non_holidays[\"Mild injuries\"].sum())"
   ]
  },
  {
   "cell_type": "code",
   "execution_count": 16,
   "metadata": {},
   "outputs": [
    {
     "name": "stdout",
     "output_type": "stream",
     "text": [
      "Holiday accidents in the morning: 6.216216216216216\n",
      "Non-holiday accidents in the morning: 11.698170731707316\n",
      "Difference: -5.4819545154911005\n"
     ]
    }
   ],
   "source": [
    "#Morning accidents. 1st row: Holidays | 2nd row: Normal days | 3rd row: Difference between holidays - normal days\n",
    "mor_hol = f.hol_ratio(len(csv_holidays[csv_holidays[\"Part of the day\"] == \"Morning\"]))\n",
    "print(f\"Holiday accidents in the morning: {mor_hol}\")\n",
    "mor_no_hol = f.no_hol_ratio(len(csv_non_holidays[csv_non_holidays[\"Part of the day\"] == \"Morning\"]))\n",
    "print(f\"Non-holiday accidents in the morning: {mor_no_hol}\")\n",
    "diff = mor_hol - mor_no_hol\n",
    "print(f\"Difference: {diff}\")"
   ]
  },
  {
   "cell_type": "code",
   "execution_count": 33,
   "metadata": {},
   "outputs": [
    {
     "name": "stdout",
     "output_type": "stream",
     "text": [
      "Holiday accidents in the afternoon: 9.054054054054054\n",
      "Non-holiday accidents in the afternoon: 14.472560975609756\n",
      "Difference: -5.418506921555702\n"
     ]
    }
   ],
   "source": [
    "#Afternoon accidents. 1st row: Holidays | 2nd row: Normal days | 3rd row: Difference between holidays - normal days\n",
    "aft_hol = f.hol_ratio(len(csv_holidays[csv_holidays[\"Part of the day\"] == \"Afternoon\"]))\n",
    "print(f\"Holiday accidents in the afternoon: {aft_hol}\")\n",
    "aft_no_hol = f.no_hol_ratio(len(csv_non_holidays[csv_non_holidays[\"Part of the day\"] == \"Afternoon\"]))\n",
    "print(f\"Non-holiday accidents in the afternoon: {aft_no_hol}\")\n",
    "diff = aft_hol - aft_no_hol\n",
    "print(f\"Difference: {diff}\")"
   ]
  },
  {
   "cell_type": "code",
   "execution_count": 34,
   "metadata": {},
   "outputs": [
    {
     "name": "stdout",
     "output_type": "stream",
     "text": [
      "Holiday accidents in the night: 3.324324324324324\n",
      "Non-holiday accidents in the night: 3.2530487804878048\n",
      "Difference: 0.07127554383651935\n"
     ]
    }
   ],
   "source": [
    "#Night accidents. 1st row: Holidays | 2nd row: Normal days | 3rd row: Difference between holidays - normal days\n",
    "nig_hol = f.hol_ratio(len(csv_holidays[csv_holidays[\"Part of the day\"] == \"Night\"]))\n",
    "print(f\"Holiday accidents in the night: {nig_hol}\")\n",
    "nig_no_hol = f.no_hol_ratio(len(csv_non_holidays[csv_non_holidays[\"Part of the day\"] == \"Night\"]))\n",
    "print(f\"Non-holiday accidents in the night: {nig_no_hol}\")\n",
    "diff = nig_hol - nig_no_hol\n",
    "print(f\"Difference: {diff}\")"
   ]
  },
  {
   "cell_type": "code",
   "execution_count": 18,
   "metadata": {
    "collapsed": true
   },
   "outputs": [
    {
     "data": {
      "text/plain": [
       "Eixample               5.432432\n",
       "Sant Martí             2.594595\n",
       "Sarrià-Sant Gervasi    1.594595\n",
       "Sants-Montjuïc         1.594595\n",
       "Horta-Guinardó         1.324324\n",
       "Les Corts              1.324324\n",
       "Ciutat Vella           1.297297\n",
       "Sant Andreu            1.243243\n",
       "Nou Barris             1.243243\n",
       "Gràcia                 0.837838\n",
       "Unknown                0.108108\n",
       "Name: District Name, dtype: float64"
      ]
     },
     "execution_count": 18,
     "metadata": {},
     "output_type": "execute_result"
    }
   ],
   "source": [
    "#Ratio of Accidents per District - Holiday\n",
    "f.hol_ratio(csv_holidays[\"District Name\"].value_counts())"
   ]
  },
  {
   "cell_type": "code",
   "execution_count": 19,
   "metadata": {
    "collapsed": true
   },
   "outputs": [
    {
     "data": {
      "text/plain": [
       "Eixample               8.621951\n",
       "Sant Martí             3.780488\n",
       "Sants-Montjuïc         3.185976\n",
       "Sarrià-Sant Gervasi    3.185976\n",
       "Horta-Guinardó         2.115854\n",
       "Les Corts              2.064024\n",
       "Ciutat Vella           1.682927\n",
       "Sant Andreu            1.679878\n",
       "Gràcia                 1.524390\n",
       "Nou Barris             1.512195\n",
       "Unknown                0.070122\n",
       "Name: District Name, dtype: float64"
      ]
     },
     "execution_count": 19,
     "metadata": {},
     "output_type": "execute_result"
    }
   ],
   "source": [
    "#Ratio of Accidents per District - Normal Day\n",
    "f.no_hol_ratio(csv_non_holidays[\"District Name\"].value_counts())"
   ]
  },
  {
   "cell_type": "code",
   "execution_count": 20,
   "metadata": {
    "collapsed": true
   },
   "outputs": [
    {
     "data": {
      "text/plain": [
       "Eixample              -3.189519\n",
       "Sants-Montjuïc        -1.591381\n",
       "Sarrià-Sant Gervasi   -1.591381\n",
       "Sant Martí            -1.185893\n",
       "Horta-Guinardó        -0.791529\n",
       "Les Corts             -0.739700\n",
       "Gràcia                -0.686552\n",
       "Sant Andreu           -0.436635\n",
       "Ciutat Vella          -0.385630\n",
       "Nou Barris            -0.268952\n",
       "Unknown                0.037986\n",
       "Name: District Name, dtype: float64"
      ]
     },
     "execution_count": 20,
     "metadata": {},
     "output_type": "execute_result"
    }
   ],
   "source": [
    "#SEPARATE \n",
    "#Ratio of Accidents per District (Holiday - Normal Day)\n",
    "(f.hol_ratio(csv_holidays[\"District Name\"].value_counts()) - f.no_hol_ratio(csv_non_holidays[\"District Name\"].value_counts())).sort_values(ascending=True)"
   ]
  },
  {
   "cell_type": "code",
   "execution_count": 35,
   "metadata": {
    "scrolled": true
   },
   "outputs": [
    {
     "data": {
      "text/plain": [
       "Friday       202\n",
       "Sunday       149\n",
       "Saturday     129\n",
       "Tuesday       77\n",
       "Monday        77\n",
       "Thursday      31\n",
       "Wednesday     23\n",
       "Name: Weekday, dtype: int64"
      ]
     },
     "execution_count": 35,
     "metadata": {},
     "output_type": "execute_result"
    }
   ],
   "source": [
    "#Accidents per day on holidays\n",
    "csv_holidays[(csv_holidays['Weekday'] == \"Monday\")|(csv_holidays['Weekday'] == \"Tuesday\")|(csv_holidays['Weekday'] == \"Wednesday\")|(csv_holidays['Weekday'] == \"Thursday\")|(csv_holidays['Weekday'] == \"Friday\")|(csv_holidays['Weekday'] == \"Saturday\")|(csv_holidays['Weekday'] == \"Sunday\")][\"Weekday\"].value_counts()"
   ]
  },
  {
   "cell_type": "code",
   "execution_count": 41,
   "metadata": {},
   "outputs": [
    {
     "data": {
      "text/plain": [
       "Friday       5.459459\n",
       "Sunday       4.027027\n",
       "Saturday     3.486486\n",
       "Tuesday      2.081081\n",
       "Monday       2.081081\n",
       "Thursday     0.837838\n",
       "Wednesday    0.621622\n",
       "Name: Ratio accidents/day holiday, dtype: float64"
      ]
     },
     "execution_count": 41,
     "metadata": {},
     "output_type": "execute_result"
    }
   ],
   "source": [
    "#Ratio of accidents per day on holidays (Just weekdays)\n",
    "r_hol = f.hol_ratio(csv_holidays[(csv_holidays['Weekday'] == \"Monday\")|(csv_holidays['Weekday'] == \"Tuesday\")|(csv_holidays['Weekday'] == \"Wednesday\")|(csv_holidays['Weekday'] == \"Thursday\")|(csv_holidays['Weekday'] == \"Friday\")|(csv_holidays['Weekday'] == \"Saturday\")|(csv_holidays['Weekday'] == \"Sunday\")][\"Weekday\"].value_counts())\n",
    "r_hol.rename(\"Ratio accidents/day holiday\")"
   ]
  },
  {
   "cell_type": "code",
   "execution_count": 24,
   "metadata": {},
   "outputs": [
    {
     "data": {
      "text/plain": [
       "Friday      202\n",
       "Sunday      149\n",
       "Saturday    129\n",
       "Name: Weekday, dtype: int64"
      ]
     },
     "execution_count": 24,
     "metadata": {},
     "output_type": "execute_result"
    }
   ],
   "source": [
    "#Accidents per day on holiday (Just weekend)\n",
    "csv_holidays[(csv_holidays['Weekday'] == \"Friday\")|(csv_holidays['Weekday'] == \"Saturday\")|(csv_holidays['Weekday'] == \"Sunday\")][\"Weekday\"].value_counts()"
   ]
  },
  {
   "cell_type": "code",
   "execution_count": 25,
   "metadata": {},
   "outputs": [
    {
     "data": {
      "text/plain": [
       "Friday      5.459459\n",
       "Sunday      4.027027\n",
       "Saturday    3.486486\n",
       "Name: Weekday, dtype: float64"
      ]
     },
     "execution_count": 25,
     "metadata": {},
     "output_type": "execute_result"
    }
   ],
   "source": [
    "#Ratio of accidents per day on holidays (Just weekend)\n",
    "f.hol_ratio(csv_holidays[(csv_holidays['Weekday'] == \"Friday\")|(csv_holidays['Weekday'] == \"Saturday\")|(csv_holidays['Weekday'] == \"Sunday\")][\"Weekday\"].value_counts())"
   ]
  },
  {
   "cell_type": "code",
   "execution_count": 26,
   "metadata": {
    "scrolled": false
   },
   "outputs": [
    {
     "data": {
      "text/plain": [
       "Thursday     1646\n",
       "Wednesday    1627\n",
       "Tuesday      1614\n",
       "Monday       1433\n",
       "Name: Weekday, dtype: int64"
      ]
     },
     "execution_count": 26,
     "metadata": {},
     "output_type": "execute_result"
    }
   ],
   "source": [
    "#Accidents per day on normal day (Just weekdays)\n",
    "csv_non_holidays[(csv_non_holidays['Weekday'] == \"Monday\")|(csv_non_holidays['Weekday'] == \"Tuesday\")|(csv_non_holidays['Weekday'] == \"Wednesday\")|(csv_non_holidays['Weekday'] == \"Thursday\")][\"Weekday\"].value_counts()"
   ]
  },
  {
   "cell_type": "code",
   "execution_count": 42,
   "metadata": {},
   "outputs": [
    {
     "data": {
      "text/plain": [
       "Thursday     5.018293\n",
       "Wednesday    4.960366\n",
       "Tuesday      4.920732\n",
       "Monday       4.368902\n",
       "Friday       0.250000\n",
       "Saturday     0.149390\n",
       "Sunday       0.088415\n",
       "Name: Ratio accidents/day non-holiday, dtype: float64"
      ]
     },
     "execution_count": 42,
     "metadata": {},
     "output_type": "execute_result"
    }
   ],
   "source": [
    "#Ratio of accidents per day on normal days (Just weekdays)\n",
    "r_no_hol = f.no_hol_ratio(csv_non_holidays[(csv_non_holidays['Weekday'] == \"Monday\")|(csv_non_holidays['Weekday'] == \"Tuesday\")|(csv_non_holidays['Weekday'] == \"Wednesday\")|(csv_non_holidays['Weekday'] == \"Thursday\")|(csv_holidays['Weekday'] == \"Friday\")|(csv_holidays['Weekday'] == \"Saturday\")|(csv_holidays['Weekday'] == \"Sunday\")][\"Weekday\"].value_counts())\n",
    "r_no_hol.rename(\"Ratio accidents/day non-holiday\")"
   ]
  },
  {
   "cell_type": "code",
   "execution_count": 28,
   "metadata": {},
   "outputs": [
    {
     "data": {
      "text/plain": [
       "Friday      1559\n",
       "Saturday    1026\n",
       "Sunday       746\n",
       "Name: Weekday, dtype: int64"
      ]
     },
     "execution_count": 28,
     "metadata": {},
     "output_type": "execute_result"
    }
   ],
   "source": [
    "#Accidents per day on normal day (Just weekend)\n",
    "csv_non_holidays[(csv_non_holidays['Weekday'] == \"Friday\")|(csv_non_holidays['Weekday'] == \"Saturday\")|(csv_non_holidays['Weekday'] == \"Sunday\")][\"Weekday\"].value_counts()"
   ]
  },
  {
   "cell_type": "code",
   "execution_count": 31,
   "metadata": {},
   "outputs": [
    {
     "data": {
      "text/plain": [
       "Friday      4.753049\n",
       "Saturday    3.128049\n",
       "Sunday      2.274390\n",
       "Name: Weekday, dtype: float64"
      ]
     },
     "execution_count": 31,
     "metadata": {},
     "output_type": "execute_result"
    }
   ],
   "source": [
    "#Ratio of accidents per day on normal days (Just weekend)\n",
    "f.no_hol_ratio(csv_non_holidays[(csv_non_holidays['Weekday'] == \"Friday\")|(csv_non_holidays['Weekday'] == \"Saturday\")|(csv_non_holidays['Weekday'] == \"Sunday\")][\"Weekday\"].value_counts())"
   ]
  },
  {
   "cell_type": "code",
   "execution_count": 5,
   "metadata": {
    "scrolled": false
   },
   "outputs": [
    {
     "data": {
      "text/html": [
       "<div>\n",
       "<style scoped>\n",
       "    .dataframe tbody tr th:only-of-type {\n",
       "        vertical-align: middle;\n",
       "    }\n",
       "\n",
       "    .dataframe tbody tr th {\n",
       "        vertical-align: top;\n",
       "    }\n",
       "\n",
       "    .dataframe thead th {\n",
       "        text-align: right;\n",
       "    }\n",
       "</style>\n",
       "<table border=\"1\" class=\"dataframe\">\n",
       "  <thead>\n",
       "    <tr style=\"text-align: right;\">\n",
       "      <th></th>\n",
       "      <th>Day</th>\n",
       "      <th>Mild injuries</th>\n",
       "      <th>Serious injuries</th>\n",
       "      <th>Victims</th>\n",
       "      <th>Vehicles involved</th>\n",
       "    </tr>\n",
       "  </thead>\n",
       "  <tbody>\n",
       "    <tr>\n",
       "      <th>count</th>\n",
       "      <td>688.000000</td>\n",
       "      <td>688.000000</td>\n",
       "      <td>688.000000</td>\n",
       "      <td>688.000000</td>\n",
       "      <td>688.000000</td>\n",
       "    </tr>\n",
       "    <tr>\n",
       "      <th>mean</th>\n",
       "      <td>15.052326</td>\n",
       "      <td>1.140988</td>\n",
       "      <td>0.029070</td>\n",
       "      <td>1.170058</td>\n",
       "      <td>1.965116</td>\n",
       "    </tr>\n",
       "    <tr>\n",
       "      <th>std</th>\n",
       "      <td>9.383013</td>\n",
       "      <td>0.828288</td>\n",
       "      <td>0.227058</td>\n",
       "      <td>0.850638</td>\n",
       "      <td>0.890809</td>\n",
       "    </tr>\n",
       "    <tr>\n",
       "      <th>min</th>\n",
       "      <td>1.000000</td>\n",
       "      <td>0.000000</td>\n",
       "      <td>0.000000</td>\n",
       "      <td>0.000000</td>\n",
       "      <td>1.000000</td>\n",
       "    </tr>\n",
       "    <tr>\n",
       "      <th>25%</th>\n",
       "      <td>7.000000</td>\n",
       "      <td>1.000000</td>\n",
       "      <td>0.000000</td>\n",
       "      <td>1.000000</td>\n",
       "      <td>2.000000</td>\n",
       "    </tr>\n",
       "    <tr>\n",
       "      <th>50%</th>\n",
       "      <td>14.000000</td>\n",
       "      <td>1.000000</td>\n",
       "      <td>0.000000</td>\n",
       "      <td>1.000000</td>\n",
       "      <td>2.000000</td>\n",
       "    </tr>\n",
       "    <tr>\n",
       "      <th>75%</th>\n",
       "      <td>24.000000</td>\n",
       "      <td>1.000000</td>\n",
       "      <td>0.000000</td>\n",
       "      <td>1.000000</td>\n",
       "      <td>2.000000</td>\n",
       "    </tr>\n",
       "    <tr>\n",
       "      <th>max</th>\n",
       "      <td>31.000000</td>\n",
       "      <td>5.000000</td>\n",
       "      <td>4.000000</td>\n",
       "      <td>7.000000</td>\n",
       "      <td>13.000000</td>\n",
       "    </tr>\n",
       "  </tbody>\n",
       "</table>\n",
       "</div>"
      ],
      "text/plain": [
       "              Day  Mild injuries  Serious injuries     Victims  \\\n",
       "count  688.000000     688.000000        688.000000  688.000000   \n",
       "mean    15.052326       1.140988          0.029070    1.170058   \n",
       "std      9.383013       0.828288          0.227058    0.850638   \n",
       "min      1.000000       0.000000          0.000000    0.000000   \n",
       "25%      7.000000       1.000000          0.000000    1.000000   \n",
       "50%     14.000000       1.000000          0.000000    1.000000   \n",
       "75%     24.000000       1.000000          0.000000    1.000000   \n",
       "max     31.000000       5.000000          4.000000    7.000000   \n",
       "\n",
       "       Vehicles involved  \n",
       "count         688.000000  \n",
       "mean            1.965116  \n",
       "std             0.890809  \n",
       "min             1.000000  \n",
       "25%             2.000000  \n",
       "50%             2.000000  \n",
       "75%             2.000000  \n",
       "max            13.000000  "
      ]
     },
     "execution_count": 5,
     "metadata": {},
     "output_type": "execute_result"
    }
   ],
   "source": [
    "csv_holidays.describe()"
   ]
  }
 ],
 "metadata": {
  "kernelspec": {
   "display_name": "Python 3",
   "language": "python",
   "name": "python3"
  },
  "language_info": {
   "codemirror_mode": {
    "name": "ipython",
    "version": 3
   },
   "file_extension": ".py",
   "mimetype": "text/x-python",
   "name": "python",
   "nbconvert_exporter": "python",
   "pygments_lexer": "ipython3",
   "version": "3.8.3"
  }
 },
 "nbformat": 4,
 "nbformat_minor": 4
}
