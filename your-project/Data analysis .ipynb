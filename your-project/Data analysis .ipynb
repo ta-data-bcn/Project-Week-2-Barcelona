{
 "cells": [
  {
   "cell_type": "markdown",
   "metadata": {},
   "source": [
    "# Data analysis"
   ]
  },
  {
   "cell_type": "markdown",
   "metadata": {},
   "source": [
    "#### Importing functions and reading files"
   ]
  },
  {
   "cell_type": "code",
   "execution_count": 1,
   "metadata": {},
   "outputs": [],
   "source": [
    "import pandas as pd"
   ]
  },
  {
   "cell_type": "code",
   "execution_count": 2,
   "metadata": {},
   "outputs": [],
   "source": [
    "results = pd.read_csv(\"../your-project/data/final_db_percentages.csv\", index_col=0)"
   ]
  },
  {
   "cell_type": "markdown",
   "metadata": {},
   "source": [
    "### Analysis of the participation regarding family income index"
   ]
  },
  {
   "cell_type": "code",
   "execution_count": 3,
   "metadata": {
    "scrolled": true
   },
   "outputs": [],
   "source": [
    "participation = results.groupby([\"district_name\",\"participation\", \"index_family_income\"]).max().sort_values(\"participation\", axis=0, ascending=False, inplace=False).reset_index()"
   ]
  },
  {
   "cell_type": "code",
   "execution_count": 4,
   "metadata": {},
   "outputs": [],
   "source": [
    "participation.drop(['percentage_CUP', 'percentage_Cs', 'percentage_PP',\n",
    "       'percentage_ECP', 'percentage_ERC', 'percentage_JxCAT',\n",
    "       'percentage_PSC', 'percentage_VOX', 'electors',\n",
    "       'total_votes'], axis=1, inplace= True)"
   ]
  },
  {
   "cell_type": "code",
   "execution_count": 5,
   "metadata": {},
   "outputs": [
    {
     "data": {
      "text/html": [
       "<div>\n",
       "<style scoped>\n",
       "    .dataframe tbody tr th:only-of-type {\n",
       "        vertical-align: middle;\n",
       "    }\n",
       "\n",
       "    .dataframe tbody tr th {\n",
       "        vertical-align: top;\n",
       "    }\n",
       "\n",
       "    .dataframe thead th {\n",
       "        text-align: right;\n",
       "    }\n",
       "</style>\n",
       "<table border=\"1\" class=\"dataframe\">\n",
       "  <thead>\n",
       "    <tr style=\"text-align: right;\">\n",
       "      <th></th>\n",
       "      <th>district_name</th>\n",
       "      <th>participation</th>\n",
       "      <th>index_family_income</th>\n",
       "    </tr>\n",
       "  </thead>\n",
       "  <tbody>\n",
       "    <tr>\n",
       "      <th>0</th>\n",
       "      <td>Les Corts</td>\n",
       "      <td>78.86</td>\n",
       "      <td>161.00</td>\n",
       "    </tr>\n",
       "    <tr>\n",
       "      <th>1</th>\n",
       "      <td>Sarrià-Sant Gervasi</td>\n",
       "      <td>78.31</td>\n",
       "      <td>179.13</td>\n",
       "    </tr>\n",
       "    <tr>\n",
       "      <th>2</th>\n",
       "      <td>Gràcia</td>\n",
       "      <td>76.14</td>\n",
       "      <td>103.90</td>\n",
       "    </tr>\n",
       "    <tr>\n",
       "      <th>3</th>\n",
       "      <td>Eixample</td>\n",
       "      <td>75.61</td>\n",
       "      <td>122.63</td>\n",
       "    </tr>\n",
       "    <tr>\n",
       "      <th>4</th>\n",
       "      <td>Sant Andreu</td>\n",
       "      <td>74.82</td>\n",
       "      <td>70.37</td>\n",
       "    </tr>\n",
       "    <tr>\n",
       "      <th>5</th>\n",
       "      <td>Sant Martí</td>\n",
       "      <td>74.37</td>\n",
       "      <td>96.70</td>\n",
       "    </tr>\n",
       "    <tr>\n",
       "      <th>6</th>\n",
       "      <td>Horta-Guinardó</td>\n",
       "      <td>71.79</td>\n",
       "      <td>82.53</td>\n",
       "    </tr>\n",
       "    <tr>\n",
       "      <th>7</th>\n",
       "      <td>Sants-Montjuïc</td>\n",
       "      <td>71.17</td>\n",
       "      <td>79.05</td>\n",
       "    </tr>\n",
       "    <tr>\n",
       "      <th>8</th>\n",
       "      <td>Nou Barris</td>\n",
       "      <td>68.04</td>\n",
       "      <td>51.45</td>\n",
       "    </tr>\n",
       "    <tr>\n",
       "      <th>9</th>\n",
       "      <td>Ciutat Vella</td>\n",
       "      <td>59.03</td>\n",
       "      <td>89.07</td>\n",
       "    </tr>\n",
       "  </tbody>\n",
       "</table>\n",
       "</div>"
      ],
      "text/plain": [
       "         district_name  participation  index_family_income\n",
       "0            Les Corts          78.86               161.00\n",
       "1  Sarrià-Sant Gervasi          78.31               179.13\n",
       "2               Gràcia          76.14               103.90\n",
       "3             Eixample          75.61               122.63\n",
       "4          Sant Andreu          74.82                70.37\n",
       "5           Sant Martí          74.37                96.70\n",
       "6       Horta-Guinardó          71.79                82.53\n",
       "7       Sants-Montjuïc          71.17                79.05\n",
       "8           Nou Barris          68.04                51.45\n",
       "9         Ciutat Vella          59.03                89.07"
      ]
     },
     "execution_count": 5,
     "metadata": {},
     "output_type": "execute_result"
    }
   ],
   "source": [
    "participation"
   ]
  },
  {
   "cell_type": "code",
   "execution_count": 6,
   "metadata": {
    "scrolled": true
   },
   "outputs": [
    {
     "data": {
      "text/html": [
       "<div>\n",
       "<style scoped>\n",
       "    .dataframe tbody tr th:only-of-type {\n",
       "        vertical-align: middle;\n",
       "    }\n",
       "\n",
       "    .dataframe tbody tr th {\n",
       "        vertical-align: top;\n",
       "    }\n",
       "\n",
       "    .dataframe thead th {\n",
       "        text-align: right;\n",
       "    }\n",
       "</style>\n",
       "<table border=\"1\" class=\"dataframe\">\n",
       "  <thead>\n",
       "    <tr style=\"text-align: right;\">\n",
       "      <th></th>\n",
       "      <th>participation</th>\n",
       "      <th>index_family_income</th>\n",
       "    </tr>\n",
       "  </thead>\n",
       "  <tbody>\n",
       "    <tr>\n",
       "      <th>participation</th>\n",
       "      <td>1.000000</td>\n",
       "      <td>0.591146</td>\n",
       "    </tr>\n",
       "    <tr>\n",
       "      <th>index_family_income</th>\n",
       "      <td>0.591146</td>\n",
       "      <td>1.000000</td>\n",
       "    </tr>\n",
       "  </tbody>\n",
       "</table>\n",
       "</div>"
      ],
      "text/plain": [
       "                     participation  index_family_income\n",
       "participation             1.000000             0.591146\n",
       "index_family_income       0.591146             1.000000"
      ]
     },
     "execution_count": 6,
     "metadata": {},
     "output_type": "execute_result"
    }
   ],
   "source": [
    "participation.corr()"
   ]
  },
  {
   "cell_type": "markdown",
   "metadata": {},
   "source": [
    "### Analysis of the Class voting reality"
   ]
  },
  {
   "cell_type": "markdown",
   "metadata": {},
   "source": [
    "- Conservative block: Cs,  PP, VOX, JxCAT\n",
    "- Progressist block: CUP-PR, PSOE, ECP-GUANYEM, ERC"
   ]
  },
  {
   "cell_type": "code",
   "execution_count": 7,
   "metadata": {},
   "outputs": [],
   "source": [
    "#Creating columns for each block\n",
    "class_voting = results.copy()\n",
    "class_voting['conservative']=class_voting['percentage_Cs'] + class_voting['percentage_PP'] + class_voting['percentage_VOX'] + class_voting['percentage_JxCAT']\n",
    "class_voting['progressist']=class_voting['percentage_CUP'] + class_voting['percentage_PSC'] + class_voting['percentage_ECP'] + results['percentage_JxCAT']"
   ]
  },
  {
   "cell_type": "code",
   "execution_count": 8,
   "metadata": {},
   "outputs": [],
   "source": [
    "#Assigning a new value to the class_voting analysis\n",
    "class_voting.drop(['electors', 'total_votes',\n",
    "       'participation', 'percentage_CUP', 'percentage_Cs', 'percentage_PP',\n",
    "       'percentage_ECP', 'percentage_ERC', 'percentage_JxCAT',\n",
    "       'percentage_PSC', 'percentage_VOX'], axis=1, inplace= True)"
   ]
  },
  {
   "cell_type": "code",
   "execution_count": 9,
   "metadata": {
    "scrolled": true
   },
   "outputs": [
    {
     "data": {
      "text/html": [
       "<div>\n",
       "<style scoped>\n",
       "    .dataframe tbody tr th:only-of-type {\n",
       "        vertical-align: middle;\n",
       "    }\n",
       "\n",
       "    .dataframe tbody tr th {\n",
       "        vertical-align: top;\n",
       "    }\n",
       "\n",
       "    .dataframe thead th {\n",
       "        text-align: right;\n",
       "    }\n",
       "</style>\n",
       "<table border=\"1\" class=\"dataframe\">\n",
       "  <thead>\n",
       "    <tr style=\"text-align: right;\">\n",
       "      <th></th>\n",
       "      <th>district_name</th>\n",
       "      <th>index_family_income</th>\n",
       "      <th>conservative</th>\n",
       "      <th>progressist</th>\n",
       "    </tr>\n",
       "  </thead>\n",
       "  <tbody>\n",
       "    <tr>\n",
       "      <th>4</th>\n",
       "      <td>Sarrià-Sant Gervasi</td>\n",
       "      <td>179.13</td>\n",
       "      <td>52.31</td>\n",
       "      <td>47.30</td>\n",
       "    </tr>\n",
       "    <tr>\n",
       "      <th>3</th>\n",
       "      <td>Les Corts</td>\n",
       "      <td>161.00</td>\n",
       "      <td>42.95</td>\n",
       "      <td>49.00</td>\n",
       "    </tr>\n",
       "    <tr>\n",
       "      <th>1</th>\n",
       "      <td>Eixample</td>\n",
       "      <td>122.63</td>\n",
       "      <td>34.85</td>\n",
       "      <td>55.78</td>\n",
       "    </tr>\n",
       "    <tr>\n",
       "      <th>5</th>\n",
       "      <td>Gràcia</td>\n",
       "      <td>103.90</td>\n",
       "      <td>30.03</td>\n",
       "      <td>58.26</td>\n",
       "    </tr>\n",
       "    <tr>\n",
       "      <th>9</th>\n",
       "      <td>Sant Martí</td>\n",
       "      <td>96.70</td>\n",
       "      <td>28.21</td>\n",
       "      <td>54.83</td>\n",
       "    </tr>\n",
       "    <tr>\n",
       "      <th>0</th>\n",
       "      <td>Ciutat Vella</td>\n",
       "      <td>89.07</td>\n",
       "      <td>25.64</td>\n",
       "      <td>60.28</td>\n",
       "    </tr>\n",
       "    <tr>\n",
       "      <th>6</th>\n",
       "      <td>Horta-Guinardó</td>\n",
       "      <td>82.53</td>\n",
       "      <td>28.72</td>\n",
       "      <td>55.94</td>\n",
       "    </tr>\n",
       "    <tr>\n",
       "      <th>2</th>\n",
       "      <td>Sants-Montjuïc</td>\n",
       "      <td>79.05</td>\n",
       "      <td>27.53</td>\n",
       "      <td>56.09</td>\n",
       "    </tr>\n",
       "    <tr>\n",
       "      <th>8</th>\n",
       "      <td>Sant Andreu</td>\n",
       "      <td>70.37</td>\n",
       "      <td>27.99</td>\n",
       "      <td>54.76</td>\n",
       "    </tr>\n",
       "    <tr>\n",
       "      <th>7</th>\n",
       "      <td>Nou Barris</td>\n",
       "      <td>51.45</td>\n",
       "      <td>29.05</td>\n",
       "      <td>55.88</td>\n",
       "    </tr>\n",
       "  </tbody>\n",
       "</table>\n",
       "</div>"
      ],
      "text/plain": [
       "         district_name  index_family_income  conservative  progressist\n",
       "4  Sarrià-Sant Gervasi               179.13         52.31        47.30\n",
       "3            Les Corts               161.00         42.95        49.00\n",
       "1             Eixample               122.63         34.85        55.78\n",
       "5               Gràcia               103.90         30.03        58.26\n",
       "9           Sant Martí                96.70         28.21        54.83\n",
       "0         Ciutat Vella                89.07         25.64        60.28\n",
       "6       Horta-Guinardó                82.53         28.72        55.94\n",
       "2       Sants-Montjuïc                79.05         27.53        56.09\n",
       "8          Sant Andreu                70.37         27.99        54.76\n",
       "7           Nou Barris                51.45         29.05        55.88"
      ]
     },
     "execution_count": 9,
     "metadata": {},
     "output_type": "execute_result"
    }
   ],
   "source": [
    "class_voting.sort_values(\"index_family_income\", axis=0, ascending=False, inplace=False)"
   ]
  },
  {
   "cell_type": "code",
   "execution_count": 10,
   "metadata": {
    "scrolled": true
   },
   "outputs": [
    {
     "data": {
      "text/html": [
       "<div>\n",
       "<style scoped>\n",
       "    .dataframe tbody tr th:only-of-type {\n",
       "        vertical-align: middle;\n",
       "    }\n",
       "\n",
       "    .dataframe tbody tr th {\n",
       "        vertical-align: top;\n",
       "    }\n",
       "\n",
       "    .dataframe thead th {\n",
       "        text-align: right;\n",
       "    }\n",
       "</style>\n",
       "<table border=\"1\" class=\"dataframe\">\n",
       "  <thead>\n",
       "    <tr style=\"text-align: right;\">\n",
       "      <th></th>\n",
       "      <th>index_family_income</th>\n",
       "      <th>conservative</th>\n",
       "      <th>progressist</th>\n",
       "    </tr>\n",
       "  </thead>\n",
       "  <tbody>\n",
       "    <tr>\n",
       "      <th>index_family_income</th>\n",
       "      <td>1.000000</td>\n",
       "      <td>0.912992</td>\n",
       "      <td>-0.759607</td>\n",
       "    </tr>\n",
       "    <tr>\n",
       "      <th>conservative</th>\n",
       "      <td>0.912992</td>\n",
       "      <td>1.000000</td>\n",
       "      <td>-0.896661</td>\n",
       "    </tr>\n",
       "    <tr>\n",
       "      <th>progressist</th>\n",
       "      <td>-0.759607</td>\n",
       "      <td>-0.896661</td>\n",
       "      <td>1.000000</td>\n",
       "    </tr>\n",
       "  </tbody>\n",
       "</table>\n",
       "</div>"
      ],
      "text/plain": [
       "                     index_family_income  conservative  progressist\n",
       "index_family_income             1.000000      0.912992    -0.759607\n",
       "conservative                    0.912992      1.000000    -0.896661\n",
       "progressist                    -0.759607     -0.896661     1.000000"
      ]
     },
     "execution_count": 10,
     "metadata": {},
     "output_type": "execute_result"
    }
   ],
   "source": [
    "class_voting.corr()"
   ]
  },
  {
   "cell_type": "markdown",
   "metadata": {},
   "source": [
    "### Analysis of the identitary voting reality"
   ]
  },
  {
   "cell_type": "markdown",
   "metadata": {},
   "source": [
    "- Independentist block: CUP-PR,  JxCAT, ERC\n",
    "- Unpositioned block: ECP-GUANYEM\n",
    "- Unionist block: Cs, PP, VOX, PSOE"
   ]
  },
  {
   "cell_type": "code",
   "execution_count": 11,
   "metadata": {},
   "outputs": [],
   "source": [
    "identitary_voting = results.copy()\n",
    "identitary_voting['independentist_block']=identitary_voting['percentage_CUP'] + identitary_voting['percentage_ERC'] + identitary_voting['percentage_JxCAT']\n",
    "identitary_voting['unionist_block']=identitary_voting['percentage_Cs'] + identitary_voting['percentage_PP']+ identitary_voting['percentage_PSC']+ identitary_voting['percentage_VOX']\n",
    "identitary_voting[\"unpositioned\"]= identitary_voting[\"percentage_ECP\"]"
   ]
  },
  {
   "cell_type": "code",
   "execution_count": 12,
   "metadata": {},
   "outputs": [],
   "source": [
    "identitary_voting.drop(['electors', 'total_votes',\n",
    "       'participation', 'percentage_CUP', 'percentage_Cs', 'percentage_PP',\n",
    "       'percentage_ECP', 'percentage_ERC', 'percentage_JxCAT',\n",
    "       'percentage_PSC', 'percentage_VOX'], axis=1, inplace= True)"
   ]
  },
  {
   "cell_type": "code",
   "execution_count": 13,
   "metadata": {
    "scrolled": true
   },
   "outputs": [
    {
     "data": {
      "text/html": [
       "<div>\n",
       "<style scoped>\n",
       "    .dataframe tbody tr th:only-of-type {\n",
       "        vertical-align: middle;\n",
       "    }\n",
       "\n",
       "    .dataframe tbody tr th {\n",
       "        vertical-align: top;\n",
       "    }\n",
       "\n",
       "    .dataframe thead th {\n",
       "        text-align: right;\n",
       "    }\n",
       "</style>\n",
       "<table border=\"1\" class=\"dataframe\">\n",
       "  <thead>\n",
       "    <tr style=\"text-align: right;\">\n",
       "      <th></th>\n",
       "      <th>district_name</th>\n",
       "      <th>index_family_income</th>\n",
       "      <th>independentist_block</th>\n",
       "      <th>unionist_block</th>\n",
       "      <th>unpositioned</th>\n",
       "    </tr>\n",
       "  </thead>\n",
       "  <tbody>\n",
       "    <tr>\n",
       "      <th>4</th>\n",
       "      <td>Sarrià-Sant Gervasi</td>\n",
       "      <td>179.13</td>\n",
       "      <td>41.75</td>\n",
       "      <td>46.80</td>\n",
       "      <td>8.04</td>\n",
       "    </tr>\n",
       "    <tr>\n",
       "      <th>3</th>\n",
       "      <td>Les Corts</td>\n",
       "      <td>161.00</td>\n",
       "      <td>43.09</td>\n",
       "      <td>43.30</td>\n",
       "      <td>10.12</td>\n",
       "    </tr>\n",
       "    <tr>\n",
       "      <th>1</th>\n",
       "      <td>Eixample</td>\n",
       "      <td>122.63</td>\n",
       "      <td>47.22</td>\n",
       "      <td>34.80</td>\n",
       "      <td>14.11</td>\n",
       "    </tr>\n",
       "    <tr>\n",
       "      <th>5</th>\n",
       "      <td>Gràcia</td>\n",
       "      <td>103.90</td>\n",
       "      <td>51.98</td>\n",
       "      <td>27.95</td>\n",
       "      <td>16.27</td>\n",
       "    </tr>\n",
       "    <tr>\n",
       "      <th>9</th>\n",
       "      <td>Sant Martí</td>\n",
       "      <td>96.70</td>\n",
       "      <td>37.79</td>\n",
       "      <td>40.58</td>\n",
       "      <td>17.26</td>\n",
       "    </tr>\n",
       "    <tr>\n",
       "      <th>0</th>\n",
       "      <td>Ciutat Vella</td>\n",
       "      <td>89.07</td>\n",
       "      <td>36.22</td>\n",
       "      <td>38.63</td>\n",
       "      <td>20.31</td>\n",
       "    </tr>\n",
       "    <tr>\n",
       "      <th>6</th>\n",
       "      <td>Horta-Guinardó</td>\n",
       "      <td>82.53</td>\n",
       "      <td>37.99</td>\n",
       "      <td>40.63</td>\n",
       "      <td>17.20</td>\n",
       "    </tr>\n",
       "    <tr>\n",
       "      <th>2</th>\n",
       "      <td>Sants-Montjuïc</td>\n",
       "      <td>79.05</td>\n",
       "      <td>40.58</td>\n",
       "      <td>37.76</td>\n",
       "      <td>17.64</td>\n",
       "    </tr>\n",
       "    <tr>\n",
       "      <th>8</th>\n",
       "      <td>Sant Andreu</td>\n",
       "      <td>70.37</td>\n",
       "      <td>37.69</td>\n",
       "      <td>40.60</td>\n",
       "      <td>17.56</td>\n",
       "    </tr>\n",
       "    <tr>\n",
       "      <th>7</th>\n",
       "      <td>Nou Barris</td>\n",
       "      <td>51.45</td>\n",
       "      <td>24.38</td>\n",
       "      <td>52.76</td>\n",
       "      <td>18.24</td>\n",
       "    </tr>\n",
       "  </tbody>\n",
       "</table>\n",
       "</div>"
      ],
      "text/plain": [
       "         district_name  index_family_income  independentist_block  \\\n",
       "4  Sarrià-Sant Gervasi               179.13                 41.75   \n",
       "3            Les Corts               161.00                 43.09   \n",
       "1             Eixample               122.63                 47.22   \n",
       "5               Gràcia               103.90                 51.98   \n",
       "9           Sant Martí                96.70                 37.79   \n",
       "0         Ciutat Vella                89.07                 36.22   \n",
       "6       Horta-Guinardó                82.53                 37.99   \n",
       "2       Sants-Montjuïc                79.05                 40.58   \n",
       "8          Sant Andreu                70.37                 37.69   \n",
       "7           Nou Barris                51.45                 24.38   \n",
       "\n",
       "   unionist_block  unpositioned  \n",
       "4           46.80          8.04  \n",
       "3           43.30         10.12  \n",
       "1           34.80         14.11  \n",
       "5           27.95         16.27  \n",
       "9           40.58         17.26  \n",
       "0           38.63         20.31  \n",
       "6           40.63         17.20  \n",
       "2           37.76         17.64  \n",
       "8           40.60         17.56  \n",
       "7           52.76         18.24  "
      ]
     },
     "execution_count": 13,
     "metadata": {},
     "output_type": "execute_result"
    }
   ],
   "source": [
    "identitary_voting.sort_values(\"index_family_income\", axis=0, ascending=False, inplace=False)"
   ]
  },
  {
   "cell_type": "code",
   "execution_count": 14,
   "metadata": {},
   "outputs": [
    {
     "data": {
      "text/html": [
       "<div>\n",
       "<style scoped>\n",
       "    .dataframe tbody tr th:only-of-type {\n",
       "        vertical-align: middle;\n",
       "    }\n",
       "\n",
       "    .dataframe tbody tr th {\n",
       "        vertical-align: top;\n",
       "    }\n",
       "\n",
       "    .dataframe thead th {\n",
       "        text-align: right;\n",
       "    }\n",
       "</style>\n",
       "<table border=\"1\" class=\"dataframe\">\n",
       "  <thead>\n",
       "    <tr style=\"text-align: right;\">\n",
       "      <th></th>\n",
       "      <th>index_family_income</th>\n",
       "      <th>independentist_block</th>\n",
       "      <th>unionist_block</th>\n",
       "      <th>unpositioned</th>\n",
       "    </tr>\n",
       "  </thead>\n",
       "  <tbody>\n",
       "    <tr>\n",
       "      <th>index_family_income</th>\n",
       "      <td>1.000000</td>\n",
       "      <td>0.545509</td>\n",
       "      <td>-0.011329</td>\n",
       "      <td>-0.924690</td>\n",
       "    </tr>\n",
       "    <tr>\n",
       "      <th>independentist_block</th>\n",
       "      <td>0.545509</td>\n",
       "      <td>1.000000</td>\n",
       "      <td>-0.819045</td>\n",
       "      <td>-0.404667</td>\n",
       "    </tr>\n",
       "    <tr>\n",
       "      <th>unionist_block</th>\n",
       "      <td>-0.011329</td>\n",
       "      <td>-0.819045</td>\n",
       "      <td>1.000000</td>\n",
       "      <td>-0.192869</td>\n",
       "    </tr>\n",
       "    <tr>\n",
       "      <th>unpositioned</th>\n",
       "      <td>-0.924690</td>\n",
       "      <td>-0.404667</td>\n",
       "      <td>-0.192869</td>\n",
       "      <td>1.000000</td>\n",
       "    </tr>\n",
       "  </tbody>\n",
       "</table>\n",
       "</div>"
      ],
      "text/plain": [
       "                      index_family_income  independentist_block  \\\n",
       "index_family_income              1.000000              0.545509   \n",
       "independentist_block             0.545509              1.000000   \n",
       "unionist_block                  -0.011329             -0.819045   \n",
       "unpositioned                    -0.924690             -0.404667   \n",
       "\n",
       "                      unionist_block  unpositioned  \n",
       "index_family_income        -0.011329     -0.924690  \n",
       "independentist_block       -0.819045     -0.404667  \n",
       "unionist_block              1.000000     -0.192869  \n",
       "unpositioned               -0.192869      1.000000  "
      ]
     },
     "execution_count": 14,
     "metadata": {},
     "output_type": "execute_result"
    }
   ],
   "source": [
    "identitary_voting.corr()"
   ]
  }
 ],
 "metadata": {
  "kernelspec": {
   "display_name": "Python 3",
   "language": "python",
   "name": "python3"
  },
  "language_info": {
   "codemirror_mode": {
    "name": "ipython",
    "version": 3
   },
   "file_extension": ".py",
   "mimetype": "text/x-python",
   "name": "python",
   "nbconvert_exporter": "python",
   "pygments_lexer": "ipython3",
   "version": "3.8.5"
  }
 },
 "nbformat": 4,
 "nbformat_minor": 4
}
