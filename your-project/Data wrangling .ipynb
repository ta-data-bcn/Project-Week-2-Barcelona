{
 "cells": [
  {
   "cell_type": "markdown",
   "metadata": {},
   "source": [
    "# Data wrangling"
   ]
  },
  {
   "cell_type": "markdown",
   "metadata": {},
   "source": [
    "#### Importing functions and reading files"
   ]
  },
  {
   "cell_type": "code",
   "execution_count": 2,
   "metadata": {},
   "outputs": [],
   "source": [
    "import pandas as pd"
   ]
  },
  {
   "cell_type": "code",
   "execution_count": 4,
   "metadata": {},
   "outputs": [],
   "source": [
    "results = pd.read_csv(\"../your-project/data/2019_novembre_eleccions_generals_sc (2).csv\")\n",
    "family_income = pd.read_csv(\"../your-project/data/2017_distribucio_territorial_renda_familiar (1).csv\")"
   ]
  },
  {
   "cell_type": "markdown",
   "metadata": {},
   "source": [
    "### Data Wrangling election results database"
   ]
  },
  {
   "cell_type": "code",
   "execution_count": 5,
   "metadata": {
    "scrolled": true
   },
   "outputs": [],
   "source": [
    "# Creating pivot table\n",
    "results1 = results.pivot_table(index=[\"Seccio_censal\", \"Codi_districte\", \"Nom_districte\", \"Codi_barri\", \"Nom_barri\", \"Any\"], columns=\"Nombre\", values=\"Camp\")\n",
    "results1 = results1.reset_index()"
   ]
  },
  {
   "cell_type": "code",
   "execution_count": 6,
   "metadata": {},
   "outputs": [],
   "source": [
    "#Deleting useless columns\n",
    "results1.drop([\"Any\", \"I.Fem\", \"IZQP\", \"MÁS PAÍS\", \"PACMA\", 'PCPC', 'PCTC', \"PUM+J\", \"RECORTES CERO-GV\", 'Vots vàlids', 'Blancs', \"Nuls\", 'Seccio_censal'], axis=1, inplace= True)"
   ]
  },
  {
   "cell_type": "code",
   "execution_count": 7,
   "metadata": {},
   "outputs": [],
   "source": [
    "# Renaming column names to English lang\n",
    "col_names = [\"district_code\", \"district_name\", \"neighbourhood_code\",'neighbourhood_name', 'CUP-PR', 'Cs',\n",
    "       'ECP-GUANYEM', 'ERC-SOBIRANISTES', 'electors', 'JxCAT-JUNTS', 'PP',\n",
    "       'PSC-PSOE', 'VOX', 'total_votes']\n",
    "\n",
    "results1.columns = col_names"
   ]
  },
  {
   "cell_type": "code",
   "execution_count": 8,
   "metadata": {},
   "outputs": [],
   "source": [
    "#Arranging column names\n",
    "results1 = results1[['district_code', \"district_name\", \"neighbourhood_code\", 'neighbourhood_name', 'electors', 'total_votes', 'CUP-PR', 'Cs',\n",
    "       'ECP-GUANYEM', 'ERC-SOBIRANISTES', 'JxCAT-JUNTS', 'PP',\n",
    "       'PSC-PSOE', 'VOX']]"
   ]
  },
  {
   "cell_type": "code",
   "execution_count": 9,
   "metadata": {},
   "outputs": [],
   "source": [
    "#Grouping by districts\n",
    "results2 = results1.groupby(['district_code',\"district_name\"]).sum()"
   ]
  },
  {
   "cell_type": "code",
   "execution_count": 10,
   "metadata": {},
   "outputs": [],
   "source": [
    "# Create participation column with total_votes / Electors * 100\n",
    "part = (results2[\"total_votes\"]) / (results2[\"electors\"]) * 100\n",
    "participation = results2[\"participation\"] = part.round(2)"
   ]
  },
  {
   "cell_type": "markdown",
   "metadata": {},
   "source": [
    "### Wrangling family income index dataframe"
   ]
  },
  {
   "cell_type": "code",
   "execution_count": 11,
   "metadata": {},
   "outputs": [],
   "source": [
    "#Deleting useless columns\n",
    "family_income.drop(['Any', 'Nom_Barri', 'Codi_Barri','Població', \"Codi_Districte\"], axis=1, inplace= True)"
   ]
  },
  {
   "cell_type": "code",
   "execution_count": 12,
   "metadata": {},
   "outputs": [],
   "source": [
    "col_names1 = ['district_name', 'index_family_income']\n",
    "family_income.columns = col_names1"
   ]
  },
  {
   "cell_type": "code",
   "execution_count": 13,
   "metadata": {},
   "outputs": [],
   "source": [
    "family_income_grouped = family_income.groupby(['district_name']).mean().round(2)"
   ]
  },
  {
   "cell_type": "markdown",
   "metadata": {},
   "source": [
    "### Merging table with family income index dataset"
   ]
  },
  {
   "cell_type": "code",
   "execution_count": 14,
   "metadata": {},
   "outputs": [],
   "source": [
    "# Merging datasets\n",
    "final_db = results2.merge(right= family_income_grouped, how= \"inner\", left_on=\"district_name\", right_on=\"district_name\")"
   ]
  },
  {
   "cell_type": "code",
   "execution_count": 15,
   "metadata": {},
   "outputs": [],
   "source": [
    "# Arranging columns for final db\n",
    "final_db = final_db.reset_index()\n",
    "final_db = final_db[['district_name', 'electors', 'total_votes', 'index_family_income', \"participation\",'CUP-PR', 'Cs',\n",
    "       'ECP-GUANYEM', 'ERC-SOBIRANISTES', 'JxCAT-JUNTS', 'PP', 'PSC-PSOE',\n",
    "       'VOX']]"
   ]
  },
  {
   "cell_type": "code",
   "execution_count": 16,
   "metadata": {},
   "outputs": [],
   "source": [
    "#Creating columns with percentages\n",
    "percentage_db = final_db[['district_name', 'electors', 'total_votes', 'index_family_income', \"participation\",'CUP-PR', 'Cs',\n",
    "       'ECP-GUANYEM', 'ERC-SOBIRANISTES', 'JxCAT-JUNTS', 'PP', 'PSC-PSOE',\n",
    "       'VOX']]\n",
    "percentage_db['percentage_CUP']=round((percentage_db['CUP-PR']/ percentage_db['total_votes'])*100,2)\n",
    "percentage_db['percentage_Cs']=round((percentage_db['Cs']/ percentage_db['total_votes'])*100,2)\n",
    "percentage_db['percentage_PP']=round((percentage_db['PP']/ percentage_db['total_votes'])*100,2)\n",
    "percentage_db['percentage_ECP']=round((percentage_db['ECP-GUANYEM']/ percentage_db['total_votes'])*100,2)\n",
    "percentage_db['percentage_ERC']=round((percentage_db['ERC-SOBIRANISTES']/ percentage_db['total_votes'])*100,2)\n",
    "percentage_db['percentage_JxCAT']=round((percentage_db['JxCAT-JUNTS']/ percentage_db['total_votes'])*100,2)\n",
    "percentage_db['percentage_PSC']=round((percentage_db['PSC-PSOE']/ percentage_db['total_votes'])*100,2)\n",
    "percentage_db['percentage_VOX']=round((percentage_db['VOX']/ percentage_db['total_votes'])*100,2)\n",
    "\n",
    "#Deleting useless columns \n",
    "percentage_db.drop(['CUP-PR', 'Cs', 'ECP-GUANYEM', 'ERC-SOBIRANISTES',\n",
    "       'JxCAT-JUNTS', 'PP', 'PSC-PSOE', 'VOX'], axis=1, inplace= True)"
   ]
  },
  {
   "cell_type": "markdown",
   "metadata": {},
   "source": [
    "### Exporting files for analysis"
   ]
  },
  {
   "cell_type": "code",
   "execution_count": 18,
   "metadata": {},
   "outputs": [],
   "source": [
    "final_db.to_csv(\"../your-project/data/final_db.csv\")"
   ]
  },
  {
   "cell_type": "code",
   "execution_count": 19,
   "metadata": {},
   "outputs": [],
   "source": [
    "percentage_db.to_csv(\"../your-project/data/final_db_percentages.csv\")"
   ]
  },
  {
   "cell_type": "code",
   "execution_count": null,
   "metadata": {},
   "outputs": [],
   "source": []
  }
 ],
 "metadata": {
  "kernelspec": {
   "display_name": "Python 3",
   "language": "python",
   "name": "python3"
  },
  "language_info": {
   "codemirror_mode": {
    "name": "ipython",
    "version": 3
   },
   "file_extension": ".py",
   "mimetype": "text/x-python",
   "name": "python",
   "nbconvert_exporter": "python",
   "pygments_lexer": "ipython3",
   "version": "3.8.5"
  }
 },
 "nbformat": 4,
 "nbformat_minor": 4
}
