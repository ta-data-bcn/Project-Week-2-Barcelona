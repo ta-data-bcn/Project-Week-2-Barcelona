{
 "cells": [
  {
   "cell_type": "code",
   "execution_count": 1,
   "metadata": {},
   "outputs": [],
   "source": [
    "#Libraries\n",
    "import numpy as np\n",
    "import pandas as pd\n",
    "\n",
    "#Connection to DB\n",
    "from sqlalchemy import create_engine\n",
    "driver = 'mysql+pymysql'\n",
    "ip = 'barcelona-db.cyxhqbnhiohl.eu-west-3.rds.amazonaws.com'\n",
    "username = 'admin'\n",
    "password = 'PercyA2019!'\n",
    "db = 'project2'\n",
    "connection_string  = f'{driver}://{username}:{password}@{ip}/{db}'\n",
    "# Engine & Query\n",
    "engine = create_engine(connection_string)"
   ]
  },
  {
   "cell_type": "code",
   "execution_count": 2,
   "metadata": {},
   "outputs": [],
   "source": [
    "#Step 1 - Load dataframe\n",
    "stg_df = pd.read_csv(\"2018_accidents_vehicles_gu_bcn_.csv\") \n",
    "\n",
    "    "
   ]
  },
  {
   "cell_type": "code",
   "execution_count": 7,
   "metadata": {},
   "outputs": [],
   "source": [
    "#Step 2 - Check Data Types\n",
    "stg_df.dtypes\n",
    "\n",
    "#Step 3 - Rename Problem Column Name\n",
    "stg_df.rename(columns={'Num_postal ':'Num_postal'}, inplace=True)"
   ]
  },
  {
   "cell_type": "code",
   "execution_count": 10,
   "metadata": {},
   "outputs": [],
   "source": [
    "#Step 4 - Remove whitespace in selected columns\n",
    "stg_df['Codi_expedient_clean'] = stg_df.loc[:, 'Codi_expedient'].str.strip()\n",
    "stg_df['Nom_carrer_clean'] = stg_df.loc[:, 'Nom_carrer'].str.strip()"
   ]
  },
  {
   "cell_type": "code",
   "execution_count": 12,
   "metadata": {},
   "outputs": [],
   "source": [
    "col_name = stg_df.columns\n",
    "col_name"
   ]
  },
  {
   "cell_type": "code",
   "execution_count": 18,
   "metadata": {},
   "outputs": [
    {
     "data": {
      "text/plain": [
       "array(['2018S007344', '2018S009617', '2018S008382', ..., '2018S006251',\n",
       "       '2018S006492', '2018S009754'], dtype=object)"
      ]
     },
     "execution_count": 18,
     "metadata": {},
     "output_type": "execute_result"
    }
   ],
   "source": [
    "#Step X - Create 4 new data frames from the raw file\n",
    "accident = stg_data[['Codi_expedient_clean','Codi_carrer','Descripcio_causa_vianant']]\n",
    "accident_datetime = stg_data[['Codi_expedient_clean','Hora_dia','Dia_mes','Mes_any','Any']]\n",
    "accident_location = stg_data[['Codi_expedient_clean','Coordenada_UTM_X','Coordenada_UTM_Y','Longitud','Latitud']]\n",
    "street = stg_data[['Codi_expedient_clean','Nom_carrer_clean','Nom_barri','Nom_districte']]\n"
   ]
  },
  {
   "cell_type": "code",
   "execution_count": null,
   "metadata": {},
   "outputs": [],
   "source": []
  }
 ],
 "metadata": {
  "kernelspec": {
   "display_name": "Python 3",
   "language": "python",
   "name": "python3"
  },
  "language_info": {
   "codemirror_mode": {
    "name": "ipython",
    "version": 3
   },
   "file_extension": ".py",
   "mimetype": "text/x-python",
   "name": "python",
   "nbconvert_exporter": "python",
   "pygments_lexer": "ipython3",
   "version": "3.7.3"
  }
 },
 "nbformat": 4,
 "nbformat_minor": 2
}
