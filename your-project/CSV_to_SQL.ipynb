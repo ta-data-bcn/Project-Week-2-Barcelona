{
 "cells": [
  {
   "cell_type": "code",
   "execution_count": null,
   "metadata": {},
   "outputs": [],
   "source": [
    "#Libraries\n",
    "import numpy as np\n",
    "import pandas as pd\n",
    "\n",
    "#Connection to DB\n",
    "from sqlalchemy import create_engine\n",
    "driver = 'mysql+pymysql'\n",
    "ip = 'barcelona-db.cyxhqbnhiohl.eu-west-3.rds.amazonaws.com'\n",
    "username = 'admin'\n",
    "password = 'PercyA2019!'\n",
    "db = 'project2'\n",
    "connection_string  = f'{driver}://{username}:{password}@{ip}/{db}'\n",
    "# Engine & Query\n",
    "engine = create_engine(connection_string)"
   ]
  },
  {
   "cell_type": "code",
   "execution_count": null,
   "metadata": {},
   "outputs": [],
   "source": [
    "#Step 1 - Load dataframe\n",
    "stg_df = pd.read_csv(\"../datasets/1.-Transportation/2018_accidents_vehicles_gu_bcn_.csv\")    "
   ]
  },
  {
   "cell_type": "code",
   "execution_count": null,
   "metadata": {},
   "outputs": [],
   "source": [
    "#Step 2 - Check Data Types\n",
    "stg_df.dtypes"
   ]
  },
  {
   "cell_type": "code",
   "execution_count": null,
   "metadata": {},
   "outputs": [],
   "source": [
    "#Step 3 - Rename Problem Column Name\n",
    "stg_df.rename(columns={'Num_postal ':'Num_postal'}, inplace=True)"
   ]
  },
  {
   "cell_type": "code",
   "execution_count": null,
   "metadata": {},
   "outputs": [],
   "source": [
    "#Step 4 - Remove whitespace in selected columns\n",
    "stg_df['Codi_expedient_clean'] = stg_df.loc[:, 'Codi_expedient'].str.strip()\n",
    "stg_df['Nom_carrer_clean'] = stg_df.loc[:, 'Nom_carrer'].str.strip()"
   ]
  },
  {
   "cell_type": "code",
   "execution_count": null,
   "metadata": {},
   "outputs": [],
   "source": [
    "# Step X - Create a 'datetime column'\n",
    "stg_df['Date'] = stg_df[['Dia_mes', 'Mes_any', 'Any']].apply(lambda x: str(x.Dia_mes)+ '-' + str(x.Mes_any) + '-' + str(x.Any), axis=1)\n",
    "stg_df['Date'] = stg_df.Date.astype('datetime64[ns]')"
   ]
  },
  {
   "cell_type": "code",
   "execution_count": null,
   "metadata": {},
   "outputs": [],
   "source": [
    "#Step X - Create 4 new data frames from the raw file\n",
    "accident = stg_df[['Codi_expedient_clean','Codi_carrer','Descripcio_causa_vianant']]\n",
    "accident_datetime = stg_df[['Codi_expedient_clean','Hora_dia','Dia_mes','Mes_any','Any', 'Date']]\n",
    "accident_location = stg_df[['Codi_expedient_clean','Coordenada_UTM_X','Coordenada_UTM_Y','Longitud','Latitud']]\n",
    "accident_street = stg_df[['Codi_expedient_clean','Nom_carrer_clean','Nom_barri','Nom_districte']]"
   ]
  },
  {
   "cell_type": "code",
   "execution_count": null,
   "metadata": {},
   "outputs": [],
   "source": [
    "#Step X - Push new DFs to SQL\n",
    "stg_df.to_sql('stg_data', con=engine, if_exists='replace')\n",
    "accident.to_sql('stg_accident', con=engine, if_exists='replace')\n",
    "accident_datetime.to_sql('stg_accident_datetime', con=engine, if_exists='replace')\n",
    "accident_location.to_sql('stg_accident_location', con=engine, if_exists='replace')\n",
    "accident_street.to_sql('stg_street', con=engine, if_exists='replace')"
   ]
  },
  {
   "cell_type": "code",
   "execution_count": null,
   "metadata": {},
   "outputs": [],
   "source": []
  }
 ],
 "metadata": {
  "kernelspec": {
   "display_name": "Python 3",
   "language": "python",
   "name": "python3"
  },
  "language_info": {
   "codemirror_mode": {
    "name": "ipython",
    "version": 3
   },
   "file_extension": ".py",
   "mimetype": "text/x-python",
   "name": "python",
   "nbconvert_exporter": "python",
   "pygments_lexer": "ipython3",
   "version": "3.7.3"
  }
 },
 "nbformat": 4,
 "nbformat_minor": 2
}
