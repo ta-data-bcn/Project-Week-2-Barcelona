{
 "cells": [
  {
   "cell_type": "code",
   "execution_count": 2,
   "metadata": {},
   "outputs": [],
   "source": [
    "import pandas as pd\n",
    "import numpy as np"
   ]
  },
  {
   "cell_type": "code",
   "execution_count": 58,
   "metadata": {},
   "outputs": [],
   "source": [
    "df = pd.read_csv('2018_accidents_vehicles_gu_bcn_.csv')"
   ]
  },
  {
   "cell_type": "code",
   "execution_count": 57,
   "metadata": {},
   "outputs": [
    {
     "data": {
      "text/html": [
       "<div>\n",
       "<style scoped>\n",
       "    .dataframe tbody tr th:only-of-type {\n",
       "        vertical-align: middle;\n",
       "    }\n",
       "\n",
       "    .dataframe tbody tr th {\n",
       "        vertical-align: top;\n",
       "    }\n",
       "\n",
       "    .dataframe thead th {\n",
       "        text-align: right;\n",
       "    }\n",
       "</style>\n",
       "<table border=\"1\" class=\"dataframe\">\n",
       "  <thead>\n",
       "    <tr style=\"text-align: right;\">\n",
       "      <th></th>\n",
       "      <th>Codi_expedient</th>\n",
       "      <th>Codi_districte</th>\n",
       "      <th>Nom_districte</th>\n",
       "      <th>Codi_barri</th>\n",
       "      <th>Nom_barri</th>\n",
       "      <th>Codi_carrer</th>\n",
       "      <th>Nom_carrer</th>\n",
       "      <th>Num_postal</th>\n",
       "      <th>Descripcio_dia_setmana</th>\n",
       "      <th>Dia_setmana</th>\n",
       "      <th>...</th>\n",
       "      <th>Descripcio_tipus_vehicle</th>\n",
       "      <th>Descripcio_model</th>\n",
       "      <th>Descripcio_marca</th>\n",
       "      <th>Descripcio_color</th>\n",
       "      <th>Descripcio_carnet</th>\n",
       "      <th>Antiguitat_carnet</th>\n",
       "      <th>Coordenada_UTM_X</th>\n",
       "      <th>Coordenada_UTM_Y</th>\n",
       "      <th>Longitud</th>\n",
       "      <th>Latitud</th>\n",
       "    </tr>\n",
       "  </thead>\n",
       "  <tbody>\n",
       "    <tr>\n",
       "      <th>0</th>\n",
       "      <td>2018S007344</td>\n",
       "      <td>1</td>\n",
       "      <td>Ciutat Vella</td>\n",
       "      <td>1</td>\n",
       "      <td>el Raval</td>\n",
       "      <td>269108</td>\n",
       "      <td>Rambla                                        ...</td>\n",
       "      <td>1</td>\n",
       "      <td>Diumenge</td>\n",
       "      <td>Dg</td>\n",
       "      <td>...</td>\n",
       "      <td>Turisme</td>\n",
       "      <td>CORDOBA</td>\n",
       "      <td>SEAT</td>\n",
       "      <td>Blanc</td>\n",
       "      <td>B</td>\n",
       "      <td>5</td>\n",
       "      <td>431228.30</td>\n",
       "      <td>4581110.84</td>\n",
       "      <td>2.176455</td>\n",
       "      <td>41.376735</td>\n",
       "    </tr>\n",
       "    <tr>\n",
       "      <th>1</th>\n",
       "      <td>2018S009617</td>\n",
       "      <td>1</td>\n",
       "      <td>Ciutat Vella</td>\n",
       "      <td>1</td>\n",
       "      <td>el Raval</td>\n",
       "      <td>701265</td>\n",
       "      <td>B-10 (Besòs)                                  ...</td>\n",
       "      <td>K110</td>\n",
       "      <td>Dilluns</td>\n",
       "      <td>Dl</td>\n",
       "      <td>...</td>\n",
       "      <td>Turisme</td>\n",
       "      <td>206</td>\n",
       "      <td>PEUGEOT</td>\n",
       "      <td>Blau</td>\n",
       "      <td>B</td>\n",
       "      <td>1</td>\n",
       "      <td>431320.52</td>\n",
       "      <td>4580791.56</td>\n",
       "      <td>2.177594</td>\n",
       "      <td>41.373868</td>\n",
       "    </tr>\n",
       "    <tr>\n",
       "      <th>2</th>\n",
       "      <td>2018S008382</td>\n",
       "      <td>1</td>\n",
       "      <td>Ciutat Vella</td>\n",
       "      <td>2</td>\n",
       "      <td>el Barri Gòtic</td>\n",
       "      <td>34308</td>\n",
       "      <td>Ferran                                        ...</td>\n",
       "      <td>2</td>\n",
       "      <td>Divendres</td>\n",
       "      <td>Dv</td>\n",
       "      <td>...</td>\n",
       "      <td>Camió rígid &gt; 3,5 tones</td>\n",
       "      <td>Desconegut</td>\n",
       "      <td>DAF-HERMANNS</td>\n",
       "      <td>Taronja</td>\n",
       "      <td>C</td>\n",
       "      <td>25</td>\n",
       "      <td>431052.34</td>\n",
       "      <td>4581514.69</td>\n",
       "      <td>2.174305</td>\n",
       "      <td>41.380358</td>\n",
       "    </tr>\n",
       "    <tr>\n",
       "      <th>3</th>\n",
       "      <td>2018S002684</td>\n",
       "      <td>1</td>\n",
       "      <td>Ciutat Vella</td>\n",
       "      <td>2</td>\n",
       "      <td>el Barri Gòtic</td>\n",
       "      <td>55909</td>\n",
       "      <td>Call                                          ...</td>\n",
       "      <td>21</td>\n",
       "      <td>Dilluns</td>\n",
       "      <td>Dl</td>\n",
       "      <td>...</td>\n",
       "      <td>Camió rígid &gt; 3,5 tones</td>\n",
       "      <td>ML140E24 E</td>\n",
       "      <td>IVECO FIAT</td>\n",
       "      <td>Blanc</td>\n",
       "      <td>C</td>\n",
       "      <td>11</td>\n",
       "      <td>431241.33</td>\n",
       "      <td>4581757.56</td>\n",
       "      <td>2.176538</td>\n",
       "      <td>41.382561</td>\n",
       "    </tr>\n",
       "    <tr>\n",
       "      <th>4</th>\n",
       "      <td>2018S004886</td>\n",
       "      <td>1</td>\n",
       "      <td>Ciutat Vella</td>\n",
       "      <td>2</td>\n",
       "      <td>el Barri Gòtic</td>\n",
       "      <td>82901</td>\n",
       "      <td>Colom                                         ...</td>\n",
       "      <td>25</td>\n",
       "      <td>Dimarts</td>\n",
       "      <td>Dm</td>\n",
       "      <td>...</td>\n",
       "      <td>Taxi</td>\n",
       "      <td>TOLEDO</td>\n",
       "      <td>SEAT</td>\n",
       "      <td>Negre/Groc</td>\n",
       "      <td>B</td>\n",
       "      <td>5</td>\n",
       "      <td>431390.44</td>\n",
       "      <td>4581135.49</td>\n",
       "      <td>2.178391</td>\n",
       "      <td>41.376971</td>\n",
       "    </tr>\n",
       "  </tbody>\n",
       "</table>\n",
       "<p>5 rows × 28 columns</p>\n",
       "</div>"
      ],
      "text/plain": [
       "    Codi_expedient  Codi_districte Nom_districte  Codi_barri       Nom_barri  \\\n",
       "0  2018S007344                   1  Ciutat Vella           1        el Raval   \n",
       "1  2018S009617                   1  Ciutat Vella           1        el Raval   \n",
       "2  2018S008382                   1  Ciutat Vella           2  el Barri Gòtic   \n",
       "3  2018S002684                   1  Ciutat Vella           2  el Barri Gòtic   \n",
       "4  2018S004886                   1  Ciutat Vella           2  el Barri Gòtic   \n",
       "\n",
       "   Codi_carrer                                         Nom_carrer Num_postal   \\\n",
       "0       269108  Rambla                                        ...           1   \n",
       "1       701265  B-10 (Besòs)                                  ...  K110         \n",
       "2        34308  Ferran                                        ...           2   \n",
       "3        55909  Call                                          ...          21   \n",
       "4        82901  Colom                                         ...          25   \n",
       "\n",
       "  Descripcio_dia_setmana Dia_setmana  ... Descripcio_tipus_vehicle  \\\n",
       "0               Diumenge          Dg  ...                  Turisme   \n",
       "1                Dilluns          Dl  ...                  Turisme   \n",
       "2              Divendres          Dv  ...  Camió rígid > 3,5 tones   \n",
       "3                Dilluns          Dl  ...  Camió rígid > 3,5 tones   \n",
       "4                Dimarts          Dm  ...                     Taxi   \n",
       "\n",
       "   Descripcio_model  Descripcio_marca Descripcio_color  Descripcio_carnet  \\\n",
       "0           CORDOBA              SEAT            Blanc                  B   \n",
       "1               206           PEUGEOT             Blau                  B   \n",
       "2        Desconegut      DAF-HERMANNS          Taronja                  C   \n",
       "3        ML140E24 E        IVECO FIAT            Blanc                  C   \n",
       "4            TOLEDO              SEAT       Negre/Groc                  B   \n",
       "\n",
       "   Antiguitat_carnet Coordenada_UTM_X Coordenada_UTM_Y  Longitud    Latitud  \n",
       "0                  5        431228.30       4581110.84  2.176455  41.376735  \n",
       "1                  1        431320.52       4580791.56  2.177594  41.373868  \n",
       "2                 25        431052.34       4581514.69  2.174305  41.380358  \n",
       "3                 11        431241.33       4581757.56  2.176538  41.382561  \n",
       "4                  5        431390.44       4581135.49  2.178391  41.376971  \n",
       "\n",
       "[5 rows x 28 columns]"
      ]
     },
     "execution_count": 57,
     "metadata": {},
     "output_type": "execute_result"
    }
   ],
   "source": [
    "df.head()"
   ]
  },
  {
   "cell_type": "code",
   "execution_count": 37,
   "metadata": {},
   "outputs": [],
   "source": [
    "func = lambda x: x.strip()"
   ]
  },
  {
   "cell_type": "code",
   "execution_count": 45,
   "metadata": {},
   "outputs": [],
   "source": [
    "df_clean = df.loc[:, 'Nom_carrer'].str.strip()"
   ]
  },
  {
   "cell_type": "code",
   "execution_count": 41,
   "metadata": {},
   "outputs": [
    {
     "data": {
      "text/plain": [
       "0          Rambla\n",
       "1    B-10 (Besòs)\n",
       "2          Ferran\n",
       "3            Call\n",
       "4           Colom\n",
       "Name: Nom_carrer, dtype: object"
      ]
     },
     "execution_count": 41,
     "metadata": {},
     "output_type": "execute_result"
    }
   ],
   "source": [
    "df.loc[:, 'Nom_carrer'].apply(func).head()\n"
   ]
  },
  {
   "cell_type": "code",
   "execution_count": 28,
   "metadata": {},
   "outputs": [],
   "source": [
    "bla = 'asdsd'"
   ]
  },
  {
   "cell_type": "code",
   "execution_count": 29,
   "metadata": {},
   "outputs": [
    {
     "data": {
      "text/plain": [
       "<function str.strip(chars=None, /)>"
      ]
     },
     "execution_count": 29,
     "metadata": {},
     "output_type": "execute_result"
    }
   ],
   "source": [
    "bla.strip"
   ]
  },
  {
   "cell_type": "code",
   "execution_count": 46,
   "metadata": {},
   "outputs": [
    {
     "data": {
      "text/plain": [
       "0                               Rambla\n",
       "1                         B-10 (Besòs)\n",
       "2                               Ferran\n",
       "3                                 Call\n",
       "4                                Colom\n",
       "5                                Colom\n",
       "6                                Colom\n",
       "7                               Ferran\n",
       "8                     B-10 (Llobregat)\n",
       "9                     B-10 (Llobregat)\n",
       "10                               Colom\n",
       "11                               Colom\n",
       "12                           Mercaders\n",
       "13                      Lluís Companys\n",
       "14                     Sardenya / Casp\n",
       "15                     Sardenya / Casp\n",
       "16                     Sardenya / Casp\n",
       "17            Corts Catalanes / Nàpols\n",
       "18            Corts Catalanes / Nàpols\n",
       "19                     Aragó / Sicília\n",
       "20                     Aragó / Sicília\n",
       "21                              Tetuan\n",
       "22                              Tetuan\n",
       "23                      Marina / Aragó\n",
       "24                      Marina / Aragó\n",
       "25                      Aragó / Marina\n",
       "26                      Aragó / Marina\n",
       "27                             Padilla\n",
       "28                             Padilla\n",
       "29                     València / Font\n",
       "                     ...              \n",
       "19049        Prim / Cristóbal de Moura\n",
       "19050            Diagonal / Espronceda\n",
       "19051            Diagonal / Espronceda\n",
       "19052                         Diagonal\n",
       "19053                         Diagonal\n",
       "19054    Bac de Roda / Corts Catalanes\n",
       "19055    Bac de Roda / Corts Catalanes\n",
       "19056     Corts Catalanes / Espronceda\n",
       "19057     Corts Catalanes / Espronceda\n",
       "19058           Guipúscoa / Espronceda\n",
       "19059           Guipúscoa / Espronceda\n",
       "19060                           Huelva\n",
       "19061                           Huelva\n",
       "19062      Guipúscoa / Julián Besteiro\n",
       "19063      Guipúscoa / Julián Besteiro\n",
       "19064            Cantàbria / Santander\n",
       "19065            Cantàbria / Santander\n",
       "19066             Fernando de los Ríos\n",
       "19067             Fernando de los Ríos\n",
       "19068             Fernando de los Ríos\n",
       "19069             Fernando de los Ríos\n",
       "19070             Fernando de los Ríos\n",
       "19071             Fernando de los Ríos\n",
       "19072             Fernando de los Ríos\n",
       "19073             Fernando de los Ríos\n",
       "19074             Fernando de los Ríos\n",
       "19075                        Guipúscoa\n",
       "19076                        Guipúscoa\n",
       "19077                        Guipúscoa\n",
       "19078              Guipúscoa / Maresme\n",
       "Name: Nom_carrer, Length: 19079, dtype: object"
      ]
     },
     "execution_count": 46,
     "metadata": {},
     "output_type": "execute_result"
    }
   ],
   "source": [
    "df.loc[:, 'Nom_carrer'].str.strip()"
   ]
  },
  {
   "cell_type": "code",
   "execution_count": 51,
   "metadata": {},
   "outputs": [],
   "source": [
    "# Libraries\n",
    "import pandas as pd\n",
    "from sqlalchemy import create_engine\n",
    "# Connection Data\n",
    "driver = 'mysql+pymysql'\n",
    "ip = 'barcelona-db.cyxhqbnhiohl.eu-west-3.rds.amazonaws.com'\n",
    "username = 'admin'\n",
    "password = 'PercyA2019!'\n",
    "db = 'test'\n",
    "connection_string  = f'{driver}://{username}:{password}@{ip}/{db}'\n",
    "# Engine & Query\n",
    "engine = create_engine(connection_string)\n",
    "query = 'SELECT * FROM 14975_onwards'\n",
    "# Database Request\n",
    "test = pd.read_sql(query,engine)\n",
    "\n"
   ]
  },
  {
   "cell_type": "code",
   "execution_count": 56,
   "metadata": {},
   "outputs": [
    {
     "data": {
      "text/html": [
       "<div>\n",
       "<style scoped>\n",
       "    .dataframe tbody tr th:only-of-type {\n",
       "        vertical-align: middle;\n",
       "    }\n",
       "\n",
       "    .dataframe tbody tr th {\n",
       "        vertical-align: top;\n",
       "    }\n",
       "\n",
       "    .dataframe thead th {\n",
       "        text-align: right;\n",
       "    }\n",
       "</style>\n",
       "<table border=\"1\" class=\"dataframe\">\n",
       "  <thead>\n",
       "    <tr style=\"text-align: right;\">\n",
       "      <th></th>\n",
       "      <th>Column_1</th>\n",
       "      <th>Column_2</th>\n",
       "      <th>Column_3</th>\n",
       "      <th>Column_4</th>\n",
       "      <th>Column_5</th>\n",
       "      <th>Column_6</th>\n",
       "      <th>Column_7</th>\n",
       "      <th>Column_8</th>\n",
       "      <th>Column_9</th>\n",
       "      <th>Column_10</th>\n",
       "      <th>Column_11</th>\n",
       "      <th>Column_12</th>\n",
       "      <th>Column_13</th>\n",
       "    </tr>\n",
       "  </thead>\n",
       "  <tbody>\n",
       "  </tbody>\n",
       "</table>\n",
       "</div>"
      ],
      "text/plain": [
       "Empty DataFrame\n",
       "Columns: [Column_1, Column_2, Column_3, Column_4, Column_5, Column_6, Column_7, Column_8, Column_9, Column_10, Column_11, Column_12, Column_13]\n",
       "Index: []"
      ]
     },
     "execution_count": 56,
     "metadata": {},
     "output_type": "execute_result"
    }
   ],
   "source": [
    "test"
   ]
  },
  {
   "cell_type": "code",
   "execution_count": 61,
   "metadata": {},
   "outputs": [],
   "source": [
    "df.to_sql('test_pan2sql3', con=engine, if_exists='replace', index_label='id')"
   ]
  },
  {
   "cell_type": "code",
   "execution_count": 60,
   "metadata": {},
   "outputs": [],
   "source": [
    "df.rename(columns={'Num_postal ':'Num_postal'}, inplace=True)"
   ]
  },
  {
   "cell_type": "code",
   "execution_count": 64,
   "metadata": {},
   "outputs": [],
   "source": [
    "# Engine & Query\n",
    "engine = create_engine(connection_string)\n",
    "query = \"select * from test_pan2sql3 where Descripcio_tipus_vehicle in ('Autobús', 'Bicicleta', 'Ciclomotor', 'Furgoneta', 'Motocicleta', 'Taxi', 'Turisme')\"\n",
    "\n",
    "\n",
    "\n",
    "\n",
    "# Database Request\n",
    "selected_rows = pd.read_sql(query,engine)\n",
    "\n",
    "\n"
   ]
  }
 ],
 "metadata": {
  "kernelspec": {
   "display_name": "Python 3",
   "language": "python",
   "name": "python3"
  },
  "language_info": {
   "codemirror_mode": {
    "name": "ipython",
    "version": 3
   },
   "file_extension": ".py",
   "mimetype": "text/x-python",
   "name": "python",
   "nbconvert_exporter": "python",
   "pygments_lexer": "ipython3",
   "version": "3.7.3"
  }
 },
 "nbformat": 4,
 "nbformat_minor": 2
}
